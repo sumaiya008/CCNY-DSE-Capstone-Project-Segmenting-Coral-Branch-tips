{
 "cells": [
  {
   "cell_type": "code",
   "execution_count": 7,
   "metadata": {},
   "outputs": [],
   "source": [
    "import os\n",
    "import numpy as np\n",
    "import random\n",
    "import pickle\n",
    "from google.colab import drive\n",
    "import matplotlib.pyplot as plt\n",
    "from sklearn.model_selection import train_test_split\n",
    "from keras.preprocessing.image import ImageDataGenerator"
   ]
  },
  {
   "cell_type": "code",
   "execution_count": 3,
   "metadata": {},
   "outputs": [],
   "source": [
    "# Define the data augmentation parameters with increased intensity\n",
    "datagen = ImageDataGenerator(\n",
    "    rotation_range=30,           \n",
    "    zoom_range=0.2,              \n",
    "    width_shift_range=0.2,       \n",
    "    height_shift_range=0.2,      \n",
    "    shear_range=0.2,             \n",
    "    brightness_range=[0.2, 2.0],  \n",
    "    fill_mode='nearest',         \n",
    "    rescale=1.0 / 255     \n",
    ")\n"
   ]
  },
  {
   "cell_type": "markdown",
   "metadata": {},
   "source": [
    "## Augmentation for Classification"
   ]
  },
  {
   "cell_type": "code",
   "execution_count": 8,
   "metadata": {},
   "outputs": [
    {
     "name": "stdout",
     "output_type": "stream",
     "text": [
      "X_train shape: (936, 224, 224, 3)\n",
      "y_train shape: (936,)\n",
      "X_valid shape: (235, 224, 224, 3)\n",
      "y_valid shape: (235,)\n",
      "X_test shape: (293, 224, 224, 3)\n",
      "y_test shape: (293,)\n"
     ]
    }
   ],
   "source": [
    "with open('../data/external/data_vgg16.pkl','rb') as f:\n",
    "    X_train,y_train,X_test,y_test, X_valid, y_valid = pickle.load(f)\n",
    "    \n",
    "# Print the shapes to verify\n",
    "print(f\"X_train shape: {X_train.shape}\")\n",
    "print(f\"y_train shape: {y_train.shape}\")\n",
    "print(f\"X_valid shape: {X_valid.shape}\")\n",
    "print(f\"y_valid shape: {y_valid.shape}\")\n",
    "print(f\"X_test shape: {X_test.shape}\")\n",
    "print(f\"y_test shape: {y_test.shape}\")"
   ]
  },
  {
   "cell_type": "code",
   "execution_count": 9,
   "metadata": {},
   "outputs": [],
   "source": [
    "# Apply data augmentation to the training set\n",
    "X_train_augmented = []\n",
    "y_train_augmented = []\n",
    "for i in range(X_train.shape[0]):\n",
    "    img = X_train[i]\n",
    "    label = y_train[i]\n",
    "    for j in range(7):\n",
    "        x_augmented = datagen.random_transform(img)\n",
    "        X_train_augmented.append(x_augmented)\n",
    "        y_train_augmented.append(label)"
   ]
  },
  {
   "cell_type": "code",
   "execution_count": null,
   "metadata": {},
   "outputs": [],
   "source": [
    "# Apply data augmentation to the test set\n",
    "X_test_augmented = []\n",
    "y_test_augmented = []\n",
    "for i in range(X_test.shape[0]):\n",
    "    img = X_test[i]\n",
    "    label = y_test[i]\n",
    "    for j in range(7):\n",
    "        x_augmented = datagen.random_transform(img)\n",
    "        X_test_augmented.append(x_augmented)\n",
    "        y_test_augmented.append(label)"
   ]
  },
  {
   "cell_type": "code",
   "execution_count": null,
   "metadata": {},
   "outputs": [],
   "source": [
    "# Apply data augmentation to the validation set\n",
    "X_valid_augmented = []\n",
    "y_valid_augmented = []\n",
    "for i in range(X_valid.shape[0]):\n",
    "    img = X_valid[i]\n",
    "    label = y_valid[i]\n",
    "    for j in range(7):\n",
    "        x_augmented = datagen.random_transform(img)\n",
    "        X_valid_augmented.append(x_augmented)\n",
    "        y_valid_augmented.append(label)"
   ]
  },
  {
   "cell_type": "code",
   "execution_count": null,
   "metadata": {},
   "outputs": [],
   "source": [
    "# Convert the augmented data to numpy arrays\n",
    "X_train_augmented = np.array(X_train_augmented)\n",
    "y_train_augmented = np.array(y_train_augmented)\n",
    "X_test_augmented = np.array(X_test_augmented)\n",
    "y_test_augmented = np.array(y_test_augmented)\n",
    "X_valid_augmented = np.array(X_valid_augmented)\n",
    "y_valid_augmented = np.array(y_valid_augmented)"
   ]
  },
  {
   "cell_type": "code",
   "execution_count": null,
   "metadata": {},
   "outputs": [
    {
     "name": "stdout",
     "output_type": "stream",
     "text": [
      "X_train_combined shape: (7488, 224, 224, 3)\n",
      "y_train_combined shape: (7488,)\n",
      "X_test_combined shape: (2344, 224, 224, 3)\n",
      "y_test_combined shape: (2344,)\n",
      "X_valid_combined shape: (1880, 224, 224, 3)\n",
      "y_valid_combined shape: (1880,)\n"
     ]
    }
   ],
   "source": [
    "# Combine the data\n",
    "X_train_combined = np.concatenate((X_train, X_train_augmented), axis=0)\n",
    "y_train_combined = np.concatenate((y_train, y_train_augmented), axis=0)\n",
    "X_test_combined = np.concatenate((X_test, X_test_augmented), axis=0)\n",
    "y_test_combined = np.concatenate((y_test, y_test_augmented), axis=0)\n",
    "X_valid_combined = np.concatenate((X_valid, X_valid_augmented), axis=0)\n",
    "y_valid_combined = np.concatenate((y_valid, y_valid_augmented), axis=0)\n",
    "\n",
    "# Check the shape of the combined data\n",
    "print(f'X_train_combined shape: {X_train_combined.shape}')\n",
    "print(f'y_train_combined shape: {y_train_combined.shape}')\n",
    "print(f'X_test_combined shape: {X_test_combined.shape}')\n",
    "print(f'y_test_combined shape: {y_test_combined.shape}')\n",
    "print(f'X_valid_combined shape: {X_valid_combined.shape}')\n",
    "print(f'y_valid_combined shape: {y_valid_combined.shape}')"
   ]
  },
  {
   "cell_type": "code",
   "execution_count": null,
   "metadata": {},
   "outputs": [],
   "source": [
    "# Save the augmented data to files\n",
    "np.savez_compressed('../data/external/coral_augmented_vgg16.npz',\n",
    "                    X_train=X_train_combined,\n",
    "                    y_train=y_train_combined,\n",
    "                    X_test=X_test_combined,\n",
    "                    y_test=y_test_combined,\n",
    "                    X_valid=X_valid_combined,\n",
    "                    y_valid=y_valid_combined)"
   ]
  },
  {
   "cell_type": "code",
   "execution_count": null,
   "metadata": {},
   "outputs": [],
   "source": []
  },
  {
   "cell_type": "markdown",
   "metadata": {},
   "source": [
    "## Augmentation for segmentation"
   ]
  },
  {
   "cell_type": "code",
   "execution_count": 23,
   "metadata": {},
   "outputs": [
    {
     "name": "stdout",
     "output_type": "stream",
     "text": [
      "X_train shape: (936, 224, 224, 3)\n",
      "y_train shape: (936, 224, 224)\n",
      "X_valid shape: (235, 224, 224, 3)\n",
      "y_valid shape: (235, 224, 224)\n",
      "X_test shape: (293, 224, 224, 3)\n",
      "y_test shape: (293, 224, 224)\n"
     ]
    }
   ],
   "source": [
    "with open('../data/external/data_mask.pkl','rb') as f:\n",
    "    X_train,y_train,X_test,y_test, X_valid, y_valid = pickle.load(f)\n",
    "    \n",
    "# Print the shapes to verify\n",
    "print(f\"X_train shape: {X_train.shape}\")\n",
    "print(f\"y_train shape: {y_train.shape}\")\n",
    "print(f\"X_valid shape: {X_valid.shape}\")\n",
    "print(f\"y_valid shape: {y_valid.shape}\")\n",
    "print(f\"X_test shape: {X_test.shape}\")\n",
    "print(f\"y_test shape: {y_test.shape}\")"
   ]
  },
  {
   "cell_type": "code",
   "execution_count": 24,
   "metadata": {},
   "outputs": [],
   "source": [
    "# Define the data augmentation parameters\n",
    "datagen = ImageDataGenerator(\n",
    "    rotation_range=10,\n",
    "    zoom_range=0.1,\n",
    "    width_shift_range=0.05,\n",
    "    height_shift_range=0.05,\n",
    "    shear_range=0.1,\n",
    "    brightness_range=[0.5, 1],\n",
    "    fill_mode='nearest'\n",
    "    #rescale=1.0 / 255  # Add normalization here\n",
    ")"
   ]
  },
  {
   "cell_type": "code",
   "execution_count": 25,
   "metadata": {},
   "outputs": [],
   "source": [
    "# Apply data augmentation to the training set\n",
    "X_train_augmented = []\n",
    "y_train_augmented = []\n",
    "for i in range(X_train.shape[0]):\n",
    "    img = X_train[i]\n",
    "    label = y_train[i]\n",
    "    # Reshape mask to (224, 224, 1) for compatibility with ImageDataGenerator\n",
    "    label = np.expand_dims(label, axis=-1)\n",
    "    for j in range(7):\n",
    "        augmented_data = datagen.random_transform(np.concatenate((img, label), axis=-1))\n",
    "        # Separate augmented image and mask\n",
    "        x_augmented = augmented_data[:, :, :3]\n",
    "        y_augmented = augmented_data[:, :, 3]\n",
    "\n",
    "        X_train_augmented.append(x_augmented)\n",
    "        y_train_augmented.append(y_augmented)"
   ]
  },
  {
   "cell_type": "code",
   "execution_count": 26,
   "metadata": {},
   "outputs": [],
   "source": [
    "# Apply data augmentation to the test set\n",
    "X_test_augmented = []\n",
    "y_test_augmented = []\n",
    "for i in range(X_test.shape[0]):\n",
    "    img = X_test[i]\n",
    "    label = y_test[i]\n",
    "    # Reshape mask to (224, 224, 1) for compatibility with ImageDataGenerator\n",
    "    label = np.expand_dims(label, axis=-1)\n",
    "    for j in range(7):\n",
    "        augmented_data = datagen.random_transform(np.concatenate((img, label), axis=-1))\n",
    "        # Separate augmented image and mask\n",
    "        x_augmented = augmented_data[:, :, :3]\n",
    "        y_augmented = augmented_data[:, :, 3]\n",
    "\n",
    "        X_test_augmented.append(x_augmented)\n",
    "        y_test_augmented.append(y_augmented)"
   ]
  },
  {
   "cell_type": "code",
   "execution_count": 27,
   "metadata": {},
   "outputs": [],
   "source": [
    "# Apply data augmentation to the test set\n",
    "X_valid_augmented = []\n",
    "y_valid_augmented = []\n",
    "for i in range(X_valid.shape[0]):\n",
    "    img = X_valid[i]\n",
    "    label = y_valid[i]\n",
    "    # Reshape mask to (224, 224, 1) for compatibility with ImageDataGenerator\n",
    "    label = np.expand_dims(label, axis=-1)\n",
    "    for j in range(7):\n",
    "        augmented_data = datagen.random_transform(np.concatenate((img, label), axis=-1))\n",
    "        # Separate augmented image and mask\n",
    "        x_augmented = augmented_data[:, :, :3]\n",
    "        y_augmented = augmented_data[:, :, 3]\n",
    "\n",
    "        X_valid_augmented.append(x_augmented)\n",
    "        y_valid_augmented.append(y_augmented)"
   ]
  },
  {
   "cell_type": "code",
   "execution_count": 28,
   "metadata": {},
   "outputs": [],
   "source": [
    "# Convert the augmented data to numpy arrays\n",
    "X_train_augmented = np.array(X_train_augmented)\n",
    "y_train_augmented = np.array(y_train_augmented)\n",
    "X_test_augmented = np.array(X_test_augmented)\n",
    "y_test_augmented = np.array(y_test_augmented)\n",
    "X_valid_augmented = np.array(X_valid_augmented)\n",
    "y_valid_augmented = np.array(y_valid_augmented)"
   ]
  },
  {
   "cell_type": "code",
   "execution_count": 29,
   "metadata": {},
   "outputs": [
    {
     "name": "stdout",
     "output_type": "stream",
     "text": [
      "X_train_combined shape: (7488, 224, 224, 3)\n",
      "y_train_combined shape: (7488, 224, 224)\n",
      "X_test_combined shape: (2344, 224, 224, 3)\n",
      "y_test_combined shape: (2344, 224, 224)\n",
      "X_valid_combined shape: (1880, 224, 224, 3)\n",
      "y_valid_combined shape: (1880, 224, 224)\n"
     ]
    }
   ],
   "source": [
    "# Combine the data\n",
    "X_train_combined = np.concatenate((X_train, X_train_augmented), axis=0)\n",
    "y_train_combined = np.concatenate((y_train, y_train_augmented), axis=0)\n",
    "X_test_combined = np.concatenate((X_test, X_test_augmented), axis=0)\n",
    "y_test_combined = np.concatenate((y_test, y_test_augmented), axis=0)\n",
    "X_valid_combined = np.concatenate((X_valid, X_valid_augmented), axis=0)\n",
    "y_valid_combined = np.concatenate((y_valid, y_valid_augmented), axis=0)\n",
    "\n",
    "# Check the shape of the combined data\n",
    "print(f'X_train_combined shape: {X_train_combined.shape}')\n",
    "print(f'y_train_combined shape: {y_train_combined.shape}')\n",
    "print(f'X_test_combined shape: {X_test_combined.shape}')\n",
    "print(f'y_test_combined shape: {y_test_combined.shape}')\n",
    "print(f'X_valid_combined shape: {X_valid_combined.shape}')\n",
    "print(f'y_valid_combined shape: {y_valid_combined.shape}')"
   ]
  },
  {
   "cell_type": "code",
   "execution_count": 30,
   "metadata": {},
   "outputs": [],
   "source": [
    "# Save the augmented data to files(data without annotation box)\n",
    "np.savez_compressed('../data/external/coral_augmented_mask.npz',\n",
    "                    X_train=X_train_combined,\n",
    "                    y_train=y_train_combined,\n",
    "                    X_test=X_test_combined,\n",
    "                    y_test=y_test_combined,\n",
    "                    X_valid=X_valid_combined,\n",
    "                    y_valid=y_valid_combined)"
   ]
  },
  {
   "cell_type": "code",
   "execution_count": null,
   "metadata": {},
   "outputs": [
    {
     "name": "stdout",
     "output_type": "stream",
     "text": [
      "X_train shape: (7488, 224, 224, 3)\n",
      "y_train shape: (7488, 224, 224)\n",
      "X_valid shape: (1880, 224, 224, 3)\n",
      "y_valid shape: (1880, 224, 224)\n",
      "X_test shape: (2344, 224, 224, 3)\n",
      "y_test shape: (2344, 224, 224)\n"
     ]
    }
   ],
   "source": [
    "# Load the augmented data from the saved file\n",
    "data = np.load('../data/external/coral_augmented_mask.npz')\n",
    "\n",
    "# Access the arrays from the loaded data\n",
    "X_train = data['X_train']\n",
    "y_train = data['y_train']\n",
    "X_test = data['X_test']\n",
    "y_test = data['y_test']\n",
    "X_valid = data['X_valid']\n",
    "y_valid = data['y_valid']\n",
    "\n",
    "# Print the shapes to verify\n",
    "print(f\"X_train shape: {X_train.shape}\")\n",
    "print(f\"y_train shape: {y_train.shape}\")\n",
    "print(f\"X_valid shape: {X_valid.shape}\")\n",
    "print(f\"y_valid shape: {y_valid.shape}\")\n",
    "print(f\"X_test shape: {X_test.shape}\")\n",
    "print(f\"y_test shape: {y_test.shape}\")"
   ]
  },
  {
   "cell_type": "code",
   "execution_count": null,
   "metadata": {},
   "outputs": [],
   "source": []
  },
  {
   "cell_type": "code",
   "execution_count": null,
   "metadata": {},
   "outputs": [],
   "source": []
  }
 ],
 "metadata": {
  "kernelspec": {
   "display_name": "tensorflow_tf",
   "language": "python",
   "name": "python3"
  },
  "language_info": {
   "codemirror_mode": {
    "name": "ipython",
    "version": 3
   },
   "file_extension": ".py",
   "mimetype": "text/x-python",
   "name": "python",
   "nbconvert_exporter": "python",
   "pygments_lexer": "ipython3",
   "version": "3.9.16"
  }
 },
 "nbformat": 4,
 "nbformat_minor": 2
}
