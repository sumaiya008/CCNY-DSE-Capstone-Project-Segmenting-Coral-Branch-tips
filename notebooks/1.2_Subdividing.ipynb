{
  "nbformat": 4,
  "nbformat_minor": 0,
  "metadata": {
    "colab": {
      "provenance": [],
      "authorship_tag": "ABX9TyODI2dtKxrhLF5Ca2cb7mUh",
      "include_colab_link": true
    },
    "kernelspec": {
      "name": "python3",
      "display_name": "Python 3"
    },
    "language_info": {
      "name": "python"
    }
  },
  "cells": [
    {
      "cell_type": "markdown",
      "metadata": {
        "id": "view-in-github",
        "colab_type": "text"
      },
      "source": [
        "<a href=\"https://colab.research.google.com/github/sumaiya008/CCNY-DSE-Capstone-Project-Segmenting-Coral-Branch-tips/blob/main/notebooks/1.2_Subdividing.ipynb\" target=\"_parent\"><img src=\"https://colab.research.google.com/assets/colab-badge.svg\" alt=\"Open In Colab\"/></a>"
      ]
    },
    {
      "cell_type": "code",
      "execution_count": 1,
      "metadata": {
        "id": "NsdWTF0dIywv"
      },
      "outputs": [],
      "source": [
        "import os\n",
        "import cv2\n",
        "import numpy as np\n",
        "import random\n",
        "import gdown\n",
        "import pickle\n",
        "from google.colab import drive\n",
        "import matplotlib.pyplot as plt\n",
        "from sklearn.model_selection import train_test_split\n",
        "from keras.preprocessing.image import ImageDataGenerator"
      ]
    },
    {
      "cell_type": "code",
      "source": [
        "drive.mount('/content/drive')"
      ],
      "metadata": {
        "colab": {
          "base_uri": "https://localhost:8080/"
        },
        "id": "dU3E7y5DI4DZ",
        "outputId": "f17246aa-3589-45f1-c4ad-6008409104e1"
      },
      "execution_count": 2,
      "outputs": [
        {
          "output_type": "stream",
          "name": "stdout",
          "text": [
            "Mounted at /content/drive\n"
          ]
        }
      ]
    },
    {
      "cell_type": "code",
      "source": [
        "# Define the path to your image folders\n",
        "image_folder_path = \"/content/drive/MyDrive/Capstone/Coral_images/\"\n",
        "\n",
        "# Initialize lists to store images and labels\n",
        "images = []\n",
        "labels = []\n",
        "\n",
        "# Iterate through each folder in the main directory\n",
        "for folder_name in os.listdir(image_folder_path):\n",
        "    folder_path = os.path.join(image_folder_path, folder_name)\n",
        "\n",
        "    # Check if the item in the main directory is a folder\n",
        "    if os.path.isdir(folder_path):\n",
        "        # Iterate through each image file in the subfolder\n",
        "        for image_filename in os.listdir(folder_path):\n",
        "            image_path = os.path.join(folder_path, image_filename)\n",
        "\n",
        "            # Load the image using OpenCV\n",
        "            image = cv2.imread(image_path)\n",
        "\n",
        "            # Check if the image was loaded successfully\n",
        "            if image is not None:\n",
        "                # Resize the image to 1080x1080 if needed\n",
        "                if image.shape[0] >= 1080 and image.shape[1] >= 1080:\n",
        "                    image = cv2.resize(image, (1080, 1080))\n",
        "                else:\n",
        "                    print(f\"Image dimensions are too small for resizing: {image_path}\")\n",
        "\n",
        "                # Append the image to the list of images\n",
        "                images.append(image)\n",
        "\n",
        "                # Append the label (folder name) to the list of labels\n",
        "                labels.append(folder_name)\n",
        "            else:\n",
        "                # Handle the case where the image couldn't be loaded\n",
        "                print(f\"Error loading image: {image_path}\")"
      ],
      "metadata": {
        "colab": {
          "base_uri": "https://localhost:8080/"
        },
        "id": "R7Wyh7jVI5gO",
        "outputId": "ecfdbaa0-c349-4a04-f6ee-115da1f34bbc"
      },
      "execution_count": 3,
      "outputs": [
        {
          "output_type": "stream",
          "name": "stdout",
          "text": [
            "Error loading image: /content/drive/MyDrive/Capstone/Coral_images/Pseudodiploria/.DS_Store\n"
          ]
        }
      ]
    },
    {
      "cell_type": "code",
      "source": [
        "# Convert the lists to NumPy arrays for further analysis\n",
        "images = np.array(images)\n",
        "labels = np.array(labels)\n",
        "\n",
        "# Now, check the shapes\n",
        "print(f\"Images shape: {images.shape}\")\n",
        "print(f\"Labels shape: {labels.shape}\")"
      ],
      "metadata": {
        "colab": {
          "base_uri": "https://localhost:8080/"
        },
        "id": "vLz7XGhjI_4n",
        "outputId": "745b417e-da9a-480e-86ee-55e714fcc391"
      },
      "execution_count": 4,
      "outputs": [
        {
          "output_type": "stream",
          "name": "stdout",
          "text": [
            "Images shape: (907, 1080, 1080, 3)\n",
            "Labels shape: (907,)\n"
          ]
        }
      ]
    },
    {
      "cell_type": "code",
      "source": [
        "# Define the data augmentation parameters\n",
        "datagen = ImageDataGenerator(\n",
        "    rotation_range=10,\n",
        "    zoom_range=0.1,\n",
        "    width_shift_range=0.1,\n",
        "    height_shift_range=0.1,\n",
        "    shear_range=0.1,\n",
        "    brightness_range=[0.5, 1.5],\n",
        "    fill_mode='nearest'\n",
        ")\n"
      ],
      "metadata": {
        "id": "GYW0dfh-JCQi"
      },
      "execution_count": 5,
      "outputs": []
    },
    {
      "cell_type": "code",
      "source": [
        "# Divide the data into 20 batches\n",
        "batch_size = len(images) // 20\n",
        "\n",
        "for batch_number in range(20):\n",
        "    # Define the start and end indices for the current batch\n",
        "    start_idx = batch_number * batch_size\n",
        "    end_idx = (batch_number + 1) * batch_size if batch_number < 19 else len(images)\n",
        "\n",
        "    # Extract the batch of images and labels\n",
        "    batch_images = images[start_idx:end_idx]\n",
        "    batch_labels = labels[start_idx:end_idx]\n",
        "\n",
        "    # Apply data augmentation to the batch\n",
        "    augmented_images = []\n",
        "    augmented_labels = []\n",
        "\n",
        "    for i in range(len(batch_images)):\n",
        "        img = batch_images[i]\n",
        "        label = batch_labels[i]\n",
        "\n",
        "        img = np.expand_dims(img, axis=0)\n",
        "\n",
        "        for j in range(2):\n",
        "            x_augmented = datagen.flow(img, batch_size=1).next()\n",
        "            augmented_images.append(x_augmented[0])\n",
        "            augmented_labels.append(label)\n",
        "\n",
        "    # Convert the augmented data to NumPy arrays\n",
        "    augmented_images = np.array(augmented_images)\n",
        "    augmented_labels = np.array(augmented_labels)\n",
        "\n",
        "    # Save the augmented data to a compressed NumPy file\n",
        "    save_path = f'/content/drive/MyDrive/Capstone/Coral_images/data_augmented_{batch_number}.npz'\n",
        "    np.savez_compressed(save_path, images=augmented_images, labels=augmented_labels)\n",
        "\n",
        "    print(f'Saved batch {batch_number} to {save_path}')"
      ],
      "metadata": {
        "colab": {
          "base_uri": "https://localhost:8080/"
        },
        "id": "AHOSS7nEJJkG",
        "outputId": "adceb09a-09fd-4d9b-f149-03d5ca047f96"
      },
      "execution_count": 6,
      "outputs": [
        {
          "output_type": "stream",
          "name": "stdout",
          "text": [
            "Saved batch 0 to /content/drive/MyDrive/Capstone/Coral_images/data_augmented_0.npz\n",
            "Saved batch 1 to /content/drive/MyDrive/Capstone/Coral_images/data_augmented_1.npz\n",
            "Saved batch 2 to /content/drive/MyDrive/Capstone/Coral_images/data_augmented_2.npz\n",
            "Saved batch 3 to /content/drive/MyDrive/Capstone/Coral_images/data_augmented_3.npz\n",
            "Saved batch 4 to /content/drive/MyDrive/Capstone/Coral_images/data_augmented_4.npz\n",
            "Saved batch 5 to /content/drive/MyDrive/Capstone/Coral_images/data_augmented_5.npz\n",
            "Saved batch 6 to /content/drive/MyDrive/Capstone/Coral_images/data_augmented_6.npz\n",
            "Saved batch 7 to /content/drive/MyDrive/Capstone/Coral_images/data_augmented_7.npz\n",
            "Saved batch 8 to /content/drive/MyDrive/Capstone/Coral_images/data_augmented_8.npz\n",
            "Saved batch 9 to /content/drive/MyDrive/Capstone/Coral_images/data_augmented_9.npz\n",
            "Saved batch 10 to /content/drive/MyDrive/Capstone/Coral_images/data_augmented_10.npz\n",
            "Saved batch 11 to /content/drive/MyDrive/Capstone/Coral_images/data_augmented_11.npz\n",
            "Saved batch 12 to /content/drive/MyDrive/Capstone/Coral_images/data_augmented_12.npz\n",
            "Saved batch 13 to /content/drive/MyDrive/Capstone/Coral_images/data_augmented_13.npz\n",
            "Saved batch 14 to /content/drive/MyDrive/Capstone/Coral_images/data_augmented_14.npz\n",
            "Saved batch 15 to /content/drive/MyDrive/Capstone/Coral_images/data_augmented_15.npz\n",
            "Saved batch 16 to /content/drive/MyDrive/Capstone/Coral_images/data_augmented_16.npz\n",
            "Saved batch 17 to /content/drive/MyDrive/Capstone/Coral_images/data_augmented_17.npz\n",
            "Saved batch 18 to /content/drive/MyDrive/Capstone/Coral_images/data_augmented_18.npz\n",
            "Saved batch 19 to /content/drive/MyDrive/Capstone/Coral_images/data_augmented_19.npz\n"
          ]
        }
      ]
    },
    {
      "cell_type": "code",
      "source": [],
      "metadata": {
        "id": "aWNRJ8wyJO84"
      },
      "execution_count": null,
      "outputs": []
    }
  ]
}