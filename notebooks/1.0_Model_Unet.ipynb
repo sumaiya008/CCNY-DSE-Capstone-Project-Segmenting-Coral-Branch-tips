{
  "cells": [
    {
      "cell_type": "code",
      "execution_count": 1,
      "metadata": {
        "id": "v3jtYtsGceV8"
      },
      "outputs": [],
      "source": [
        "import numpy as np\n",
        "import matplotlib.pyplot as plt\n",
        "from tensorflow.keras.models import Model\n",
        "from tensorflow.keras.layers import Input, Conv2D, MaxPooling2D, UpSampling2D, Concatenate\n"
      ]
    },
    {
      "cell_type": "code",
      "source": [
        "from google.colab import drive\n",
        "drive.mount('/content/drive')\n",
        "\n",
        "# Load the augmented data from the saved file\n",
        "data = np.load('/content/drive/My Drive/Capstone/Pickled/coral_augmented_combined_RCNN.npz')\n",
        "\n",
        "# Access the arrays from the loaded data\n",
        "X_train = data['X_train']\n",
        "y_train = data['y_train']\n",
        "X_test = data['X_test']\n",
        "y_test = data['y_test']\n",
        "\n",
        "# Check the shape of the loaded data\n",
        "print(\"X_train shape:\", X_train.shape)\n",
        "print(\"y_train shape:\", y_train.shape)\n",
        "print(\"X_test shape:\", X_test.shape)\n",
        "print(\"y_test shape:\", y_test.shape)"
      ],
      "metadata": {
        "id": "KpfMdZ8Ucg79",
        "outputId": "64ec3a36-98c8-4a45-d99a-818df66f15f0",
        "colab": {
          "base_uri": "https://localhost:8080/"
        }
      },
      "execution_count": 2,
      "outputs": [
        {
          "output_type": "stream",
          "name": "stdout",
          "text": [
            "Drive already mounted at /content/drive; to attempt to forcibly remount, call drive.mount(\"/content/drive\", force_remount=True).\n",
            "X_train shape: (5104, 224, 224, 3)\n",
            "y_train shape: (5104, 224, 224)\n",
            "X_test shape: (1276, 224, 224, 3)\n",
            "y_test shape: (1276, 224, 224)\n"
          ]
        }
      ]
    },
    {
      "cell_type": "code",
      "execution_count": 3,
      "metadata": {
        "id": "2hI0UNjNceV9"
      },
      "outputs": [],
      "source": [
        "# # Load the augmented data from the saved file\n",
        "# data = np.load('../data/external/coral_augmented_combined_RCNN.npz')\n",
        "\n",
        "# # Access the arrays from the loaded data\n",
        "# X_train = data['X_train']\n",
        "# y_train = data['y_train']\n",
        "# X_test = data['X_test']\n",
        "# y_test = data['y_test']\n",
        "\n",
        "# # Check the shape of the loaded data\n",
        "# print(\"X_train shape:\", X_train.shape)\n",
        "# print(\"y_train shape:\", y_train.shape)\n",
        "# print(\"X_test shape:\", X_test.shape)\n",
        "# print(\"y_test shape:\", y_test.shape)"
      ]
    },
    {
      "cell_type": "code",
      "execution_count": 4,
      "metadata": {
        "id": "NXTVTKItceV9"
      },
      "outputs": [],
      "source": [
        "from tensorflow.keras.layers import Input, Conv2D, MaxPooling2D, UpSampling2D, Concatenate\n",
        "\n",
        "def simplified_unet(input_shape=(224, 224, 3)):\n",
        "    inputs = Input(input_shape)\n",
        "\n",
        "    # Contracting Path\n",
        "    conv1 = Conv2D(64, 3, activation='relu', padding='same')(inputs)\n",
        "    pool1 = MaxPooling2D(pool_size=(2, 2))(conv1)\n",
        "\n",
        "    conv2 = Conv2D(128, 3, activation='relu', padding='same')(pool1)\n",
        "    pool2 = MaxPooling2D(pool_size=(2, 2))(conv2)\n",
        "\n",
        "    # Bottleneck\n",
        "    bottleneck = Conv2D(256, 3, activation='relu', padding='same')(pool2)\n",
        "\n",
        "    # Expansive Path\n",
        "    up2 = Concatenate()([UpSampling2D(size=(2, 2))(bottleneck), conv2])\n",
        "    conv3 = Conv2D(128, 3, activation='relu', padding='same')(up2)\n",
        "\n",
        "    up1 = Concatenate()([UpSampling2D(size=(2, 2))(conv3), conv1])\n",
        "    conv4 = Conv2D(64, 3, activation='relu', padding='same')(up1)\n",
        "\n",
        "    # Output layer\n",
        "    outputs = Conv2D(1, 1, activation='sigmoid')(conv4)\n",
        "\n",
        "    model = Model(inputs=inputs, outputs=outputs)\n",
        "\n",
        "    return model"
      ]
    },
    {
      "cell_type": "code",
      "execution_count": 5,
      "metadata": {
        "id": "E0t6edUsceV-"
      },
      "outputs": [],
      "source": [
        "# Create the U-Net model\n",
        "model = simplified_unet()\n",
        "\n",
        "# Compile the model\n",
        "model.compile(optimizer='adam', loss='binary_crossentropy', metrics=['accuracy'])\n"
      ]
    },
    {
      "cell_type": "code",
      "execution_count": null,
      "metadata": {
        "id": "-VpyPNcuceV-",
        "outputId": "e91be07f-4010-44d7-9668-109e2ce11e94",
        "colab": {
          "base_uri": "https://localhost:8080/"
        }
      },
      "outputs": [
        {
          "output_type": "stream",
          "name": "stdout",
          "text": [
            "Epoch 1/10\n",
            "160/160 [==============================] - ETA: 0s - loss: 0.0149 - accuracy: 0.9951"
          ]
        }
      ],
      "source": [
        "# Train the model\n",
        "model.fit(X_train, y_train, epochs=10, batch_size=32, validation_data=(X_test, y_test))"
      ]
    },
    {
      "cell_type": "code",
      "execution_count": null,
      "metadata": {
        "id": "T7PIdVS1ceV-"
      },
      "outputs": [],
      "source": [
        "model.save('/content/drive/My Drive/Capstone/Pickled/coral_U-net.h5')"
      ]
    },
    {
      "cell_type": "code",
      "execution_count": null,
      "metadata": {
        "id": "mN29vii6ceV-"
      },
      "outputs": [],
      "source": []
    },
    {
      "cell_type": "code",
      "execution_count": null,
      "metadata": {
        "id": "GTXDiEFtceV-"
      },
      "outputs": [],
      "source": []
    },
    {
      "cell_type": "code",
      "execution_count": null,
      "metadata": {
        "id": "um_jUEA0ceV-"
      },
      "outputs": [],
      "source": []
    }
  ],
  "metadata": {
    "language_info": {
      "name": "python"
    },
    "colab": {
      "provenance": [],
      "gpuType": "T4"
    },
    "kernelspec": {
      "name": "python3",
      "display_name": "Python 3"
    },
    "accelerator": "GPU"
  },
  "nbformat": 4,
  "nbformat_minor": 0
}