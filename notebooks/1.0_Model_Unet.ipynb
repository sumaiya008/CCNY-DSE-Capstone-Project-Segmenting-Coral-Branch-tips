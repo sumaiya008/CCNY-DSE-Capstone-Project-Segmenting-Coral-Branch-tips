{
 "cells": [
  {
   "cell_type": "code",
   "execution_count": null,
   "metadata": {},
   "outputs": [],
   "source": [
    "import numpy as np\n",
    "import matplotlib.pyplot as plt\n",
    "from tensorflow.keras.models import Model\n",
    "from tensorflow.keras.layers import Input, Conv2D, MaxPooling2D, UpSampling2D, Concatenate\n"
   ]
  },
  {
   "cell_type": "code",
   "execution_count": null,
   "metadata": {},
   "outputs": [],
   "source": [
    "# Load the augmented data from the saved file\n",
    "data = np.load('../data/external/coral_augmented_combined_RCNN.npz')\n",
    "\n",
    "# Access the arrays from the loaded data\n",
    "X_train = data['X_train']\n",
    "y_train = data['y_train']\n",
    "X_test = data['X_test']\n",
    "y_test = data['y_test']\n",
    "\n",
    "# Check the shape of the loaded data\n",
    "print(\"X_train shape:\", X_train.shape)\n",
    "print(\"y_train shape:\", y_train.shape)\n",
    "print(\"X_test shape:\", X_test.shape)\n",
    "print(\"y_test shape:\", y_test.shape)"
   ]
  },
  {
   "cell_type": "code",
   "execution_count": null,
   "metadata": {},
   "outputs": [],
   "source": [
    "# Define the U-Net model\n",
    "def unet_model(input_shape=(224, 224, 3)):\n",
    "    inputs = Input(input_shape)\n",
    "    \n",
    "    # Contracting Path\n",
    "    conv1 = Conv2D(64, 3, activation='relu', padding='same')(inputs)\n",
    "    conv1 = Conv2D(64, 3, activation='relu', padding='same')(conv1)\n",
    "    pool1 = MaxPooling2D(pool_size=(2, 2))(conv1)\n",
    "\n",
    "    conv2 = Conv2D(128, 3, activation='relu', padding='same')(pool1)\n",
    "    conv2 = Conv2D(128, 3, activation='relu', padding='same')(conv2)\n",
    "    pool2 = MaxPooling2D(pool_size=(2, 2))(conv2)\n",
    "\n",
    "    conv3 = Conv2D(256, 3, activation='relu', padding='same')(pool2)\n",
    "    conv3 = Conv2D(256, 3, activation='relu', padding='same')(conv3)\n",
    "    pool3 = MaxPooling2D(pool_size=(2, 2))(conv3)\n",
    "\n",
    "    conv4 = Conv2D(512, 3, activation='relu', padding='same')(pool3)\n",
    "    conv4 = Conv2D(512, 3, activation='relu', padding='same')(conv4)\n",
    "    pool4 = MaxPooling2D(pool_size=(2, 2))(conv4)\n",
    "\n",
    "    # Bottleneck\n",
    "    bottleneck = Conv2D(1024, 3, activation='relu', padding='same')(pool4)\n",
    "    bottleneck = Conv2D(1024, 3, activation='relu', padding='same')(bottleneck)\n",
    "\n",
    "    # Expansive Path\n",
    "    up5 = Concatenate()([UpSampling2D(size=(2, 2))(bottleneck), conv4])\n",
    "    conv5 = Conv2D(512, 3, activation='relu', padding='same')(up5)\n",
    "    conv5 = Conv2D(512, 3, activation='relu', padding='same')(conv5)\n",
    "\n",
    "    up6 = Concatenate()([UpSampling2D(size=(2, 2))(conv5), conv3])\n",
    "    conv6 = Conv2D(256, 3, activation='relu', padding='same')(up6)\n",
    "    conv6 = Conv2D(256, 3, activation='relu', padding='same')(conv6)\n",
    "\n",
    "    up7 = Concatenate()([UpSampling2D(size=(2, 2))(conv6), conv2])\n",
    "    conv7 = Conv2D(128, 3, activation='relu', padding='same')(up7)\n",
    "    conv7 = Conv2D(128, 3, activation='relu', padding='same')(conv7)\n",
    "\n",
    "    up8 = Concatenate()([UpSampling2D(size=(2, 2))(conv7), conv1])\n",
    "    conv8 = Conv2D(64, 3, activation='relu', padding='same')(up8)\n",
    "    conv8 = Conv2D(64, 3, activation='relu', padding='same')(conv8)\n",
    "\n",
    "    # Output layer\n",
    "    outputs = Conv2D(1, 1, activation='sigmoid')(conv8)\n",
    "\n",
    "    model = Model(inputs=inputs, outputs=outputs)\n",
    "\n",
    "    return model"
   ]
  },
  {
   "cell_type": "code",
   "execution_count": null,
   "metadata": {},
   "outputs": [],
   "source": [
    "# Create the U-Net model\n",
    "model = unet_model()\n",
    "\n",
    "# Compile the model\n",
    "model.compile(optimizer='adam', loss='binary_crossentropy', metrics=['accuracy'])\n"
   ]
  },
  {
   "cell_type": "code",
   "execution_count": null,
   "metadata": {},
   "outputs": [],
   "source": [
    "# Train the model\n",
    "model.fit(X_train, y_train, epochs=10, batch_size=32, validation_data=(X_test, y_test))"
   ]
  },
  {
   "cell_type": "code",
   "execution_count": null,
   "metadata": {},
   "outputs": [],
   "source": [
    "model.save('../models/coral_U-net.h5')"
   ]
  },
  {
   "cell_type": "code",
   "execution_count": null,
   "metadata": {},
   "outputs": [],
   "source": []
  },
  {
   "cell_type": "code",
   "execution_count": null,
   "metadata": {},
   "outputs": [],
   "source": []
  },
  {
   "cell_type": "code",
   "execution_count": null,
   "metadata": {},
   "outputs": [],
   "source": []
  }
 ],
 "metadata": {
  "language_info": {
   "name": "python"
  }
 },
 "nbformat": 4,
 "nbformat_minor": 2
}
