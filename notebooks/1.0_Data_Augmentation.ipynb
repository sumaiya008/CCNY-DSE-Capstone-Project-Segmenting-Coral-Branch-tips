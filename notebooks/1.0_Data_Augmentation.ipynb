{
 "cells": [
  {
   "cell_type": "code",
   "execution_count": 2,
   "metadata": {},
   "outputs": [
    {
     "name": "stderr",
     "output_type": "stream",
     "text": [
      "2023-09-29 22:38:30.534740: I tensorflow/core/platform/cpu_feature_guard.cc:193] This TensorFlow binary is optimized with oneAPI Deep Neural Network Library (oneDNN) to use the following CPU instructions in performance-critical operations:  SSE4.1 SSE4.2\n",
      "To enable them in other operations, rebuild TensorFlow with the appropriate compiler flags.\n"
     ]
    }
   ],
   "source": [
    "import os\n",
    "import cv2\n",
    "import numpy as np\n",
    "import random\n",
    "import pickle\n",
    "import matplotlib.pyplot as plt\n",
    "from sklearn.model_selection import train_test_split\n",
    "from keras.preprocessing.image import ImageDataGenerator"
   ]
  },
  {
   "cell_type": "code",
   "execution_count": 3,
   "metadata": {},
   "outputs": [],
   "source": [
    "with open('../data/external/data.pkl','rb') as f:\n",
    "    X_train,y_train,X_test,y_test = pickle.load(f)"
   ]
  },
  {
   "cell_type": "code",
   "execution_count": 4,
   "metadata": {},
   "outputs": [
    {
     "name": "stdout",
     "output_type": "stream",
     "text": [
      "X_train shape: (725, 1080, 1080, 3)\n",
      "y_train shape: (725,)\n",
      "X_test shape: (182, 1080, 1080, 3)\n",
      "y_test shape: (182,)\n"
     ]
    }
   ],
   "source": [
    "print(f'X_train shape: {X_train.shape}')\n",
    "print(f'y_train shape: {y_train.shape}')\n",
    "print(f'X_test shape: {X_test.shape}')\n",
    "print(f'y_test shape: {y_test.shape}')"
   ]
  },
  {
   "cell_type": "code",
   "execution_count": 5,
   "metadata": {},
   "outputs": [],
   "source": [
    "# Define the data augmentation parameters\n",
    "datagen = ImageDataGenerator(\n",
    "    rotation_range=10,\n",
    "    zoom_range=0.1,\n",
    "    width_shift_range=0.1,\n",
    "    height_shift_range=0.1,\n",
    "    shear_range=0.1,\n",
    "    brightness_range=[0.5, 1.5],\n",
    "    fill_mode='nearest'\n",
    ")"
   ]
  },
  {
   "cell_type": "code",
   "execution_count": 6,
   "metadata": {},
   "outputs": [],
   "source": [
    "# Apply data augmentation to the training set\n",
    "X_train_augmented = []\n",
    "y_train_augmented = []\n",
    "\n",
    "for i in range(X_train.shape[0]):\n",
    "    img = X_train[i]\n",
    "    label = y_train[i]\n",
    "    \n",
    "    # Expand the dimensions of the image to (1, 1080, 1080, 3)\n",
    "    img = np.expand_dims(img, axis=0)\n",
    "    \n",
    "    for j in range(2):\n",
    "        x_augmented = datagen.flow(img, batch_size=1).next()\n",
    "        X_train_augmented.append(x_augmented[0])  # Extract the augmented image\n",
    "        y_train_augmented.append(label)\n"
   ]
  },
  {
   "cell_type": "code",
   "execution_count": 7,
   "metadata": {},
   "outputs": [
    {
     "ename": "",
     "evalue": "",
     "output_type": "error",
     "traceback": [
      "\u001b[1;31mThe Kernel crashed while executing code in the the current cell or a previous cell. Please review the code in the cell(s) to identify a possible cause of the failure. Click <a href='https://aka.ms/vscodeJupyterKernelCrash'>here</a> for more info. View Jupyter <a href='command:jupyter.viewOutput'>log</a> for further details."
     ]
    }
   ],
   "source": [
    "# Convert the augmented data to NumPy arrays\n",
    "X_train_augmented = np.array(X_train_augmented)\n",
    "y_train_augmented = np.array(y_train_augmented)"
   ]
  },
  {
   "cell_type": "code",
   "execution_count": 6,
   "metadata": {},
   "outputs": [],
   "source": [
    "# Apply data augmentation to the test set\n",
    "X_test_augmented = []\n",
    "y_test_augmented = []\n",
    "\n",
    "for i in range(X_test.shape[0]):\n",
    "    img = X_test[i]\n",
    "    label = y_test[i]\n",
    "    \n",
    "    # Expand the dimensions of the image to (1, 1080, 1080, 3)\n",
    "    img = np.expand_dims(img, axis=0)\n",
    "    \n",
    "    for j in range(2):\n",
    "        x_augmented = datagen.flow(img, batch_size=1).next()\n",
    "        X_test_augmented.append(x_augmented[0])  # Extract the augmented image\n",
    "        y_test_augmented.append(label)"
   ]
  },
  {
   "cell_type": "code",
   "execution_count": null,
   "metadata": {},
   "outputs": [],
   "source": [
    "X_test_augmented = np.array(X_test_augmented)\n",
    "y_test_augmented = np.array(y_test_augmented)"
   ]
  },
  {
   "cell_type": "code",
   "execution_count": null,
   "metadata": {},
   "outputs": [],
   "source": [
    "print(f'X_train_augmented shape: {X_train_augmented.shape}')\n",
    "print(f'y_train_augmented shape: {y_train_augmented.shape}')\n",
    "print(f'X_test_augmented shape: {X_test_augmented.shape}')\n",
    "print(f'y_test_augmented shape: {y_test_augmented.shape}')"
   ]
  },
  {
   "cell_type": "code",
   "execution_count": null,
   "metadata": {},
   "outputs": [],
   "source": [
    "data = (X_train_augmented,y_train_augmented,X_test_augmented,y_test_augmented)\n",
    "with open('../data/external/Augmended_data.pkl','wb') as f:\n",
    "    pickle.dump(Augmented_data, f)"
   ]
  }
 ],
 "metadata": {
  "kernelspec": {
   "display_name": "base",
   "language": "python",
   "name": "python3"
  },
  "language_info": {
   "codemirror_mode": {
    "name": "ipython",
    "version": 3
   },
   "file_extension": ".py",
   "mimetype": "text/x-python",
   "name": "python",
   "nbconvert_exporter": "python",
   "pygments_lexer": "ipython3",
   "version": "3.9.16"
  },
  "orig_nbformat": 4
 },
 "nbformat": 4,
 "nbformat_minor": 2
}
