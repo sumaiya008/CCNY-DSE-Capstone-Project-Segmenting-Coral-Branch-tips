{
  "nbformat": 4,
  "nbformat_minor": 0,
  "metadata": {
    "colab": {
      "provenance": [],
      "authorship_tag": "ABX9TyMTiys0kR7318HFTe+U7+kq",
      "include_colab_link": true
    },
    "kernelspec": {
      "name": "python3",
      "display_name": "Python 3"
    },
    "language_info": {
      "name": "python"
    }
  },
  "cells": [
    {
      "cell_type": "markdown",
      "metadata": {
        "id": "view-in-github",
        "colab_type": "text"
      },
      "source": [
        "<a href=\"https://colab.research.google.com/github/sumaiya008/CCNY-DSE-Capstone-Project-Segmenting-Coral-Branch-tips/blob/main/nootbooks/1_3_Subdividing.ipynb\" target=\"_parent\"><img src=\"https://colab.research.google.com/assets/colab-badge.svg\" alt=\"Open In Colab\"/></a>"
      ]
    },
    {
      "cell_type": "code",
      "execution_count": 1,
      "metadata": {
        "colab": {
          "base_uri": "https://localhost:8080/"
        },
        "id": "9USR4nPwtldX",
        "outputId": "e59bfeab-2e55-43f8-b7dd-3d35219ea984"
      },
      "outputs": [
        {
          "output_type": "stream",
          "name": "stdout",
          "text": [
            "Collecting patchify\n",
            "  Downloading patchify-0.2.3-py3-none-any.whl (6.6 kB)\n",
            "Requirement already satisfied: numpy<2,>=1 in /usr/local/lib/python3.10/dist-packages (from patchify) (1.23.5)\n",
            "Installing collected packages: patchify\n",
            "Successfully installed patchify-0.2.3\n",
            "Requirement already satisfied: Pillow in /usr/local/lib/python3.10/dist-packages (9.4.0)\n"
          ]
        }
      ],
      "source": [
        "!pip install patchify\n",
        "!pip install Pillow"
      ]
    },
    {
      "cell_type": "code",
      "source": [
        "import numpy as np\n",
        "import tifffile as tiff\n",
        "from patchify import patchify\n",
        "from google.colab import drive\n",
        "from PIL import Image\n",
        "from PIL import ImageFile\n",
        "import os\n",
        "drive.mount('/content/drive')"
      ],
      "metadata": {
        "colab": {
          "base_uri": "https://localhost:8080/"
        },
        "id": "Yma6tEOB1HxB",
        "outputId": "f5c53ea8-6d10-4a3f-d239-ae904c9a0b64"
      },
      "execution_count": 2,
      "outputs": [
        {
          "output_type": "stream",
          "name": "stdout",
          "text": [
            "Mounted at /content/drive\n"
          ]
        }
      ]
    },
    {
      "cell_type": "code",
      "source": [
        "# Increase the limit for image size to suppress DecompressionBombWarning\n",
        "ImageFile.LOAD_TRUNCATED_IMAGES = True\n",
        "Image.MAX_IMAGE_PIXELS = None"
      ],
      "metadata": {
        "id": "SIY-xu-N1LQH"
      },
      "execution_count": 3,
      "outputs": []
    },
    {
      "cell_type": "code",
      "source": [
        "# Define paths for large images and the target directory on Google Drive\n",
        "os.chdir('/content/drive/My Drive/Capstone/Plots')\n",
        "image_path = os.listdir()\n",
        "target_directory = '/content/drive/My Drive/Capstone/patches2/'\n",
        "\n",
        "# Create the target directory if it doesn't exist\n",
        "if not os.path.exists(target_directory):\n",
        "    os.makedirs(target_directory)\n"
      ],
      "metadata": {
        "id": "1STAfteZ1SCq"
      },
      "execution_count": 4,
      "outputs": []
    },
    {
      "cell_type": "code",
      "source": [
        "# Loop over images\n",
        "for img_filename in image_path:\n",
        "    if img_filename.endswith('.png'):\n",
        "        # Open the PNG image using Pillow\n",
        "        img = Image.open(img_filename)\n",
        "\n",
        "        # Convert the image to a NumPy array\n",
        "        img_array = np.array(img)\n",
        "\n",
        "        # Define the patch size\n",
        "        patch_size = (1080, 1080)\n",
        "\n",
        "        # Get the dimensions of the image\n",
        "        img_height, img_width = img_array.shape[:2]\n",
        "\n",
        "        # Calculate the number of patches in both dimensions\n",
        "        num_patches_x = img_width // patch_size[0]\n",
        "        num_patches_y = img_height // patch_size[1]\n",
        "\n",
        "        # Loop over patches and save them\n",
        "        for i in range(num_patches_y):\n",
        "            for j in range(num_patches_x):\n",
        "                # Calculate the coordinates for cropping\n",
        "                left = j * patch_size[0]\n",
        "                upper = i * patch_size[1]\n",
        "                right = left + patch_size[0]\n",
        "                lower = upper + patch_size[1]\n",
        "\n",
        "                # Crop a single patch from the image\n",
        "                single_patch_img = img.crop((left, upper, right, lower))\n",
        "\n",
        "                # Save the patch as a new PNG image\n",
        "                patch_filename = f'{target_directory}image_{img_filename}_{i}_{j}.png'\n",
        "                single_patch_img.save(patch_filename)"
      ],
      "metadata": {
        "id": "7j2s-Spf1V6t"
      },
      "execution_count": 5,
      "outputs": []
    },
    {
      "cell_type": "code",
      "source": [],
      "metadata": {
        "id": "-plSKGWr1lXc"
      },
      "execution_count": null,
      "outputs": []
    }
  ]
}