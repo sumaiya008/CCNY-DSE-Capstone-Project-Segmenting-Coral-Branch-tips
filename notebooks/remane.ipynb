{
 "cells": [
  {
   "cell_type": "code",
   "execution_count": 13,
   "metadata": {},
   "outputs": [
    {
     "name": "stdout",
     "output_type": "stream",
     "text": [
      "Renaming: /Users/sumaiyauddin/Documents/Semester03/Coral_images/APAL/APAL.jpg -> /Users/sumaiyauddin/Documents/Semester03/Coral_images/APAL/APAL.jpg\n",
      "Renaming: /Users/sumaiyauddin/Documents/Semester03/Coral_images/Pseudodiploria/Pseudodiploria -> /Users/sumaiyauddin/Documents/Semester03/Coral_images/Pseudodiploria/Pseudodiploria\n",
      "Renaming: /Users/sumaiyauddin/Documents/Semester03/Coral_images/Pseudodiploria/Pseudodiploria.JPG -> /Users/sumaiyauddin/Documents/Semester03/Coral_images/Pseudodiploria/Pseudodiploria.JPG\n"
     ]
    }
   ],
   "source": [
    "import os\n",
    "import shutil\n",
    "\n",
    "# Specify the directory containing your image folders\n",
    "base_directory = '/Users/sumaiyauddin/Documents/Semester03/Coral_images'\n",
    "\n",
    "if os.path.exists(base_directory):\n",
    "    # Iterate through all folders in the base directory\n",
    "    for folder_name in os.listdir(base_directory):\n",
    "        folder_path = os.path.join(base_directory, folder_name)\n",
    "\n",
    "        # Check if the item in the directory is a folder\n",
    "        if os.path.isdir(folder_path):\n",
    "            # List all files in the folder\n",
    "            files = os.listdir(folder_path)\n",
    "\n",
    "            # Iterate through the files and rename them\n",
    "            for filename in files:\n",
    "                old_filepath = os.path.join(folder_path, filename)\n",
    "\n",
    "                # Construct the new filename using the folder name\n",
    "                new_filename = folder_name + os.path.splitext(filename)[-1]\n",
    "                new_filepath = os.path.join(folder_path, new_filename)\n",
    "\n",
    "                # Print statements for debugging\n",
    "                print(f\"Renaming: {old_filepath} -> {new_filepath}\")\n",
    "\n",
    "                # Rename the file\n",
    "                try:\n",
    "                    shutil.move(old_filepath, new_filepath)\n",
    "                except Exception as e:\n",
    "                    print(f\"Error renaming {old_filepath}: {e}\")\n",
    "else:\n",
    "    print(f\"Directory '{base_directory}' does not exist.\")\n"
   ]
  }
 ],
 "metadata": {
  "kernelspec": {
   "display_name": "base",
   "language": "python",
   "name": "python3"
  },
  "language_info": {
   "codemirror_mode": {
    "name": "ipython",
    "version": 3
   },
   "file_extension": ".py",
   "mimetype": "text/x-python",
   "name": "python",
   "nbconvert_exporter": "python",
   "pygments_lexer": "ipython3",
   "version": "3.9.13"
  },
  "orig_nbformat": 4
 },
 "nbformat": 4,
 "nbformat_minor": 2
}
