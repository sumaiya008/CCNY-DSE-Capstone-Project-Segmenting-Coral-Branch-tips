{
  "nbformat": 4,
  "nbformat_minor": 0,
  "metadata": {
    "colab": {
      "provenance": [],
      "authorship_tag": "ABX9TyOomHgm4w44JS3XrPOTeqZF",
      "include_colab_link": true
    },
    "kernelspec": {
      "name": "python3",
      "display_name": "Python 3"
    },
    "language_info": {
      "name": "python"
    }
  },
  "cells": [
    {
      "cell_type": "markdown",
      "metadata": {
        "id": "view-in-github",
        "colab_type": "text"
      },
      "source": [
        "<a href=\"https://colab.research.google.com/github/sumaiya008/CCNY-DSE-Capstone-Project-Segmenting-Coral-Branch-tips/blob/main/notebooks/1_0_Subdividing.ipynb\" target=\"_parent\"><img src=\"https://colab.research.google.com/assets/colab-badge.svg\" alt=\"Open In Colab\"/></a>"
      ]
    },
    {
      "cell_type": "code",
      "execution_count": 1,
      "metadata": {
        "colab": {
          "base_uri": "https://localhost:8080/"
        },
        "id": "1ftiT3tNa9uQ",
        "outputId": "d8bdb2e4-5318-4d06-f0d6-152ebe749aa1"
      },
      "outputs": [
        {
          "output_type": "stream",
          "name": "stdout",
          "text": [
            "Mounted at /content/drive\n"
          ]
        }
      ],
      "source": [
        "from google.colab import drive\n",
        "drive.mount('/content/drive')"
      ]
    },
    {
      "cell_type": "code",
      "source": [
        "#installing necessary library\n",
        "import cv2\n",
        "import os\n",
        "from google.colab.patches import cv2_imshow"
      ],
      "metadata": {
        "id": "6zjuBj2DbGmi"
      },
      "execution_count": 2,
      "outputs": []
    },
    {
      "cell_type": "code",
      "source": [
        "# Use gdown to download the image from Google Drive\n",
        "!pip install gdown\n",
        "import gdown"
      ],
      "metadata": {
        "id": "CG1to0qIe5ib",
        "outputId": "602338a8-bd9c-4ee2-eb48-e70cb42d1403",
        "colab": {
          "base_uri": "https://localhost:8080/"
        }
      },
      "execution_count": 5,
      "outputs": [
        {
          "output_type": "stream",
          "name": "stdout",
          "text": [
            "Requirement already satisfied: gdown in /usr/local/lib/python3.10/dist-packages (4.6.6)\n",
            "Requirement already satisfied: filelock in /usr/local/lib/python3.10/dist-packages (from gdown) (3.12.2)\n",
            "Requirement already satisfied: requests[socks] in /usr/local/lib/python3.10/dist-packages (from gdown) (2.31.0)\n",
            "Requirement already satisfied: six in /usr/local/lib/python3.10/dist-packages (from gdown) (1.16.0)\n",
            "Requirement already satisfied: tqdm in /usr/local/lib/python3.10/dist-packages (from gdown) (4.66.1)\n",
            "Requirement already satisfied: beautifulsoup4 in /usr/local/lib/python3.10/dist-packages (from gdown) (4.11.2)\n",
            "Requirement already satisfied: soupsieve>1.2 in /usr/local/lib/python3.10/dist-packages (from beautifulsoup4->gdown) (2.5)\n",
            "Requirement already satisfied: charset-normalizer<4,>=2 in /usr/local/lib/python3.10/dist-packages (from requests[socks]->gdown) (3.2.0)\n",
            "Requirement already satisfied: idna<4,>=2.5 in /usr/local/lib/python3.10/dist-packages (from requests[socks]->gdown) (3.4)\n",
            "Requirement already satisfied: urllib3<3,>=1.21.1 in /usr/local/lib/python3.10/dist-packages (from requests[socks]->gdown) (2.0.4)\n",
            "Requirement already satisfied: certifi>=2017.4.17 in /usr/local/lib/python3.10/dist-packages (from requests[socks]->gdown) (2023.7.22)\n",
            "Requirement already satisfied: PySocks!=1.5.7,>=1.5.6 in /usr/local/lib/python3.10/dist-packages (from requests[socks]->gdown) (1.7.1)\n"
          ]
        }
      ]
    },
    {
      "cell_type": "code",
      "source": [
        "# Define the path to the input image on Google Drive\n",
        "input_image_path = '/content/drive/My Drive/TagLab/plots/RPN_2015_ANA_0424.png'\n",
        "\n",
        "# Define the directory where the patches will be saved on Google Drive\n",
        "output_dir = '/content/drive/My Drive/TagLab/Patches/'\n",
        "os.makedirs(output_dir, exist_ok=True)\n"
      ],
      "metadata": {
        "id": "crHGYww_bpSL"
      },
      "execution_count": null,
      "outputs": []
    },
    {
      "cell_type": "code",
      "source": [
        "!wget \"https://drive.google.com/file/d/1QkewXZb6S4fxavi-h1xnHU929OZ5es8V/view?usp=drive_link\""
      ],
      "metadata": {
        "colab": {
          "base_uri": "https://localhost:8080/"
        },
        "id": "-ciPXZpnfHGd",
        "outputId": "ada74689-cfb4-46ab-fdde-dc06357c2c51"
      },
      "execution_count": null,
      "outputs": [
        {
          "output_type": "stream",
          "name": "stdout",
          "text": [
            "--2023-09-12 03:43:47--  https://drive.google.com/file/d/1QkewXZb6S4fxavi-h1xnHU929OZ5es8V/view?usp=drive_link\n",
            "Resolving drive.google.com (drive.google.com)... 74.125.143.102, 74.125.143.101, 74.125.143.100, ...\n",
            "Connecting to drive.google.com (drive.google.com)|74.125.143.102|:443... connected.\n",
            "HTTP request sent, awaiting response... 200 OK\n",
            "Length: unspecified [text/html]\n",
            "Saving to: ‘view?usp=drive_link’\n",
            "\n",
            "view?usp=drive_link     [ <=>                ]  77.93K  --.-KB/s    in 0.01s   \n",
            "\n",
            "2023-09-12 03:43:47 (6.79 MB/s) - ‘view?usp=drive_link’ saved [79799]\n",
            "\n"
          ]
        }
      ]
    },
    {
      "cell_type": "code",
      "source": [
        "# # Load the input image\n",
        "# input_image = cv2.imread('RPN_2015_ANA_0424.png',1)\n",
        "\n",
        "# # Check if the image loaded successfully\n",
        "# if input_image is None:\n",
        "#     raise FileNotFoundError(f\"Image not found at {input_image_path}\")\n"
      ],
      "metadata": {
        "id": "TG8Q7nJncQYi"
      },
      "execution_count": 3,
      "outputs": []
    },
    {
      "cell_type": "code",
      "source": [
        "# Define the file ID of the image you want to download from Google Drive\n",
        "file_id = \"1QkewXZb6S4fxavi-h1xnHU929OZ5es8V\"\n",
        "\n",
        "# Define the destination path where you want to save the downloaded image\n",
        "destination_path = '/content/input_image.jpg'\n"
      ],
      "metadata": {
        "id": "0OruPWuKgHkC"
      },
      "execution_count": 4,
      "outputs": []
    },
    {
      "cell_type": "code",
      "source": [
        "gdown.download(f\"https://drive.google.com/uc?id={file_id}\", destination_path, quiet=False)\n"
      ],
      "metadata": {
        "id": "t7CHgMXhe1_T",
        "outputId": "9de84929-9670-42b6-f412-ddc1884ce890",
        "colab": {
          "base_uri": "https://localhost:8080/",
          "height": 107
        }
      },
      "execution_count": 6,
      "outputs": [
        {
          "output_type": "stream",
          "name": "stderr",
          "text": [
            "Downloading...\n",
            "From: https://drive.google.com/uc?id=1QkewXZb6S4fxavi-h1xnHU929OZ5es8V\n",
            "To: /content/input_image.jpg\n",
            "100%|██████████| 468M/468M [00:07<00:00, 64.1MB/s]\n"
          ]
        },
        {
          "output_type": "execute_result",
          "data": {
            "text/plain": [
              "'/content/input_image.jpg'"
            ],
            "application/vnd.google.colaboratory.intrinsic+json": {
              "type": "string"
            }
          },
          "metadata": {},
          "execution_count": 6
        }
      ]
    },
    {
      "cell_type": "code",
      "source": [
        "# Load the input image\n",
        "input_image = cv2.imread(destination_path)\n",
        "\n",
        "# Check if the image loaded successfully\n",
        "if input_image is None:\n",
        "    raise FileNotFoundError(f\"Image not found at {destination_path}\")\n",
        "\n",
        "# Display the loaded image\n",
        "cv2_imshow(input_image)"
      ],
      "metadata": {
        "id": "zYGLY_E5e-bd"
      },
      "execution_count": 7,
      "outputs": []
    },
    {
      "cell_type": "code",
      "source": [],
      "metadata": {
        "id": "epg1t1DzfEYV"
      },
      "execution_count": null,
      "outputs": []
    }
  ]
}