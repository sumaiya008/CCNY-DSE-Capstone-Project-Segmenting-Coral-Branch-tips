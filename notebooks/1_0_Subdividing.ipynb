{
  "nbformat": 4,
  "nbformat_minor": 0,
  "metadata": {
    "colab": {
      "provenance": [],
      "authorship_tag": "ABX9TyMRWVQphiAsEWcUePN+0kaf",
      "include_colab_link": true
    },
    "kernelspec": {
      "name": "python3",
      "display_name": "Python 3"
    },
    "language_info": {
      "name": "python"
    }
  },
  "cells": [
    {
      "cell_type": "markdown",
      "metadata": {
        "id": "view-in-github",
        "colab_type": "text"
      },
      "source": [
        "<a href=\"https://colab.research.google.com/github/sumaiya008/CCNY-DSE-Capstone-Project-Segmenting-Coral-Branch-tips/blob/main/notebooks/1_0_Subdividing.ipynb\" target=\"_parent\"><img src=\"https://colab.research.google.com/assets/colab-badge.svg\" alt=\"Open In Colab\"/></a>"
      ]
    },
    {
      "cell_type": "code",
      "execution_count": 1,
      "metadata": {
        "colab": {
          "base_uri": "https://localhost:8080/"
        },
        "id": "1ftiT3tNa9uQ",
        "outputId": "0e812b9b-32ec-480f-e05a-4d50060d1c1e"
      },
      "outputs": [
        {
          "output_type": "stream",
          "name": "stdout",
          "text": [
            "Mounted at /content/drive\n"
          ]
        }
      ],
      "source": [
        "from google.colab import drive\n",
        "drive.mount('/content/drive')"
      ]
    },
    {
      "cell_type": "code",
      "source": [
        "#installing necessary library\n",
        "import cv2\n",
        "import os\n",
        "from google.colab.patches import cv2_imshow"
      ],
      "metadata": {
        "id": "6zjuBj2DbGmi"
      },
      "execution_count": 3,
      "outputs": []
    },
    {
      "cell_type": "code",
      "source": [
        "# # Define the path to the input image on Google Drive\n",
        "# input_image_path = '/content/drive/My Drive/TagLab/plots/RPN_2015_ANA_0424.png'\n",
        "\n",
        "# # Define the directory where the patches will be saved on Google Drive\n",
        "# output_dir = '/content/drive/My Drive/TagLab/Patches/'\n",
        "# os.makedirs(output_dir, exist_ok=True)\n"
      ],
      "metadata": {
        "id": "crHGYww_bpSL"
      },
      "execution_count": 9,
      "outputs": []
    },
    {
      "cell_type": "code",
      "source": [
        "!wget \"https://drive.google.com/file/d/1QkewXZb6S4fxavi-h1xnHU929OZ5es8V/view?usp=drive_link\""
      ],
      "metadata": {
        "colab": {
          "base_uri": "https://localhost:8080/"
        },
        "id": "-ciPXZpnfHGd",
        "outputId": "ada74689-cfb4-46ab-fdde-dc06357c2c51"
      },
      "execution_count": 10,
      "outputs": [
        {
          "output_type": "stream",
          "name": "stdout",
          "text": [
            "--2023-09-12 03:43:47--  https://drive.google.com/file/d/1QkewXZb6S4fxavi-h1xnHU929OZ5es8V/view?usp=drive_link\n",
            "Resolving drive.google.com (drive.google.com)... 74.125.143.102, 74.125.143.101, 74.125.143.100, ...\n",
            "Connecting to drive.google.com (drive.google.com)|74.125.143.102|:443... connected.\n",
            "HTTP request sent, awaiting response... 200 OK\n",
            "Length: unspecified [text/html]\n",
            "Saving to: ‘view?usp=drive_link’\n",
            "\n",
            "view?usp=drive_link     [ <=>                ]  77.93K  --.-KB/s    in 0.01s   \n",
            "\n",
            "2023-09-12 03:43:47 (6.79 MB/s) - ‘view?usp=drive_link’ saved [79799]\n",
            "\n"
          ]
        }
      ]
    },
    {
      "cell_type": "code",
      "source": [
        "# Load the input image\n",
        "input_image = cv2.imread('RPN_2015_ANA_0424.png',1)\n",
        "\n",
        "# Check if the image loaded successfully\n",
        "if input_image is None:\n",
        "    raise FileNotFoundError(f\"Image not found at {input_image_path}\")\n"
      ],
      "metadata": {
        "colab": {
          "base_uri": "https://localhost:8080/",
          "height": 250
        },
        "id": "TG8Q7nJncQYi",
        "outputId": "0b9ea2f3-eb62-478c-fd74-e56d308cded8"
      },
      "execution_count": 11,
      "outputs": [
        {
          "output_type": "error",
          "ename": "FileNotFoundError",
          "evalue": "ignored",
          "traceback": [
            "\u001b[0;31m---------------------------------------------------------------------------\u001b[0m",
            "\u001b[0;31mFileNotFoundError\u001b[0m                         Traceback (most recent call last)",
            "\u001b[0;32m<ipython-input-11-c814679ed364>\u001b[0m in \u001b[0;36m<cell line: 5>\u001b[0;34m()\u001b[0m\n\u001b[1;32m      4\u001b[0m \u001b[0;31m# Check if the image loaded successfully\u001b[0m\u001b[0;34m\u001b[0m\u001b[0;34m\u001b[0m\u001b[0m\n\u001b[1;32m      5\u001b[0m \u001b[0;32mif\u001b[0m \u001b[0minput_image\u001b[0m \u001b[0;32mis\u001b[0m \u001b[0;32mNone\u001b[0m\u001b[0;34m:\u001b[0m\u001b[0;34m\u001b[0m\u001b[0;34m\u001b[0m\u001b[0m\n\u001b[0;32m----> 6\u001b[0;31m     \u001b[0;32mraise\u001b[0m \u001b[0mFileNotFoundError\u001b[0m\u001b[0;34m(\u001b[0m\u001b[0;34mf\"Image not found at {input_image_path}\"\u001b[0m\u001b[0;34m)\u001b[0m\u001b[0;34m\u001b[0m\u001b[0;34m\u001b[0m\u001b[0m\n\u001b[0m",
            "\u001b[0;31mFileNotFoundError\u001b[0m: Image not found at /content/drive/My Drive/TagLab/plots/RPN_2015_ANA_0424.png"
          ]
        }
      ]
    },
    {
      "cell_type": "code",
      "source": [],
      "metadata": {
        "id": "0OruPWuKgHkC"
      },
      "execution_count": null,
      "outputs": []
    }
  ]
}