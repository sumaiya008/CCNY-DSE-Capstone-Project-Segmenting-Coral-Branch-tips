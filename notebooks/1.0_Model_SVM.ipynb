{
 "cells": [
  {
   "cell_type": "code",
   "execution_count": 12,
   "metadata": {},
   "outputs": [],
   "source": [
    "import numpy as np\n",
    "import matplotlib.pyplot as plt\n",
    "from skimage.feature import hog\n",
    "from skimage import exposure\n",
    "from sklearn.svm import SVC\n",
    "from sklearn.metrics import accuracy_score\n",
    "from sklearn.discriminant_analysis import LinearDiscriminantAnalysis"
   ]
  },
  {
   "cell_type": "code",
   "execution_count": 6,
   "metadata": {},
   "outputs": [],
   "source": [
    "# # Load the augmented data from the saved file\n",
    "# data = np.load('../data/external/coral_augmented_combined.npz')\n",
    "\n",
    "# # Access the arrays from the loaded data\n",
    "# X_train = data['X_train']\n",
    "# y_train = data['y_train']\n",
    "# X_test = data['X_test']\n",
    "# y_test = data['y_test']\n",
    "# X_valid = data['X_valid']\n",
    "# y_valid = data['y_valid']\n",
    "\n",
    "# # Combine X_train and X_valid\n",
    "# X_train = np.concatenate((X_train, X_valid), axis=0)\n",
    "\n",
    "# # Combine y_train and y_valid\n",
    "# y_train = np.concatenate((y_train, y_valid), axis=0)\n",
    "\n",
    "# # Print the shapes to verify\n",
    "# print(f\"X_train shape: {X_train.shape}\")\n",
    "# print(f\"y_train shape: {y_train.shape}\")\n",
    "# print(f\"X_test shape: {X_test.shape}\")\n",
    "# print(f\"y_test shape: {y_test.shape}\")"
   ]
  },
  {
   "cell_type": "code",
   "execution_count": 3,
   "metadata": {},
   "outputs": [
    {
     "name": "stderr",
     "output_type": "stream",
     "text": [
      "/var/folders/ph/_s861md14q5c2ykky6q5pgd80000gn/T/ipykernel_39372/3562830453.py:5: FutureWarning: `multichannel` is a deprecated argument name for `hog`. It will be removed in version 1.0. Please use `channel_axis` instead.\n",
      "  fd, hog_image = hog(image, pixels_per_cell=(8, 8), cells_per_block=(2, 2), visualize=True, multichannel=True, channel_axis=2)\n"
     ]
    },
    {
     "name": "stdout",
     "output_type": "stream",
     "text": [
      "X_train_features Shape: (5752, 26244)\n",
      "X_test_features Shape: (1440, 26244)\n"
     ]
    }
   ],
   "source": [
    "def extract_hog_features(images):\n",
    "    features = []\n",
    "    for image in images:\n",
    "        # Specify channel_axis=2 to indicate that channels are along the third axis (for color images)\n",
    "        fd, hog_image = hog(image, pixels_per_cell=(8, 8), cells_per_block=(2, 2), visualize=True, multichannel=True, channel_axis=2)\n",
    "        features.append(fd)\n",
    "    return np.array(features)\n",
    "\n",
    "X_train_features = extract_hog_features(X_train)\n",
    "X_test_features = extract_hog_features(X_test)\n",
    "print(f\"X_train_features Shape: {X_train_features.shape}\")\n",
    "print(f\"X_test_features Shape: {X_test_features.shape}\")"
   ]
  },
  {
   "cell_type": "code",
   "execution_count": 5,
   "metadata": {},
   "outputs": [
    {
     "name": "stdout",
     "output_type": "stream",
     "text": [
      "Fitting 5 folds for each of 10 candidates, totalling 50 fits\n",
      "[CV 1/5] END C=0.438421052631579, gamma=scale, kernel=sigmoid;, score=0.862 total time=35.2min\n",
      "[CV 2/5] END C=0.438421052631579, gamma=scale, kernel=sigmoid;, score=0.862 total time=34.6min\n",
      "[CV 3/5] END C=0.438421052631579, gamma=scale, kernel=sigmoid;, score=0.863 total time=35.5min\n",
      "[CV 4/5] END C=0.438421052631579, gamma=scale, kernel=sigmoid;, score=0.863 total time=35.3min\n",
      "[CV 5/5] END C=0.438421052631579, gamma=scale, kernel=sigmoid;, score=0.863 total time=19.5min\n",
      "[CV 1/5] END C=0.20473684210526316, gamma=auto, kernel=rbf;, score=0.862 total time= 1.9min\n",
      "[CV 2/5] END C=0.20473684210526316, gamma=auto, kernel=rbf;, score=0.862 total time= 1.8min\n",
      "[CV 3/5] END C=0.20473684210526316, gamma=auto, kernel=rbf;, score=0.863 total time= 1.8min\n",
      "[CV 4/5] END C=0.20473684210526316, gamma=auto, kernel=rbf;, score=0.863 total time= 1.9min\n",
      "[CV 5/5] END C=0.20473684210526316, gamma=auto, kernel=rbf;, score=0.863 total time= 1.9min\n",
      "[CV 1/5] END C=0.6331578947368421, gamma=scale, kernel=linear;, score=0.818 total time= 1.4min\n",
      "[CV 2/5] END C=0.6331578947368421, gamma=scale, kernel=linear;, score=0.825 total time= 1.4min\n",
      "[CV 3/5] END C=0.6331578947368421, gamma=scale, kernel=linear;, score=0.822 total time= 1.4min\n",
      "[CV 4/5] END C=0.6331578947368421, gamma=scale, kernel=linear;, score=0.810 total time= 1.3min\n",
      "[CV 5/5] END C=0.6331578947368421, gamma=scale, kernel=linear;, score=0.808 total time= 1.3min\n",
      "[CV 1/5] END C=0.4773684210526316, gamma=auto, kernel=sigmoid;, score=0.862 total time= 1.2min\n",
      "[CV 2/5] END C=0.4773684210526316, gamma=auto, kernel=sigmoid;, score=0.862 total time= 1.2min\n",
      "[CV 3/5] END C=0.4773684210526316, gamma=auto, kernel=sigmoid;, score=0.863 total time= 1.2min\n",
      "[CV 4/5] END C=0.4773684210526316, gamma=auto, kernel=sigmoid;, score=0.863 total time= 1.2min\n",
      "[CV 5/5] END C=0.4773684210526316, gamma=auto, kernel=sigmoid;, score=0.863 total time= 1.2min\n",
      "[CV 1/5] END C=0.4773684210526316, gamma=scale, kernel=rbf;, score=0.862 total time= 3.3min\n",
      "[CV 2/5] END C=0.4773684210526316, gamma=scale, kernel=rbf;, score=0.862 total time= 3.2min\n",
      "[CV 3/5] END C=0.4773684210526316, gamma=scale, kernel=rbf;, score=0.863 total time= 3.2min\n",
      "[CV 4/5] END C=0.4773684210526316, gamma=scale, kernel=rbf;, score=0.863 total time= 3.3min\n",
      "[CV 5/5] END C=0.4773684210526316, gamma=scale, kernel=rbf;, score=0.863 total time= 3.3min\n",
      "[CV 1/5] END .C=0.01, gamma=auto, kernel=linear;, score=0.866 total time= 1.4min\n",
      "[CV 2/5] END .C=0.01, gamma=auto, kernel=linear;, score=0.853 total time= 1.3min\n",
      "[CV 3/5] END .C=0.01, gamma=auto, kernel=linear;, score=0.866 total time= 1.3min\n",
      "[CV 4/5] END .C=0.01, gamma=auto, kernel=linear;, score=0.855 total time= 1.3min\n",
      "[CV 5/5] END .C=0.01, gamma=auto, kernel=linear;, score=0.856 total time= 1.3min\n",
      "[CV 1/5] END C=0.2436842105263158, gamma=scale, kernel=poly;, score=0.871 total time= 2.2min\n",
      "[CV 2/5] END C=0.2436842105263158, gamma=scale, kernel=poly;, score=0.858 total time= 2.1min\n",
      "[CV 3/5] END C=0.2436842105263158, gamma=scale, kernel=poly;, score=0.866 total time= 2.1min\n",
      "[CV 4/5] END C=0.2436842105263158, gamma=scale, kernel=poly;, score=0.860 total time= 2.1min\n",
      "[CV 5/5] END C=0.2436842105263158, gamma=scale, kernel=poly;, score=0.855 total time= 2.1min\n",
      "[CV 1/5] END C=0.4773684210526316, gamma=auto, kernel=poly;, score=0.862 total time=  46.0s\n",
      "[CV 2/5] END C=0.4773684210526316, gamma=auto, kernel=poly;, score=0.862 total time=  44.8s\n",
      "[CV 3/5] END C=0.4773684210526316, gamma=auto, kernel=poly;, score=0.863 total time=  44.5s\n",
      "[CV 4/5] END C=0.4773684210526316, gamma=auto, kernel=poly;, score=0.863 total time=  43.8s\n",
      "[CV 5/5] END C=0.4773684210526316, gamma=auto, kernel=poly;, score=0.863 total time=  44.4s\n",
      "[CV 1/5] END C=0.048947368421052635, gamma=scale, kernel=linear;, score=0.818 total time= 1.4min\n",
      "[CV 2/5] END C=0.048947368421052635, gamma=scale, kernel=linear;, score=0.826 total time= 1.4min\n",
      "[CV 3/5] END C=0.048947368421052635, gamma=scale, kernel=linear;, score=0.822 total time= 1.3min\n",
      "[CV 4/5] END C=0.048947368421052635, gamma=scale, kernel=linear;, score=0.811 total time= 1.3min\n",
      "[CV 5/5] END C=0.048947368421052635, gamma=scale, kernel=linear;, score=0.804 total time= 1.3min\n",
      "[CV 1/5] END C=0.7110526315789474, gamma=scale, kernel=poly;, score=0.868 total time= 2.3min\n",
      "[CV 2/5] END C=0.7110526315789474, gamma=scale, kernel=poly;, score=0.858 total time= 2.1min\n",
      "[CV 3/5] END C=0.7110526315789474, gamma=scale, kernel=poly;, score=0.868 total time= 2.1min\n",
      "[CV 4/5] END C=0.7110526315789474, gamma=scale, kernel=poly;, score=0.861 total time= 2.1min\n",
      "[CV 5/5] END C=0.7110526315789474, gamma=scale, kernel=poly;, score=0.855 total time= 2.1min\n"
     ]
    }
   ],
   "source": [
    "from sklearn.model_selection import RandomizedSearchCV\n",
    "from sklearn.svm import SVC\n",
    "import pickle\n",
    "from sklearn.metrics import classification_report\n",
    "\n",
    "#defining support vector machine parameters\n",
    "parameters = {\n",
    "    'kernel':['linear','poly','rbf','sigmoid'], \n",
    "    'gamma':['scale','auto'],\n",
    "    'C':np.linspace(0.01,.75,20)\n",
    "    }\n",
    "\n",
    "#defining randomized grid search cv\n",
    "clf = RandomizedSearchCV(SVC(),param_distributions=parameters,random_state=99,verbose=3)\n",
    "#fitting to LDA transformed training data \n",
    "search_lda = clf.fit(X_train_features, y_train)"
   ]
  },
  {
   "cell_type": "code",
   "execution_count": 6,
   "metadata": {},
   "outputs": [
    {
     "ename": "FileNotFoundError",
     "evalue": "[Errno 2] No such file or directory: '..data/exteral/svm_randomized_search_cv.pkl'",
     "output_type": "error",
     "traceback": [
      "\u001b[0;31m---------------------------------------------------------------------------\u001b[0m",
      "\u001b[0;31mFileNotFoundError\u001b[0m                         Traceback (most recent call last)",
      "\u001b[0;32m/var/folders/ph/_s861md14q5c2ykky6q5pgd80000gn/T/ipykernel_39372/2421674243.py\u001b[0m in \u001b[0;36m<module>\u001b[0;34m\u001b[0m\n\u001b[1;32m      1\u001b[0m \u001b[0;31m#dumping randomized search cv into pickle file\u001b[0m\u001b[0;34m\u001b[0m\u001b[0;34m\u001b[0m\u001b[0m\n\u001b[0;32m----> 2\u001b[0;31m \u001b[0;32mwith\u001b[0m \u001b[0mopen\u001b[0m\u001b[0;34m(\u001b[0m\u001b[0;34m'..data/exteral/svm_randomized_search_cv.pkl'\u001b[0m\u001b[0;34m,\u001b[0m\u001b[0;34m'wb'\u001b[0m\u001b[0;34m)\u001b[0m \u001b[0;32mas\u001b[0m \u001b[0mf\u001b[0m\u001b[0;34m:\u001b[0m\u001b[0;34m\u001b[0m\u001b[0;34m\u001b[0m\u001b[0m\n\u001b[0m\u001b[1;32m      3\u001b[0m   \u001b[0mpickle\u001b[0m\u001b[0;34m.\u001b[0m\u001b[0mdump\u001b[0m\u001b[0;34m(\u001b[0m\u001b[0msearch_lda\u001b[0m\u001b[0;34m,\u001b[0m\u001b[0mf\u001b[0m\u001b[0;34m)\u001b[0m\u001b[0;34m\u001b[0m\u001b[0;34m\u001b[0m\u001b[0m\n",
      "\u001b[0;31mFileNotFoundError\u001b[0m: [Errno 2] No such file or directory: '..data/exteral/svm_randomized_search_cv.pkl'"
     ]
    }
   ],
   "source": [
    "#dumping randomized search cv into pickle file \n",
    "with open('..data/exteral/svm_randomized_search_cv.pkl','wb') as f:\n",
    "  pickle.dump(search_lda,f)"
   ]
  },
  {
   "cell_type": "code",
   "execution_count": 7,
   "metadata": {},
   "outputs": [
    {
     "data": {
      "text/plain": [
       "{'kernel': 'sigmoid', 'gamma': 'scale', 'C': 0.438421052631579}"
      ]
     },
     "execution_count": 7,
     "metadata": {},
     "output_type": "execute_result"
    }
   ],
   "source": [
    "#best model\n",
    "search_lda.best_params_"
   ]
  },
  {
   "cell_type": "code",
   "execution_count": null,
   "metadata": {},
   "outputs": [],
   "source": []
  },
  {
   "cell_type": "code",
   "execution_count": 4,
   "metadata": {},
   "outputs": [],
   "source": [
    "# import matplotlib.pyplot as plt\n",
    "\n",
    "# # Display some sample HOG features from X_train_features\n",
    "# num_samples = 5  # Number of samples to display\n",
    "\n",
    "# for i in range(num_samples):\n",
    "#     plt.figure(figsize=(8, 4))\n",
    "#     plt.subplot(1, 2, 1)\n",
    "#     plt.imshow(X_train[i])  # Display the original image\n",
    "#     plt.title(\"Original Image\")\n",
    "\n",
    "#     plt.subplot(1, 2, 2)\n",
    "#     hog_feature = X_train_features[i]\n",
    "#     plt.plot(hog_feature, color='black')  # Display the HOG feature as a 1D vector\n",
    "#     plt.title(\"HOG Feature (1D)\")\n",
    "#     plt.show()\n",
    "\n",
    "# # Display some sample HOG features from X_test_features\n",
    "# for i in range(num_samples):\n",
    "#     plt.figure(figsize=(8, 4))\n",
    "#     plt.subplot(1, 2, 1)\n",
    "#     plt.imshow(X_test[i])  # Display the original image\n",
    "#     plt.title(\"Original Image\")\n",
    "\n",
    "#     plt.subplot(1, 2, 2)\n",
    "#     hog_feature = X_test_features[i]\n",
    "#     plt.plot(hog_feature, color='black')  # Display the HOG feature as a 1D vector\n",
    "#     plt.title(\"HOG Feature (1D)\")\n",
    "#     plt.show()\n"
   ]
  },
  {
   "cell_type": "code",
   "execution_count": 9,
   "metadata": {},
   "outputs": [
    {
     "data": {
      "text/html": [
       "<style>#sk-container-id-1 {color: black;}#sk-container-id-1 pre{padding: 0;}#sk-container-id-1 div.sk-toggleable {background-color: white;}#sk-container-id-1 label.sk-toggleable__label {cursor: pointer;display: block;width: 100%;margin-bottom: 0;padding: 0.3em;box-sizing: border-box;text-align: center;}#sk-container-id-1 label.sk-toggleable__label-arrow:before {content: \"▸\";float: left;margin-right: 0.25em;color: #696969;}#sk-container-id-1 label.sk-toggleable__label-arrow:hover:before {color: black;}#sk-container-id-1 div.sk-estimator:hover label.sk-toggleable__label-arrow:before {color: black;}#sk-container-id-1 div.sk-toggleable__content {max-height: 0;max-width: 0;overflow: hidden;text-align: left;background-color: #f0f8ff;}#sk-container-id-1 div.sk-toggleable__content pre {margin: 0.2em;color: black;border-radius: 0.25em;background-color: #f0f8ff;}#sk-container-id-1 input.sk-toggleable__control:checked~div.sk-toggleable__content {max-height: 200px;max-width: 100%;overflow: auto;}#sk-container-id-1 input.sk-toggleable__control:checked~label.sk-toggleable__label-arrow:before {content: \"▾\";}#sk-container-id-1 div.sk-estimator input.sk-toggleable__control:checked~label.sk-toggleable__label {background-color: #d4ebff;}#sk-container-id-1 div.sk-label input.sk-toggleable__control:checked~label.sk-toggleable__label {background-color: #d4ebff;}#sk-container-id-1 input.sk-hidden--visually {border: 0;clip: rect(1px 1px 1px 1px);clip: rect(1px, 1px, 1px, 1px);height: 1px;margin: -1px;overflow: hidden;padding: 0;position: absolute;width: 1px;}#sk-container-id-1 div.sk-estimator {font-family: monospace;background-color: #f0f8ff;border: 1px dotted black;border-radius: 0.25em;box-sizing: border-box;margin-bottom: 0.5em;}#sk-container-id-1 div.sk-estimator:hover {background-color: #d4ebff;}#sk-container-id-1 div.sk-parallel-item::after {content: \"\";width: 100%;border-bottom: 1px solid gray;flex-grow: 1;}#sk-container-id-1 div.sk-label:hover label.sk-toggleable__label {background-color: #d4ebff;}#sk-container-id-1 div.sk-serial::before {content: \"\";position: absolute;border-left: 1px solid gray;box-sizing: border-box;top: 0;bottom: 0;left: 50%;z-index: 0;}#sk-container-id-1 div.sk-serial {display: flex;flex-direction: column;align-items: center;background-color: white;padding-right: 0.2em;padding-left: 0.2em;position: relative;}#sk-container-id-1 div.sk-item {position: relative;z-index: 1;}#sk-container-id-1 div.sk-parallel {display: flex;align-items: stretch;justify-content: center;background-color: white;position: relative;}#sk-container-id-1 div.sk-item::before, #sk-container-id-1 div.sk-parallel-item::before {content: \"\";position: absolute;border-left: 1px solid gray;box-sizing: border-box;top: 0;bottom: 0;left: 50%;z-index: -1;}#sk-container-id-1 div.sk-parallel-item {display: flex;flex-direction: column;z-index: 1;position: relative;background-color: white;}#sk-container-id-1 div.sk-parallel-item:first-child::after {align-self: flex-end;width: 50%;}#sk-container-id-1 div.sk-parallel-item:last-child::after {align-self: flex-start;width: 50%;}#sk-container-id-1 div.sk-parallel-item:only-child::after {width: 0;}#sk-container-id-1 div.sk-dashed-wrapped {border: 1px dashed gray;margin: 0 0.4em 0.5em 0.4em;box-sizing: border-box;padding-bottom: 0.4em;background-color: white;}#sk-container-id-1 div.sk-label label {font-family: monospace;font-weight: bold;display: inline-block;line-height: 1.2em;}#sk-container-id-1 div.sk-label-container {text-align: center;}#sk-container-id-1 div.sk-container {/* jupyter's `normalize.less` sets `[hidden] { display: none; }` but bootstrap.min.css set `[hidden] { display: none !important; }` so we also need the `!important` here to be able to override the default hidden behavior on the sphinx rendered scikit-learn.org. See: https://github.com/scikit-learn/scikit-learn/issues/21755 */display: inline-block !important;position: relative;}#sk-container-id-1 div.sk-text-repr-fallback {display: none;}</style><div id=\"sk-container-id-1\" class=\"sk-top-container\"><div class=\"sk-text-repr-fallback\"><pre>SVC(C=0.438421052631579, kernel=&#x27;sigmoid&#x27;, random_state=42)</pre><b>In a Jupyter environment, please rerun this cell to show the HTML representation or trust the notebook. <br />On GitHub, the HTML representation is unable to render, please try loading this page with nbviewer.org.</b></div><div class=\"sk-container\" hidden><div class=\"sk-item\"><div class=\"sk-estimator sk-toggleable\"><input class=\"sk-toggleable__control sk-hidden--visually\" id=\"sk-estimator-id-1\" type=\"checkbox\" checked><label for=\"sk-estimator-id-1\" class=\"sk-toggleable__label sk-toggleable__label-arrow\">SVC</label><div class=\"sk-toggleable__content\"><pre>SVC(C=0.438421052631579, kernel=&#x27;sigmoid&#x27;, random_state=42)</pre></div></div></div></div></div>"
      ],
      "text/plain": [
       "SVC(C=0.438421052631579, kernel='sigmoid', random_state=42)"
      ]
     },
     "execution_count": 9,
     "metadata": {},
     "output_type": "execute_result"
    }
   ],
   "source": [
    "# 3. Training: Train an SVM classifier\n",
    "svm_classifier = SVC(kernel='sigmoid',gamma='scale', C=0.438421052631579, random_state=42)\n",
    "svm_classifier.fit(X_train_features, y_train)"
   ]
  },
  {
   "cell_type": "code",
   "execution_count": 10,
   "metadata": {},
   "outputs": [
    {
     "name": "stdout",
     "output_type": "stream",
     "text": [
      "Train Accuracy: 86.23%\n",
      "Test Accuracy: 90.00%\n"
     ]
    }
   ],
   "source": [
    "# 5. Testing\n",
    "y_train_pred = svm_classifier.predict(X_train_features)\n",
    "train_accuracy = accuracy_score(y_train, y_train_pred)\n",
    "print(f\"Train Accuracy: {train_accuracy * 100:.2f}%\")\n",
    "\n",
    "y_test_pred = svm_classifier.predict(X_test_features)\n",
    "test_accuracy = accuracy_score(y_test, y_test_pred)\n",
    "print(f\"Test Accuracy: {test_accuracy * 100:.2f}%\")"
   ]
  },
  {
   "cell_type": "code",
   "execution_count": 15,
   "metadata": {},
   "outputs": [
    {
     "name": "stdout",
     "output_type": "stream",
     "text": [
      "Cohen's Kappa: 0.0\n",
      "Classification report:\n",
      "                precision    recall  f1-score   support\n",
      "\n",
      "pseudodiploria       0.00      0.00      0.00       144\n",
      "          apal       0.90      1.00      0.95      1296\n",
      "\n",
      "      accuracy                           0.90      1440\n",
      "     macro avg       0.45      0.50      0.47      1440\n",
      "  weighted avg       0.81      0.90      0.85      1440\n",
      "\n",
      "Confusion Matrix:\n",
      "[[   0  144]\n",
      " [   0 1296]]\n"
     ]
    },
    {
     "name": "stderr",
     "output_type": "stream",
     "text": [
      "/Users/sumaiyauddin/opt/anaconda3/lib/python3.9/site-packages/sklearn/metrics/_classification.py:1469: UndefinedMetricWarning: Precision and F-score are ill-defined and being set to 0.0 in labels with no predicted samples. Use `zero_division` parameter to control this behavior.\n",
      "  _warn_prf(average, modifier, msg_start, len(result))\n",
      "/Users/sumaiyauddin/opt/anaconda3/lib/python3.9/site-packages/sklearn/metrics/_classification.py:1469: UndefinedMetricWarning: Precision and F-score are ill-defined and being set to 0.0 in labels with no predicted samples. Use `zero_division` parameter to control this behavior.\n",
      "  _warn_prf(average, modifier, msg_start, len(result))\n",
      "/Users/sumaiyauddin/opt/anaconda3/lib/python3.9/site-packages/sklearn/metrics/_classification.py:1469: UndefinedMetricWarning: Precision and F-score are ill-defined and being set to 0.0 in labels with no predicted samples. Use `zero_division` parameter to control this behavior.\n",
      "  _warn_prf(average, modifier, msg_start, len(result))\n"
     ]
    }
   ],
   "source": [
    "from sklearn.metrics import classification_report, confusion_matrix, cohen_kappa_score\n",
    "\n",
    "# Make predictions on the test data\n",
    "y_pred = svm_classifier.predict(X_test_features)\n",
    "\n",
    "# Get the class labels\n",
    "labels = list(set(y_train))\n",
    "\n",
    "# Cohen's Kappa\n",
    "kappa = cohen_kappa_score(y_test, y_pred)\n",
    "print(f\"Cohen's Kappa: {kappa}\")\n",
    "\n",
    "# Classification report\n",
    "report = classification_report(y_test, y_pred, target_names=labels)\n",
    "print(\"Classification report:\")\n",
    "print(report)\n",
    "\n",
    "# Confusion Matrix\n",
    "cm = confusion_matrix(y_test, y_pred)\n",
    "print(\"Confusion Matrix:\")\n",
    "print(cm)\n",
    "\n",
    "\n"
   ]
  },
  {
   "cell_type": "code",
   "execution_count": 16,
   "metadata": {},
   "outputs": [
    {
     "name": "stdout",
     "output_type": "stream",
     "text": [
      "Accuracy of the model is: 90.0 %\n",
      "Cohen's Kappa: 0.0\n",
      "Classification Report:\n",
      "                precision    recall  f1-score   support\n",
      "\n",
      "          apal       0.00      0.00      0.00       144\n",
      "pseudodiploria       0.90      1.00      0.95      1296\n",
      "\n",
      "      accuracy                           0.90      1440\n",
      "     macro avg       0.45      0.50      0.47      1440\n",
      "  weighted avg       0.81      0.90      0.85      1440\n",
      "\n"
     ]
    },
    {
     "name": "stderr",
     "output_type": "stream",
     "text": [
      "/Users/sumaiyauddin/opt/anaconda3/lib/python3.9/site-packages/sklearn/metrics/_classification.py:1469: UndefinedMetricWarning: Precision and F-score are ill-defined and being set to 0.0 in labels with no predicted samples. Use `zero_division` parameter to control this behavior.\n",
      "  _warn_prf(average, modifier, msg_start, len(result))\n",
      "/Users/sumaiyauddin/opt/anaconda3/lib/python3.9/site-packages/sklearn/metrics/_classification.py:1469: UndefinedMetricWarning: Precision and F-score are ill-defined and being set to 0.0 in labels with no predicted samples. Use `zero_division` parameter to control this behavior.\n",
      "  _warn_prf(average, modifier, msg_start, len(result))\n",
      "/Users/sumaiyauddin/opt/anaconda3/lib/python3.9/site-packages/sklearn/metrics/_classification.py:1469: UndefinedMetricWarning: Precision and F-score are ill-defined and being set to 0.0 in labels with no predicted samples. Use `zero_division` parameter to control this behavior.\n",
      "  _warn_prf(average, modifier, msg_start, len(result))\n"
     ]
    }
   ],
   "source": [
    "from sklearn.metrics import cohen_kappa_score, classification_report\n",
    "\n",
    "# Step 1: Import necessary libraries and dependencies\n",
    "import numpy as np\n",
    "from sklearn.metrics import accuracy_score\n",
    "\n",
    "# Step 2: Evaluate the model on the test data (replace with your model and test data)\n",
    "y_true = y_test  # Replace with your true labels\n",
    "y_pred = svm_classifier.predict(X_test_features)  # Replace with your model predictions\n",
    "\n",
    "# Calculate accuracy\n",
    "accuracy = accuracy_score(y_true, y_pred)\n",
    "print(\"Accuracy of the model is:\", accuracy * 100, \"%\")\n",
    "\n",
    "# Step 3: Calculate Cohen's Kappa\n",
    "cohen_kappa = cohen_kappa_score(y_true, y_pred)\n",
    "print(\"Cohen's Kappa:\", cohen_kappa)\n",
    "\n",
    "# Step 4: Generate a classification report\n",
    "report = classification_report(y_true, y_pred)\n",
    "print(\"Classification Report:\")\n",
    "print(report)\n"
   ]
  },
  {
   "cell_type": "code",
   "execution_count": 17,
   "metadata": {},
   "outputs": [
    {
     "name": "stdout",
     "output_type": "stream",
     "text": [
      "Accuracy of the model is: 86.23087621696801 %\n",
      "Cohen's Kappa: 0.0\n",
      "Classification Report:\n",
      "                precision    recall  f1-score   support\n",
      "\n",
      "          apal       0.00      0.00      0.00       792\n",
      "pseudodiploria       0.86      1.00      0.93      4960\n",
      "\n",
      "      accuracy                           0.86      5752\n",
      "     macro avg       0.43      0.50      0.46      5752\n",
      "  weighted avg       0.74      0.86      0.80      5752\n",
      "\n"
     ]
    },
    {
     "name": "stderr",
     "output_type": "stream",
     "text": [
      "/Users/sumaiyauddin/opt/anaconda3/lib/python3.9/site-packages/sklearn/metrics/_classification.py:1469: UndefinedMetricWarning: Precision and F-score are ill-defined and being set to 0.0 in labels with no predicted samples. Use `zero_division` parameter to control this behavior.\n",
      "  _warn_prf(average, modifier, msg_start, len(result))\n",
      "/Users/sumaiyauddin/opt/anaconda3/lib/python3.9/site-packages/sklearn/metrics/_classification.py:1469: UndefinedMetricWarning: Precision and F-score are ill-defined and being set to 0.0 in labels with no predicted samples. Use `zero_division` parameter to control this behavior.\n",
      "  _warn_prf(average, modifier, msg_start, len(result))\n",
      "/Users/sumaiyauddin/opt/anaconda3/lib/python3.9/site-packages/sklearn/metrics/_classification.py:1469: UndefinedMetricWarning: Precision and F-score are ill-defined and being set to 0.0 in labels with no predicted samples. Use `zero_division` parameter to control this behavior.\n",
      "  _warn_prf(average, modifier, msg_start, len(result))\n"
     ]
    }
   ],
   "source": [
    "from sklearn.metrics import cohen_kappa_score, classification_report\n",
    "\n",
    "# Step 1: Import necessary libraries and dependencies\n",
    "import numpy as np\n",
    "from sklearn.metrics import accuracy_score\n",
    "\n",
    "# Step 2: Evaluate the model on the test data (replace with your model and test data)\n",
    "y_true = y_train  # Replace with your true labels\n",
    "y_pred = svm_classifier.predict(X_train_features)  # Replace with your model predictions\n",
    "\n",
    "# Calculate accuracy\n",
    "accuracy = accuracy_score(y_true, y_pred)\n",
    "print(\"Accuracy of the model is:\", accuracy * 100, \"%\")\n",
    "\n",
    "# Step 3: Calculate Cohen's Kappa\n",
    "cohen_kappa = cohen_kappa_score(y_true, y_pred)\n",
    "print(\"Cohen's Kappa:\", cohen_kappa)\n",
    "\n",
    "# Step 4: Generate a classification report\n",
    "report = classification_report(y_true, y_pred)\n",
    "print(\"Classification Report:\")\n",
    "print(report)"
   ]
  },
  {
   "cell_type": "code",
   "execution_count": null,
   "metadata": {},
   "outputs": [],
   "source": [
    "# Example image (replace with your own image)\n",
    "image_to_apply_hog = X_train[0]\n",
    "\n",
    "# Calculate HOG features for the image\n",
    "fd, hog_image = hog(image_to_apply_hog, pixels_per_cell=(8, 8), cells_per_block=(2, 2), visualize=True, multichannel=True, channel_axis=2)\n",
    "\n",
    "# Rescale HOG image for better visualization\n",
    "hog_image_rescaled = exposure.rescale_intensity(hog_image, in_range=(0, 10))\n",
    "\n",
    "# Display the original image\n",
    "plt.figure(figsize=(8, 4))\n",
    "plt.subplot(1, 2, 1)\n",
    "plt.imshow(image_to_apply_hog)\n",
    "plt.title(\"Original Image\")\n",
    "\n",
    "# Display the HOG image\n",
    "plt.subplot(1, 2, 2)\n",
    "plt.imshow(hog_image_rescaled, cmap='gray')\n",
    "plt.title(\"HOG Features\")\n",
    "plt.show()\n"
   ]
  },
  {
   "cell_type": "code",
   "execution_count": null,
   "metadata": {},
   "outputs": [],
   "source": []
  },
  {
   "cell_type": "markdown",
   "metadata": {},
   "source": [
    "### SVM with balanced data"
   ]
  },
  {
   "cell_type": "code",
   "execution_count": 7,
   "metadata": {},
   "outputs": [
    {
     "name": "stdout",
     "output_type": "stream",
     "text": [
      "X_train shape: (10240, 224, 224, 3)\n",
      "y_train shape: (10240,)\n",
      "X_test shape: (2568, 224, 224, 3)\n",
      "y_test shape: (2568,)\n"
     ]
    }
   ],
   "source": [
    "# Load the augmented data from the saved file\n",
    "data = np.load('../data/external/coral_augmented_combined_bl.npz')\n",
    "\n",
    "# Access the arrays from the loaded data\n",
    "X_train = data['X_train']\n",
    "y_train = data['y_train']\n",
    "X_test = data['X_test']\n",
    "y_test = data['y_test']\n",
    "X_valid = data['X_valid']\n",
    "y_valid = data['y_valid']\n",
    "\n",
    "# Combine X_train and X_valid\n",
    "X_train = np.concatenate((X_train, X_valid), axis=0)\n",
    "\n",
    "# Combine y_train and y_valid\n",
    "y_train = np.concatenate((y_train, y_valid), axis=0)\n",
    "\n",
    "# Print the shapes to verify\n",
    "print(f\"X_train shape: {X_train.shape}\")\n",
    "print(f\"y_train shape: {y_train.shape}\")\n",
    "print(f\"X_test shape: {X_test.shape}\")\n",
    "print(f\"y_test shape: {y_test.shape}\")"
   ]
  },
  {
   "cell_type": "code",
   "execution_count": 8,
   "metadata": {},
   "outputs": [
    {
     "name": "stdout",
     "output_type": "stream",
     "text": [
      "X_train_features Shape: (10240, 78732)\n",
      "X_test_features Shape: (2568, 78732)\n"
     ]
    }
   ],
   "source": [
    "# Define the HOG parameters\n",
    "orientations = 9\n",
    "pixels_per_cell = (8, 8)  # Adjusted to 8x8 for larger images\n",
    "cells_per_block = (2, 2)  # Adjusted to 2x2 for larger images\n",
    "\n",
    "# Function to extract HOG features from a single color image\n",
    "def extract_features(img):\n",
    "    # Compute HOG features for each color channel separately\n",
    "    hog_features = []\n",
    "    for channel in range(img.shape[2]):\n",
    "        features = hog(img[:, :, channel], orientations=orientations,\n",
    "                        pixels_per_cell=pixels_per_cell,\n",
    "                        cells_per_block=cells_per_block,\n",
    "                        visualize=False,\n",
    "                        transform_sqrt=True,\n",
    "                        feature_vector=True,\n",
    "                        block_norm='L2-Hys')\n",
    "        hog_features.extend(features)\n",
    "    return np.array(hog_features)\n",
    "\n",
    "# Apply the extract_features function to all images in X_train and X_test\n",
    "X_train_features = np.array([extract_features(img) for img in X_train])\n",
    "X_test_features = np.array([extract_features(img) for img in X_test])\n",
    "\n",
    "print(f\"X_train_features Shape: {X_train_features.shape}\")\n",
    "print(f\"X_test_features Shape: {X_test_features.shape}\")\n"
   ]
  },
  {
   "cell_type": "code",
   "execution_count": 9,
   "metadata": {},
   "outputs": [],
   "source": [
    "import pickle\n",
    "\n",
    "# Save HOG features to a pickle file\n",
    "with open('hog_features.pkl', 'wb') as f:\n",
    "    pickle.dump((X_train_features, X_test_features, y_train, y_test), f)"
   ]
  },
  {
   "cell_type": "code",
   "execution_count": null,
   "metadata": {},
   "outputs": [],
   "source": []
  },
  {
   "cell_type": "code",
   "execution_count": 14,
   "metadata": {},
   "outputs": [
    {
     "ename": "",
     "evalue": "",
     "output_type": "error",
     "traceback": [
      "\u001b[1;31mThe Kernel crashed while executing code in the the current cell or a previous cell. Please review the code in the cell(s) to identify a possible cause of the failure. Click <a href='https://aka.ms/vscodeJupyterKernelCrash'>here</a> for more info. View Jupyter <a href='command:jupyter.viewOutput'>log</a> for further details."
     ]
    }
   ],
   "source": [
    "# Reshape your training and testing data into 2D feature vectors\n",
    "X_train_flattened = X_train.reshape(X_train.shape[0], -1)  # Flatten the images\n",
    "X_test_flattened = X_test.reshape(X_test.shape[0], -1)\n",
    "\n",
    "\n",
    "lda = LinearDiscriminantAnalysis()\n",
    "lda.fit(X_train_flattened, y_train)\n"
   ]
  },
  {
   "cell_type": "code",
   "execution_count": null,
   "metadata": {},
   "outputs": [],
   "source": [
    "#getting explained variance ratio from the lda model \n",
    "evr = lda.explained_variance_ratio_\n",
    "components = range(1, len(evr) + 1)\n",
    "\n",
    "#plotting scree plot\n",
    "fig, ax = plt.subplots(figsize = (8,5))\n",
    "ax.bar(x = components, height = evr, label = 'Explained Variance');\n",
    "plt.plot(components, np.cumsum(evr), marker = '.', color = 'orange', label = 'Cumulative Explained Variance')\n",
    "plt.axhline(y = .95, color = 'r', linestyle = '--', label = '0.95 Explained Variance')\n",
    "plt.xticks(range(1, len(evr)+1));\n",
    "plt.title('LDA: Explained Variance');\n",
    "plt.xlabel('Component');\n",
    "plt.ylabel('Explained Variance');\n",
    "plt.legend(fontsize = 9);"
   ]
  },
  {
   "cell_type": "code",
   "execution_count": null,
   "metadata": {},
   "outputs": [],
   "source": [
    "#fit on training data and transform\n",
    "X_train_lda = lda.transform(X_train)\n",
    "X_test_lda = lda.transform(X_test)"
   ]
  },
  {
   "cell_type": "code",
   "execution_count": null,
   "metadata": {},
   "outputs": [],
   "source": [
    "fig, ax = plt.subplots(figsize = (8,8))\n",
    "ax = sns.scatterplot(x = X_train_lda[:,0], y = X_train_lda[:,1], hue = y_train, palette = 'pastel',alpha=.6);\n",
    "handler, _ = ax.get_legend_handles_labels();\n",
    "plt.legend(handler, letters, bbox_to_anchor = (1, 1));\n",
    "plt.title('2D Embedding of Sign Language Images')\n",
    "plt.xlabel('Linear Discriminant 1');\n",
    "plt.ylabel('Linear Discriminant 2');"
   ]
  },
  {
   "cell_type": "code",
   "execution_count": 5,
   "metadata": {},
   "outputs": [
    {
     "name": "stderr",
     "output_type": "stream",
     "text": [
      "/var/folders/ph/_s861md14q5c2ykky6q5pgd80000gn/T/ipykernel_67623/3562830453.py:5: FutureWarning: `multichannel` is a deprecated argument name for `hog`. It will be removed in version 1.0. Please use `channel_axis` instead.\n",
      "  fd, hog_image = hog(image, pixels_per_cell=(8, 8), cells_per_block=(2, 2), visualize=True, multichannel=True, channel_axis=2)\n"
     ]
    },
    {
     "name": "stdout",
     "output_type": "stream",
     "text": [
      "X_train_features Shape: (10240, 26244)\n",
      "X_test_features Shape: (2568, 26244)\n"
     ]
    }
   ],
   "source": [
    "# def extract_hog_features(images):\n",
    "#     features = []\n",
    "#     for image in images:\n",
    "#         # Specify channel_axis=2 to indicate that channels are along the third axis (for color images)\n",
    "#         fd, hog_image = hog(image, pixels_per_cell=(8, 8), cells_per_block=(2, 2), visualize=True, multichannel=True, channel_axis=2)\n",
    "#         features.append(fd)\n",
    "#     return np.array(features)\n",
    "\n",
    "# X_train_features = extract_hog_features(X_train)\n",
    "# X_test_features = extract_hog_features(X_test)\n",
    "# print(f\"X_train_features Shape: {X_train_features.shape}\")\n",
    "# print(f\"X_test_features Shape: {X_test_features.shape}\")"
   ]
  },
  {
   "cell_type": "code",
   "execution_count": null,
   "metadata": {},
   "outputs": [
    {
     "name": "stdout",
     "output_type": "stream",
     "text": [
      "Fitting 5 folds for each of 10 candidates, totalling 50 fits\n",
      "[CV 1/5] END C=0.438421052631579, gamma=scale, kernel=sigmoid;, score=0.487 total time=48.5min\n"
     ]
    }
   ],
   "source": [
    "from sklearn.model_selection import RandomizedSearchCV\n",
    "from sklearn.svm import SVC\n",
    "import pickle\n",
    "from sklearn.metrics import classification_report\n",
    "\n",
    "#defining support vector machine parameters\n",
    "parameters = {\n",
    "    'kernel':['linear','poly','rbf','sigmoid'], \n",
    "    'gamma':['scale','auto'],\n",
    "    'C':np.linspace(0.01,.75,5)\n",
    "    }\n",
    "\n",
    "#defining randomized grid search cv\n",
    "clf = RandomizedSearchCV(SVC(),param_distributions=parameters,random_state=99,verbose=3)\n",
    "#fitting to LDA transformed training data \n",
    "search_lda = clf.fit(X_train_lda, y_train)"
   ]
  },
  {
   "cell_type": "code",
   "execution_count": null,
   "metadata": {},
   "outputs": [],
   "source": [
    "#dumping randomized search cv into pickle file \n",
    "with open('../data/external/svm_randomized_search_cv.pkl','wb') as f:\n",
    "  pickle.dump(search_lda,f)"
   ]
  },
  {
   "cell_type": "code",
   "execution_count": null,
   "metadata": {},
   "outputs": [],
   "source": [
    "#best model\n",
    "search_lda.best_params_"
   ]
  },
  {
   "cell_type": "code",
   "execution_count": 6,
   "metadata": {},
   "outputs": [],
   "source": [
    "# 3. Training: Train an SVM classifier\n",
    "svm_classifier = SVC(kernel='sigmoid',gamma='scale', C=0.438421052631579, random_state=42)\n",
    "svm_classifier.fit(X_train_lda, y_train)"
   ]
  },
  {
   "cell_type": "code",
   "execution_count": null,
   "metadata": {},
   "outputs": [],
   "source": [
    "from sklearn.metrics import cohen_kappa_score, classification_report\n",
    "\n",
    "# Step 1: Import necessary libraries and dependencies\n",
    "import numpy as np\n",
    "from sklearn.metrics import accuracy_score\n",
    "\n",
    "# Step 2: Evaluate the model on the test data (replace with your model and test data)\n",
    "y_true = y_test  # Replace with your true labels\n",
    "y_pred = svm_classifier.predict(X_test_lda)  # Replace with your model predictions\n",
    "\n",
    "# Calculate accuracy\n",
    "accuracy = accuracy_score(y_true, y_pred)\n",
    "print(\"Accuracy of the model is:\", accuracy * 100, \"%\")\n",
    "\n",
    "# Step 3: Calculate Cohen's Kappa\n",
    "cohen_kappa = cohen_kappa_score(y_true, y_pred)\n",
    "print(\"Cohen's Kappa:\", cohen_kappa)\n",
    "\n",
    "# Step 4: Generate a classification report\n",
    "report = classification_report(y_true, y_pred)\n",
    "print(\"Classification Report:\")\n",
    "print(report)\n"
   ]
  },
  {
   "cell_type": "code",
   "execution_count": null,
   "metadata": {},
   "outputs": [],
   "source": [
    "from sklearn.metrics import cohen_kappa_score, classification_report\n",
    "\n",
    "# Step 1: Import necessary libraries and dependencies\n",
    "import numpy as np\n",
    "from sklearn.metrics import accuracy_score\n",
    "\n",
    "# Step 2: Evaluate the model on the test data (replace with your model and test data)\n",
    "y_true = y_train  # Replace with your true labels\n",
    "y_pred = svm_classifier.predict(X_train_lda)  # Replace with your model predictions\n",
    "\n",
    "# Calculate accuracy\n",
    "accuracy = accuracy_score(y_true, y_pred)\n",
    "print(\"Accuracy of the model is:\", accuracy * 100, \"%\")\n",
    "\n",
    "# Step 3: Calculate Cohen's Kappa\n",
    "cohen_kappa = cohen_kappa_score(y_true, y_pred)\n",
    "print(\"Cohen's Kappa:\", cohen_kappa)\n",
    "\n",
    "# Step 4: Generate a classification report\n",
    "report = classification_report(y_true, y_pred)\n",
    "print(\"Classification Report:\")\n",
    "print(report)"
   ]
  },
  {
   "cell_type": "code",
   "execution_count": null,
   "metadata": {},
   "outputs": [],
   "source": []
  }
 ],
 "metadata": {
  "kernelspec": {
   "display_name": "base",
   "language": "python",
   "name": "python3"
  },
  "language_info": {
   "codemirror_mode": {
    "name": "ipython",
    "version": 3
   },
   "file_extension": ".py",
   "mimetype": "text/x-python",
   "name": "python",
   "nbconvert_exporter": "python",
   "pygments_lexer": "ipython3",
   "version": "3.9.13"
  }
 },
 "nbformat": 4,
 "nbformat_minor": 2
}
