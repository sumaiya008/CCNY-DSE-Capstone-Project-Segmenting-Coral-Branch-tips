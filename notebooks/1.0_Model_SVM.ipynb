{
 "cells": [
  {
   "cell_type": "code",
   "execution_count": 3,
   "metadata": {},
   "outputs": [],
   "source": [
    "import numpy as np\n",
    "\n",
    "from skimage.feature import hog\n",
    "from skimage import exposure\n",
    "import numpy as np\n",
    "from sklearn.svm import SVC\n",
    "from sklearn.metrics import accuracy_score"
   ]
  },
  {
   "cell_type": "code",
   "execution_count": 2,
   "metadata": {},
   "outputs": [
    {
     "name": "stdout",
     "output_type": "stream",
     "text": [
      "X_train shape: (3450, 224, 224, 3)\n",
      "y_train shape: (3450,)\n",
      "X_valid shape: (864, 224, 224, 3)\n",
      "y_valid shape: (864,)\n",
      "X_test shape: (1080, 224, 224, 3)\n",
      "y_test shape: (1080,)\n"
     ]
    }
   ],
   "source": [
    "# Load the augmented data from the saved file\n",
    "data = np.load('../data/external/coral_augmented_combined_vgg16_imbalaned.npz')\n",
    "\n",
    "# Access the arrays from the loaded data\n",
    "X_train = data['X_train']\n",
    "y_train = data['y_train']\n",
    "X_test = data['X_test']\n",
    "y_test = data['y_test']\n",
    "X_valid = data['X_valid']\n",
    "y_valid = data['y_valid']\n",
    "\n",
    "# Print the shapes to verify\n",
    "print(f\"X_train shape: {X_train.shape}\")\n",
    "print(f\"y_train shape: {y_train.shape}\")\n",
    "print(f\"X_valid shape: {X_valid.shape}\")\n",
    "print(f\"y_valid shape: {y_valid.shape}\")\n",
    "print(f\"X_test shape: {X_test.shape}\")\n",
    "print(f\"y_test shape: {y_test.shape}\")"
   ]
  },
  {
   "cell_type": "code",
   "execution_count": 5,
   "metadata": {},
   "outputs": [
    {
     "name": "stderr",
     "output_type": "stream",
     "text": [
      "/var/folders/ph/_s861md14q5c2ykky6q5pgd80000gn/T/ipykernel_64832/2483850840.py:9: FutureWarning: `multichannel` is a deprecated argument name for `hog`. It will be removed in version 1.0. Please use `channel_axis` instead.\n",
      "  fd, hog_image = hog(image, pixels_per_cell=(8, 8), cells_per_block=(2, 2), visualize=True, multichannel=True, channel_axis=2)\n"
     ]
    },
    {
     "name": "stdout",
     "output_type": "stream",
     "text": [
      "Validation Accuracy: 86.34%\n",
      "Test Accuracy: 87.50%\n"
     ]
    }
   ],
   "source": [
    "\n",
    "from skimage.feature import hog\n",
    "from skimage import exposure\n",
    "import numpy as np\n",
    "\n",
    "def extract_hog_features(images):\n",
    "    features = []\n",
    "    for image in images:\n",
    "        # Specify channel_axis=2 to indicate that channels are along the third axis (for color images)\n",
    "        fd, hog_image = hog(image, pixels_per_cell=(8, 8), cells_per_block=(2, 2), visualize=True, multichannel=True, channel_axis=2)\n",
    "        features.append(fd)\n",
    "    return np.array(features)\n",
    "\n",
    "X_train_features = extract_hog_features(X_train)\n",
    "X_valid_features = extract_hog_features(X_valid)\n",
    "X_test_features = extract_hog_features(X_test)\n",
    "\n",
    "\n",
    "# 3. Training: Train an SVM classifier\n",
    "svm_classifier = SVC(kernel='linear', C=1.0, random_state=42)  # You can choose different kernel and hyperparameters\n",
    "\n",
    "svm_classifier.fit(X_train_features, y_train)\n",
    "\n",
    "# 4. Validation\n",
    "y_valid_pred = svm_classifier.predict(X_valid_features)\n",
    "valid_accuracy = accuracy_score(y_valid, y_valid_pred)\n",
    "print(f\"Validation Accuracy: {valid_accuracy * 100:.2f}%\")\n",
    "\n",
    "# 5. Testing\n",
    "y_test_pred = svm_classifier.predict(X_test_features)\n",
    "test_accuracy = accuracy_score(y_test, y_test_pred)\n",
    "print(f\"Test Accuracy: {test_accuracy * 100:.2f}%\")\n"
   ]
  },
  {
   "cell_type": "code",
   "execution_count": null,
   "metadata": {},
   "outputs": [],
   "source": []
  }
 ],
 "metadata": {
  "kernelspec": {
   "display_name": "base",
   "language": "python",
   "name": "python3"
  },
  "language_info": {
   "codemirror_mode": {
    "name": "ipython",
    "version": 3
   },
   "file_extension": ".py",
   "mimetype": "text/x-python",
   "name": "python",
   "nbconvert_exporter": "python",
   "pygments_lexer": "ipython3",
   "version": "3.9.13"
  }
 },
 "nbformat": 4,
 "nbformat_minor": 2
}
