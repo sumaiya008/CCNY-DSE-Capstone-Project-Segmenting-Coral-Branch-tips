{
 "cells": [
  {
   "cell_type": "code",
   "execution_count": 1,
   "metadata": {},
   "outputs": [
    {
     "name": "stderr",
     "output_type": "stream",
     "text": [
      "/Users/sumaiyauddin/opt/anaconda3/envs/tensorflow_tf/lib/python3.9/site-packages/google/colab/data_table.py:30: UserWarning: IPython.utils.traitlets has moved to a top-level traitlets package.\n",
      "  from IPython.utils import traitlets as _traitlets\n",
      "2023-11-01 13:36:03.864818: I tensorflow/core/platform/cpu_feature_guard.cc:193] This TensorFlow binary is optimized with oneAPI Deep Neural Network Library (oneDNN) to use the following CPU instructions in performance-critical operations:  SSE4.1 SSE4.2\n",
      "To enable them in other operations, rebuild TensorFlow with the appropriate compiler flags.\n"
     ]
    }
   ],
   "source": [
    "import os\n",
    "import numpy as np\n",
    "import random\n",
    "import pickle\n",
    "from google.colab import drive\n",
    "import matplotlib.pyplot as plt\n",
    "from sklearn.model_selection import train_test_split\n",
    "from keras.preprocessing.image import ImageDataGenerator"
   ]
  },
  {
   "cell_type": "code",
   "execution_count": 2,
   "metadata": {},
   "outputs": [
    {
     "name": "stdout",
     "output_type": "stream",
     "text": [
      "X_train shape: (575, 224, 224, 3)\n",
      "y_train shape: (575,)\n",
      "X_valid shape: (144, 224, 224, 3)\n",
      "y_valid shape: (144,)\n",
      "X_test shape: (180, 224, 224, 3)\n",
      "y_test shape: (180,)\n"
     ]
    }
   ],
   "source": [
    "with open('../data/external/data.pkl','rb') as f:\n",
    "    X_train,y_train,X_test,y_test, X_valid, y_valid = pickle.load(f)\n",
    "    \n",
    "# Print the shapes to verify\n",
    "print(f\"X_train shape: {X_train.shape}\")\n",
    "print(f\"y_train shape: {y_train.shape}\")\n",
    "print(f\"X_valid shape: {X_valid.shape}\")\n",
    "print(f\"y_valid shape: {y_valid.shape}\")\n",
    "print(f\"X_test shape: {X_test.shape}\")\n",
    "print(f\"y_test shape: {y_test.shape}\")"
   ]
  },
  {
   "cell_type": "code",
   "execution_count": 13,
   "metadata": {},
   "outputs": [],
   "source": [
    "# Define the data augmentation parameters\n",
    "datagen = ImageDataGenerator(\n",
    "    rotation_range=10,\n",
    "    zoom_range=0.1,\n",
    "    width_shift_range=0.1,\n",
    "    height_shift_range=0.1,\n",
    "    shear_range=0.1,\n",
    "    brightness_range=[0.5, 1.5],\n",
    "    fill_mode='nearest'\n",
    "    #rescale=1.0 / 255  # Add normalization here\n",
    ")"
   ]
  },
  {
   "cell_type": "code",
   "execution_count": 14,
   "metadata": {},
   "outputs": [],
   "source": [
    "# Apply data augmentation to the training set\n",
    "X_train_augmented = []\n",
    "y_train_augmented = []\n",
    "for i in range(X_train.shape[0]):\n",
    "    img = X_train[i]\n",
    "    label = y_train[i]\n",
    "    for j in range(5):\n",
    "        x_augmented = datagen.random_transform(img)\n",
    "        X_train_augmented.append(x_augmented)\n",
    "        y_train_augmented.append(label)"
   ]
  },
  {
   "cell_type": "code",
   "execution_count": 15,
   "metadata": {},
   "outputs": [],
   "source": [
    "# Apply data augmentation to the test set\n",
    "X_test_augmented = []\n",
    "y_test_augmented = []\n",
    "for i in range(X_test.shape[0]):\n",
    "    img = X_test[i]\n",
    "    label = y_test[i]\n",
    "    for j in range(5):\n",
    "        x_augmented = datagen.random_transform(img)\n",
    "        X_test_augmented.append(x_augmented)\n",
    "        y_test_augmented.append(label)"
   ]
  },
  {
   "cell_type": "code",
   "execution_count": 16,
   "metadata": {},
   "outputs": [],
   "source": [
    "# Apply data augmentation to the test set\n",
    "X_valid_augmented = []\n",
    "y_valid_augmented = []\n",
    "for i in range(X_valid.shape[0]):\n",
    "    img = X_valid[i]\n",
    "    label = y_valid[i]\n",
    "    for j in range(5):\n",
    "        x_augmented = datagen.random_transform(img)\n",
    "        X_valid_augmented.append(x_augmented)\n",
    "        y_valid_augmented.append(label)"
   ]
  },
  {
   "cell_type": "code",
   "execution_count": 17,
   "metadata": {},
   "outputs": [],
   "source": [
    "# Convert the augmented data to numpy arrays\n",
    "X_train_augmented = np.array(X_train_augmented)\n",
    "y_train_augmented = np.array(y_train_augmented)\n",
    "X_test_augmented = np.array(X_test_augmented)\n",
    "y_test_augmented = np.array(y_test_augmented)\n",
    "X_valid_augmented = np.array(X_valid_augmented)\n",
    "y_valid_augmented = np.array(y_valid_augmented)"
   ]
  },
  {
   "cell_type": "code",
   "execution_count": 18,
   "metadata": {},
   "outputs": [
    {
     "name": "stdout",
     "output_type": "stream",
     "text": [
      "X_train_combined shape: (3450, 224, 224, 3)\n",
      "y_train_combined shape: (3450,)\n",
      "X_test_combined shape: (1080, 224, 224, 3)\n",
      "y_test_combined shape: (1080,)\n",
      "X_valid_combined shape: (864, 224, 224, 3)\n",
      "y_valid_combined shape: (864,)\n"
     ]
    }
   ],
   "source": [
    "# Combine the data\n",
    "X_train_combined = np.concatenate((X_train, X_train_augmented), axis=0)\n",
    "y_train_combined = np.concatenate((y_train, y_train_augmented), axis=0)\n",
    "X_test_combined = np.concatenate((X_test, X_test_augmented), axis=0)\n",
    "y_test_combined = np.concatenate((y_test, y_test_augmented), axis=0)\n",
    "X_valid_combined = np.concatenate((X_valid, X_valid_augmented), axis=0)\n",
    "y_valid_combined = np.concatenate((y_valid, y_valid_augmented), axis=0)\n",
    "\n",
    "# Check the shape of the combined data\n",
    "print(f'X_train_combined shape: {X_train_combined.shape}')\n",
    "print(f'y_train_combined shape: {y_train_combined.shape}')\n",
    "print(f'X_test_combined shape: {X_test_combined.shape}')\n",
    "print(f'y_test_combined shape: {y_test_combined.shape}')\n",
    "print(f'X_valid_combined shape: {X_valid_combined.shape}')\n",
    "print(f'y_valid_combined shape: {y_valid_combined.shape}')"
   ]
  },
  {
   "cell_type": "code",
   "execution_count": 19,
   "metadata": {},
   "outputs": [],
   "source": [
    "# Save the augmented data to files\n",
    "np.savez_compressed('../data/external/coral_augmented_combined_vgg16_imbalaned.npz',\n",
    "                    X_train=X_train_combined,\n",
    "                    y_train=y_train_combined,\n",
    "                    X_test=X_test_combined,\n",
    "                    y_test=y_test_combined,\n",
    "                    X_valid=X_valid_combined,\n",
    "                    y_valid=y_valid_combined)"
   ]
  },
  {
   "cell_type": "code",
   "execution_count": 10,
   "metadata": {},
   "outputs": [
    {
     "name": "stdout",
     "output_type": "stream",
     "text": [
      "X_train shape: (3450, 224, 224, 3)\n",
      "y_train shape: (3450,)\n",
      "X_valid shape: (864, 224, 224, 3)\n",
      "y_valid shape: (864,)\n",
      "X_test shape: (1080, 224, 224, 3)\n",
      "y_test shape: (1080,)\n"
     ]
    }
   ],
   "source": [
    "# Load the augmented data from the saved file\n",
    "data = np.load('../data/external/coral_augmented_combined_vgg16_imbalaned.npz')\n",
    "\n",
    "# Access the arrays from the loaded data\n",
    "X_train = data['X_train']\n",
    "y_train = data['y_train']\n",
    "X_test = data['X_test']\n",
    "y_test = data['y_test']\n",
    "X_valid = data['X_valid']\n",
    "y_valid = data['y_valid']\n",
    "\n",
    "# Print the shapes to verify\n",
    "print(f\"X_train shape: {X_train.shape}\")\n",
    "print(f\"y_train shape: {y_train.shape}\")\n",
    "print(f\"X_valid shape: {X_valid.shape}\")\n",
    "print(f\"y_valid shape: {y_valid.shape}\")\n",
    "print(f\"X_test shape: {X_test.shape}\")\n",
    "print(f\"y_test shape: {y_test.shape}\")"
   ]
  },
  {
   "cell_type": "markdown",
   "metadata": {},
   "source": [
    "## New augmentation parameter"
   ]
  },
  {
   "cell_type": "code",
   "execution_count": 2,
   "metadata": {},
   "outputs": [],
   "source": [
    "# Define the data augmentation parameters with increased intensity\n",
    "datagen = ImageDataGenerator(\n",
    "    rotation_range=30,           # Increase the rotation range\n",
    "    zoom_range=0.2,              # Increase the zoom range\n",
    "    width_shift_range=0.2,       # Increase the width shift range\n",
    "    height_shift_range=0.2,      # Increase the height shift range\n",
    "    shear_range=0.2,             # Increase the shear range\n",
    "    brightness_range=[0.2, 2.0],  # Adjust the brightness range\n",
    "    fill_mode='nearest',         # Fix the extra parenthesis here\n",
    "    rescale=1.0 / 255             # Correct the indentation\n",
    ")\n"
   ]
  },
  {
   "cell_type": "code",
   "execution_count": 5,
   "metadata": {},
   "outputs": [],
   "source": [
    "# Apply data augmentation to the training set\n",
    "X_train_augmented = []\n",
    "y_train_augmented = []\n",
    "for i in range(X_train.shape[0]):\n",
    "    img = X_train[i]\n",
    "    label = y_train[i]\n",
    "    for j in range(7):\n",
    "        x_augmented = datagen.random_transform(img)\n",
    "        X_train_augmented.append(x_augmented)\n",
    "        y_train_augmented.append(label)"
   ]
  },
  {
   "cell_type": "code",
   "execution_count": 6,
   "metadata": {},
   "outputs": [],
   "source": [
    "# Apply data augmentation to the test set\n",
    "X_test_augmented = []\n",
    "y_test_augmented = []\n",
    "for i in range(X_test.shape[0]):\n",
    "    img = X_test[i]\n",
    "    label = y_test[i]\n",
    "    for j in range(7):\n",
    "        x_augmented = datagen.random_transform(img)\n",
    "        X_test_augmented.append(x_augmented)\n",
    "        y_test_augmented.append(label)"
   ]
  },
  {
   "cell_type": "code",
   "execution_count": 7,
   "metadata": {},
   "outputs": [],
   "source": [
    "# Apply data augmentation to the test set\n",
    "X_valid_augmented = []\n",
    "y_valid_augmented = []\n",
    "for i in range(X_valid.shape[0]):\n",
    "    img = X_valid[i]\n",
    "    label = y_valid[i]\n",
    "    for j in range(7):\n",
    "        x_augmented = datagen.random_transform(img)\n",
    "        X_valid_augmented.append(x_augmented)\n",
    "        y_valid_augmented.append(label)"
   ]
  },
  {
   "cell_type": "code",
   "execution_count": 8,
   "metadata": {},
   "outputs": [],
   "source": [
    "# Convert the augmented data to numpy arrays\n",
    "X_train_augmented = np.array(X_train_augmented)\n",
    "y_train_augmented = np.array(y_train_augmented)\n",
    "X_test_augmented = np.array(X_test_augmented)\n",
    "y_test_augmented = np.array(y_test_augmented)\n",
    "X_valid_augmented = np.array(X_valid_augmented)\n",
    "y_valid_augmented = np.array(y_valid_augmented)"
   ]
  },
  {
   "cell_type": "code",
   "execution_count": 9,
   "metadata": {},
   "outputs": [
    {
     "name": "stdout",
     "output_type": "stream",
     "text": [
      "X_train_combined shape: (7592, 224, 224, 3)\n",
      "y_train_combined shape: (7592,)\n",
      "X_test_combined shape: (2376, 224, 224, 3)\n",
      "y_test_combined shape: (2376,)\n",
      "X_valid_combined shape: (1904, 224, 224, 3)\n",
      "y_valid_combined shape: (1904,)\n"
     ]
    }
   ],
   "source": [
    "# Combine the data\n",
    "X_train_combined = np.concatenate((X_train, X_train_augmented), axis=0)\n",
    "y_train_combined = np.concatenate((y_train, y_train_augmented), axis=0)\n",
    "X_test_combined = np.concatenate((X_test, X_test_augmented), axis=0)\n",
    "y_test_combined = np.concatenate((y_test, y_test_augmented), axis=0)\n",
    "X_valid_combined = np.concatenate((X_valid, X_valid_augmented), axis=0)\n",
    "y_valid_combined = np.concatenate((y_valid, y_valid_augmented), axis=0)\n",
    "\n",
    "# Check the shape of the combined data\n",
    "print(f'X_train_combined shape: {X_train_combined.shape}')\n",
    "print(f'y_train_combined shape: {y_train_combined.shape}')\n",
    "print(f'X_test_combined shape: {X_test_combined.shape}')\n",
    "print(f'y_test_combined shape: {y_test_combined.shape}')\n",
    "print(f'X_valid_combined shape: {X_valid_combined.shape}')\n",
    "print(f'y_valid_combined shape: {y_valid_combined.shape}')"
   ]
  },
  {
   "cell_type": "code",
   "execution_count": 9,
   "metadata": {},
   "outputs": [],
   "source": [
    "# Save the augmented data to files(data without annotation box)\n",
    "np.savez_compressed('../data/external/coral_augmented_combined.npz',\n",
    "                    X_train=X_train_combined,\n",
    "                    y_train=y_train_combined,\n",
    "                    X_test=X_test_combined,\n",
    "                    y_test=y_test_combined,\n",
    "                    X_valid=X_valid_combined,\n",
    "                    y_valid=y_valid_combined)"
   ]
  },
  {
   "cell_type": "code",
   "execution_count": null,
   "metadata": {},
   "outputs": [],
   "source": [
    "# Load the augmented data from the saved file\n",
    "data = np.load('../data/external/coral_augmented_combined.npz')\n",
    "\n",
    "# Access the arrays from the loaded data\n",
    "X_train = data['X_train']\n",
    "y_train = data['y_train']\n",
    "X_test = data['X_test']\n",
    "y_test = data['y_test']\n",
    "X_valid = data['X_valid']\n",
    "y_valid = data['y_valid']\n",
    "\n",
    "# Print the shapes to verify\n",
    "print(f\"X_train shape: {X_train.shape}\")\n",
    "print(f\"y_train shape: {y_train.shape}\")\n",
    "print(f\"X_valid shape: {X_valid.shape}\")\n",
    "print(f\"y_valid shape: {y_valid.shape}\")\n",
    "print(f\"X_test shape: {X_test.shape}\")\n",
    "print(f\"y_test shape: {y_test.shape}\")"
   ]
  },
  {
   "cell_type": "markdown",
   "metadata": {},
   "source": [
    "### Test data augmentation"
   ]
  },
  {
   "cell_type": "code",
   "execution_count": 6,
   "metadata": {},
   "outputs": [
    {
     "name": "stdout",
     "output_type": "stream",
     "text": [
      "X_test shape: (51, 224, 224, 3)\n",
      "y_test shape: (51,)\n"
     ]
    }
   ],
   "source": [
    "with open('../data/external/data_test.pkl','rb') as f:\n",
    "    X_test,y_test = pickle.load(f)\n",
    "    \n",
    "# Print the shapes to verify\n",
    "print(f\"X_test shape: {X_test.shape}\")\n",
    "print(f\"y_test shape: {y_test.shape}\")"
   ]
  },
  {
   "cell_type": "code",
   "execution_count": 9,
   "metadata": {},
   "outputs": [],
   "source": [
    "X_test_augmented = np.array(X_test_augmented)\n",
    "y_test_augmented = np.array(y_test_augmented)\n",
    "\n",
    "X_test_combined = np.concatenate((X_test, X_test_augmented), axis=0)\n",
    "y_test_combined = np.concatenate((y_test, y_test_augmented), axis=0)"
   ]
  },
  {
   "cell_type": "code",
   "execution_count": 10,
   "metadata": {},
   "outputs": [
    {
     "name": "stdout",
     "output_type": "stream",
     "text": [
      "X_test_combined shape: (306, 224, 224, 3)\n",
      "y_test_combined shape: (306,)\n"
     ]
    }
   ],
   "source": [
    "print(f'X_test_combined shape: {X_test_combined.shape}')\n",
    "print(f'y_test_combined shape: {y_test_combined.shape}')"
   ]
  },
  {
   "cell_type": "code",
   "execution_count": 11,
   "metadata": {},
   "outputs": [],
   "source": [
    "# Save the augmented data to files(data without annotation box)\n",
    "np.savez_compressed('../data/external/coral_augmented_test.npz',\n",
    "                    X_test=X_test_combined,\n",
    "                    y_test=y_test_combined)"
   ]
  },
  {
   "cell_type": "code",
   "execution_count": null,
   "metadata": {},
   "outputs": [],
   "source": []
  },
  {
   "cell_type": "markdown",
   "metadata": {},
   "source": [
    "## Augmenting balanced data\n"
   ]
  },
  {
   "cell_type": "code",
   "execution_count": 4,
   "metadata": {},
   "outputs": [
    {
     "name": "stdout",
     "output_type": "stream",
     "text": [
      "X_train shape: (949, 224, 224, 3)\n",
      "y_train shape: (949,)\n",
      "X_valid shape: (238, 224, 224, 3)\n",
      "y_valid shape: (238,)\n",
      "X_test shape: (297, 224, 224, 3)\n",
      "y_test shape: (297,)\n"
     ]
    }
   ],
   "source": [
    "with open('../data/external/data_bl_v2.pkl','rb') as f:\n",
    "    X_train,y_train,X_test,y_test, X_valid, y_valid = pickle.load(f)\n",
    "    \n",
    "# Print the shapes to verify\n",
    "print(f\"X_train shape: {X_train.shape}\")\n",
    "print(f\"y_train shape: {y_train.shape}\")\n",
    "print(f\"X_valid shape: {X_valid.shape}\")\n",
    "print(f\"y_valid shape: {y_valid.shape}\")\n",
    "print(f\"X_test shape: {X_test.shape}\")\n",
    "print(f\"y_test shape: {y_test.shape}\")"
   ]
  },
  {
   "cell_type": "code",
   "execution_count": 10,
   "metadata": {},
   "outputs": [],
   "source": [
    "# Save the augmented data to files(data without annotation box)\n",
    "np.savez_compressed('../data/external/coral_augmented_combined_bl_v2.npz',\n",
    "                    X_train=X_train_combined,\n",
    "                    y_train=y_train_combined,\n",
    "                    X_test=X_test_combined,\n",
    "                    y_test=y_test_combined,\n",
    "                    X_valid=X_valid_combined,\n",
    "                    y_valid=y_valid_combined)"
   ]
  },
  {
   "cell_type": "code",
   "execution_count": null,
   "metadata": {},
   "outputs": [],
   "source": []
  }
 ],
 "metadata": {
  "kernelspec": {
   "display_name": "tensorflow_tf",
   "language": "python",
   "name": "python3"
  },
  "language_info": {
   "codemirror_mode": {
    "name": "ipython",
    "version": 3
   },
   "file_extension": ".py",
   "mimetype": "text/x-python",
   "name": "python",
   "nbconvert_exporter": "python",
   "pygments_lexer": "ipython3",
   "version": "3.9.16"
  }
 },
 "nbformat": 4,
 "nbformat_minor": 2
}
