{
 "cells": [
  {
   "cell_type": "code",
   "execution_count": 11,
   "metadata": {},
   "outputs": [
    {
     "name": "stderr",
     "output_type": "stream",
     "text": [
      "/Users/sumaiyauddin/opt/anaconda3/envs/tensorflow_tf/lib/python3.9/site-packages/google/colab/data_table.py:30: UserWarning: IPython.utils.traitlets has moved to a top-level traitlets package.\n",
      "  from IPython.utils import traitlets as _traitlets\n",
      "2023-11-01 13:20:23.862514: I tensorflow/core/platform/cpu_feature_guard.cc:193] This TensorFlow binary is optimized with oneAPI Deep Neural Network Library (oneDNN) to use the following CPU instructions in performance-critical operations:  SSE4.1 SSE4.2\n",
      "To enable them in other operations, rebuild TensorFlow with the appropriate compiler flags.\n"
     ]
    }
   ],
   "source": [
    "import pickle\n",
    "import os\n",
    "import numpy as np\n",
    "import random\n",
    "import pickle\n",
    "from google.colab import drive\n",
    "import matplotlib.pyplot as plt\n",
    "from sklearn.model_selection import train_test_split\n",
    "from keras.preprocessing.image import ImageDataGenerator"
   ]
  },
  {
   "cell_type": "code",
   "execution_count": 5,
   "metadata": {},
   "outputs": [],
   "source": [
    "\n",
    "\n",
    "# Define the filenames for the pickle files\n",
    "images_pickle_file = 'images2.pickle'\n",
    "labels_pickle_file = 'labels2.pickle'\n",
    "\n",
    "# Load the 'images2' array from the pickle file\n",
    "with open(images_pickle_file, 'rb') as file:\n",
    "    loaded_images = pickle.load(file)\n",
    "\n",
    "# Load the 'labels2' array from the pickle file\n",
    "with open(labels_pickle_file, 'rb') as file:\n",
    "    loaded_labels = pickle.load(file)\n",
    "\n",
    "# Now, you have 'loaded_images' and 'loaded_labels' containing the data loaded from the pickle files.\n"
   ]
  },
  {
   "cell_type": "code",
   "execution_count": 6,
   "metadata": {},
   "outputs": [
    {
     "name": "stdout",
     "output_type": "stream",
     "text": [
      "Loaded Images shape: (899, 224, 224, 3)\n",
      "Loaded Labels shape: (899,)\n"
     ]
    }
   ],
   "source": [
    "print(f\"Loaded Images shape: {loaded_images.shape}\")\n",
    "print(f\"Loaded Labels shape: {loaded_labels.shape}\")\n"
   ]
  },
  {
   "cell_type": "code",
   "execution_count": 8,
   "metadata": {},
   "outputs": [],
   "source": [
    "images2 = loaded_images\n",
    "labels2 = loaded_labels"
   ]
  },
  {
   "cell_type": "code",
   "execution_count": 9,
   "metadata": {},
   "outputs": [
    {
     "name": "stdout",
     "output_type": "stream",
     "text": [
      "Filtered APAL Images shape: (117, 224, 224, 3)\n",
      "Filtered APAL Labels shape: (117,)\n"
     ]
    }
   ],
   "source": [
    "# Filter images and labels for the \"apal\" class\n",
    "apal_images = images2[labels2 == \"APAL\"]\n",
    "apal_labels = labels2[labels2 == \"APAL\"]\n",
    "\n",
    "# Check the shape of the filtered data\n",
    "print(f\"Filtered APAL Images shape: {apal_images.shape}\")\n",
    "print(f\"Filtered APAL Labels shape: {apal_labels.shape}\")\n"
   ]
  },
  {
   "cell_type": "code",
   "execution_count": 12,
   "metadata": {},
   "outputs": [],
   "source": [
    "# Define the data augmentation parameters\n",
    "datagen = ImageDataGenerator(\n",
    "    rotation_range=10,\n",
    "    zoom_range=0.1,\n",
    "    width_shift_range=0.1,\n",
    "    height_shift_range=0.1,\n",
    "    shear_range=0.1,\n",
    "    brightness_range=[0.5, 1.5],\n",
    "    fill_mode='nearest'\n",
    "    #rescale=1.0 / 255  # Add normalization here\n",
    ")"
   ]
  },
  {
   "cell_type": "code",
   "execution_count": 13,
   "metadata": {},
   "outputs": [],
   "source": [
    "# Apply data augmentation to the training set\n",
    "images_augmented = []\n",
    "labels_augmented = []\n",
    "for i in range(apal_images.shape[0]):\n",
    "    img = apal_images[i]\n",
    "    label = apal_labels[i]\n",
    "    for j in range(5):\n",
    "        x_augmented = datagen.random_transform(img)\n",
    "        images_augmented.append(x_augmented)\n",
    "        labels_augmented.append(label)"
   ]
  },
  {
   "cell_type": "code",
   "execution_count": 14,
   "metadata": {},
   "outputs": [],
   "source": [
    "images_augmented = np.array(images_augmented)\n",
    "labels_augmented = np.array(labels_augmented)"
   ]
  },
  {
   "cell_type": "code",
   "execution_count": 15,
   "metadata": {},
   "outputs": [
    {
     "data": {
      "text/plain": [
       "(585, 224, 224, 3)"
      ]
     },
     "execution_count": 15,
     "metadata": {},
     "output_type": "execute_result"
    }
   ],
   "source": [
    "images_augmented.shape"
   ]
  },
  {
   "cell_type": "code",
   "execution_count": 16,
   "metadata": {},
   "outputs": [
    {
     "data": {
      "text/plain": [
       "(585,)"
      ]
     },
     "execution_count": 16,
     "metadata": {},
     "output_type": "execute_result"
    }
   ],
   "source": [
    "labels_augmented.shape"
   ]
  },
  {
   "cell_type": "code",
   "execution_count": 17,
   "metadata": {},
   "outputs": [
    {
     "name": "stdout",
     "output_type": "stream",
     "text": [
      "Augmented Images saved to augmented_apal_images.pickle\n",
      "Augmented Labels saved to augmented_apal_labels.pickle\n"
     ]
    }
   ],
   "source": [
    "import pickle\n",
    "\n",
    "# Define the filenames for the pickle files\n",
    "augmented_images_pickle_file = 'augmented_apal_images.pickle'\n",
    "augmented_labels_pickle_file = 'augmented_apal_labels.pickle'\n",
    "\n",
    "# Save the augmented images to a pickle file\n",
    "with open(augmented_images_pickle_file, 'wb') as file:\n",
    "    pickle.dump(images_augmented, file)\n",
    "\n",
    "# Save the augmented labels to a pickle file\n",
    "with open(augmented_labels_pickle_file, 'wb') as file:\n",
    "    pickle.dump(labels_augmented, file)\n",
    "\n",
    "print(f'Augmented Images saved to {augmented_images_pickle_file}')\n",
    "print(f'Augmented Labels saved to {augmented_labels_pickle_file}')\n"
   ]
  },
  {
   "cell_type": "code",
   "execution_count": null,
   "metadata": {},
   "outputs": [],
   "source": []
  }
 ],
 "metadata": {
  "kernelspec": {
   "display_name": "tensorflow_tf",
   "language": "python",
   "name": "python3"
  },
  "language_info": {
   "codemirror_mode": {
    "name": "ipython",
    "version": 3
   },
   "file_extension": ".py",
   "mimetype": "text/x-python",
   "name": "python",
   "nbconvert_exporter": "python",
   "pygments_lexer": "ipython3",
   "version": "3.9.16"
  }
 },
 "nbformat": 4,
 "nbformat_minor": 2
}
