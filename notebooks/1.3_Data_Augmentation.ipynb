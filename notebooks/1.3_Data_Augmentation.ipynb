{
  "cells": [
    {
      "cell_type": "markdown",
      "metadata": {
        "colab_type": "text",
        "id": "view-in-github"
      },
      "source": [
        "<a href=\"https://colab.research.google.com/github/sumaiya008/CCNY-DSE-Capstone-Project-Segmenting-Coral-Branch-tips/blob/main/notebooks/1.2_Subdividing.ipynb\" target=\"_parent\"><img src=\"https://colab.research.google.com/assets/colab-badge.svg\" alt=\"Open In Colab\"/></a>"
      ]
    },
    {
      "cell_type": "code",
      "execution_count": 27,
      "metadata": {
        "id": "NsdWTF0dIywv"
      },
      "outputs": [],
      "source": [
        "import os\n",
        "import numpy as np\n",
        "import random\n",
        "import pickle\n",
        "from google.colab import drive\n",
        "import matplotlib.pyplot as plt\n",
        "from sklearn.model_selection import train_test_split\n",
        "from keras.preprocessing.image import ImageDataGenerator"
      ]
    },
    {
      "cell_type": "code",
      "execution_count": 28,
      "metadata": {},
      "outputs": [
        {
          "name": "stdout",
          "output_type": "stream",
          "text": [
            "X_train shape: (719, 224, 224, 3)\n",
            "y_train shape: (719,)\n",
            "X_test shape: (180, 224, 224, 3)\n",
            "y_test shape: (180,)\n"
          ]
        }
      ],
      "source": [
        "with open('../data/external/data.pkl','rb') as f:\n",
        "    X_train,y_train,X_test,y_test = pickle.load(f)\n",
        "    \n",
        "print(f'X_train shape: {X_train.shape}')\n",
        "print(f'y_train shape: {y_train.shape}')\n",
        "print(f'X_test shape: {X_test.shape}')\n",
        "print(f'y_test shape: {y_test.shape}')"
      ]
    },
    {
      "cell_type": "code",
      "execution_count": 29,
      "metadata": {
        "id": "GYW0dfh-JCQi"
      },
      "outputs": [],
      "source": [
        "# Define the data augmentation parameters\n",
        "datagen = ImageDataGenerator(\n",
        "    rotation_range=10,\n",
        "    zoom_range=0.1,\n",
        "    width_shift_range=0.1,\n",
        "    height_shift_range=0.1,\n",
        "    shear_range=0.1,\n",
        "    brightness_range=[0.5, 1.5],\n",
        "    fill_mode='nearest'\n",
        ")"
      ]
    },
    {
      "cell_type": "code",
      "execution_count": 30,
      "metadata": {},
      "outputs": [],
      "source": [
        "# Apply data augmentation to the training set\n",
        "X_train_augmented = []\n",
        "y_train_augmented = []\n",
        "for i in range(X_train.shape[0]):\n",
        "    img = X_train[i]\n",
        "    label = y_train[i]\n",
        "    for j in range(5):\n",
        "        x_augmented = datagen.random_transform(img)\n",
        "        X_train_augmented.append(x_augmented)\n",
        "        y_train_augmented.append(label)"
      ]
    },
    {
      "cell_type": "code",
      "execution_count": 31,
      "metadata": {},
      "outputs": [],
      "source": [
        "# Apply data augmentation to the test set\n",
        "X_test_augmented = []\n",
        "y_test_augmented = []\n",
        "for i in range(X_test.shape[0]):\n",
        "    img = X_test[i]\n",
        "    label = y_test[i]\n",
        "    for j in range(5):\n",
        "        x_augmented = datagen.random_transform(img)\n",
        "        X_test_augmented.append(x_augmented)\n",
        "        y_test_augmented.append(label)"
      ]
    },
    {
      "cell_type": "code",
      "execution_count": 32,
      "metadata": {},
      "outputs": [],
      "source": [
        "# Convert the augmented data to numpy arrays\n",
        "X_train_augmented = np.array(X_train_augmented)\n",
        "y_train_augmented = np.array(y_train_augmented)\n",
        "X_test_augmented = np.array(X_test_augmented)\n",
        "y_test_augmented = np.array(y_test_augmented)"
      ]
    },
    {
      "cell_type": "code",
      "execution_count": 33,
      "metadata": {},
      "outputs": [],
      "source": [
        "# Save the augmented data to files\n",
        "np.savez_compressed('../data/external/coral_augmented.npz',\n",
        "                    X_train=X_train_augmented,\n",
        "                    y_train=y_train_augmented,\n",
        "                    X_test=X_test_augmented,\n",
        "                    y_test=y_test_augmented)"
      ]
    },
    {
      "cell_type": "code",
      "execution_count": 34,
      "metadata": {},
      "outputs": [
        {
          "name": "stdout",
          "output_type": "stream",
          "text": [
            "X_train_augmented shape: (3595, 224, 224, 3)\n",
            "y_train_augmented shape: (3595,)\n",
            "X_test_augmented shape: (900, 224, 224, 3)\n",
            "y_test_augmented shape: (900,)\n"
          ]
        }
      ],
      "source": [
        "# Load the augmented data from the saved file\n",
        "data = np.load('../data/external/coral_augmented.npz')\n",
        "\n",
        "# Access the arrays from the loaded data\n",
        "X_train_augmented = data['X_train']\n",
        "y_train_augmented = data['y_train']\n",
        "X_test_augmented = data['X_test']\n",
        "y_test_augmented = data['y_test']\n",
        "\n",
        "# Check the shape of the loaded data\n",
        "print(\"X_train_augmented shape:\", X_train_augmented.shape)\n",
        "print(\"y_train_augmented shape:\", y_train_augmented.shape)\n",
        "print(\"X_test_augmented shape:\", X_test_augmented.shape)\n",
        "print(\"y_test_augmented shape:\", y_test_augmented.shape)"
      ]
    },
    {
      "cell_type": "code",
      "execution_count": 35,
      "metadata": {},
      "outputs": [
        {
          "name": "stdout",
          "output_type": "stream",
          "text": [
            "X_train_combined shape: (4314, 224, 224, 3)\n",
            "y_train_combined shape: (4314,)\n",
            "X_test_combined shape: (1080, 224, 224, 3)\n",
            "y_test_combined shape: (1080,)\n"
          ]
        }
      ],
      "source": [
        "# Combine the data\n",
        "X_train_combined = np.concatenate((X_train, X_train_augmented), axis=0)\n",
        "y_train_combined = np.concatenate((y_train, y_train_augmented), axis=0)\n",
        "X_test_combined = np.concatenate((X_test, X_test_augmented), axis=0)\n",
        "y_test_combined = np.concatenate((y_test, y_test_augmented), axis=0)\n",
        "\n",
        "# Check the shape of the combined data\n",
        "print(f'X_train_combined shape: {X_train_combined.shape}')\n",
        "print(f'y_train_combined shape: {y_train_combined.shape}')\n",
        "print(f'X_test_combined shape: {X_test_combined.shape}')\n",
        "print(f'y_test_combined shape: {y_test_combined.shape}')"
      ]
    },
    {
      "cell_type": "code",
      "execution_count": 36,
      "metadata": {},
      "outputs": [],
      "source": [
        "# Save the augmented data to files\n",
        "np.savez_compressed('../data/external/coral_augmented_combined.npz',\n",
        "                    X_train=X_train_combined,\n",
        "                    y_train=y_train_combined,\n",
        "                    X_test=X_test_combined,\n",
        "                    y_test=y_test_combined)"
      ]
    },
    {
      "cell_type": "code",
      "execution_count": null,
      "metadata": {},
      "outputs": [
        {
          "ename": "",
          "evalue": "",
          "output_type": "error",
          "traceback": [
            "\u001b[1;31mThe Kernel crashed while executing code in the the current cell or a previous cell. Please review the code in the cell(s) to identify a possible cause of the failure. Click <a href='https://aka.ms/vscodeJupyterKernelCrash'>here</a> for more info. View Jupyter <a href='command:jupyter.viewOutput'>log</a> for further details."
          ]
        }
      ],
      "source": [
        "# Load the augmented data from the saved file\n",
        "data = np.load('../data/external/coral_augmented_combined.npz')\n",
        "\n",
        "# Access the arrays from the loaded data\n",
        "X_train = data['X_train']\n",
        "y_train = data['y_train']\n",
        "X_test = data['X_test']\n",
        "y_test = data['y_test']\n",
        "\n",
        "# Check the shape of the loaded data\n",
        "print(\"X_train shape:\", X_train.shape)\n",
        "print(\"y_train shape:\", y_train.shape)\n",
        "print(\"X_test shape:\", X_test.shape)\n",
        "print(\"y_test shape:\", y_test.shape)"
      ]
    },
    {
      "cell_type": "code",
      "execution_count": null,
      "metadata": {
        "id": "aWNRJ8wyJO84"
      },
      "outputs": [],
      "source": []
    },
    {
      "cell_type": "code",
      "execution_count": null,
      "metadata": {},
      "outputs": [],
      "source": []
    }
  ],
  "metadata": {
    "colab": {
      "authorship_tag": "ABX9TyODI2dtKxrhLF5Ca2cb7mUh",
      "include_colab_link": true,
      "provenance": []
    },
    "kernelspec": {
      "display_name": "Python 3",
      "name": "python3"
    },
    "language_info": {
      "codemirror_mode": {
        "name": "ipython",
        "version": 3
      },
      "file_extension": ".py",
      "mimetype": "text/x-python",
      "name": "python",
      "nbconvert_exporter": "python",
      "pygments_lexer": "ipython3",
      "version": "3.9.16"
    }
  },
  "nbformat": 4,
  "nbformat_minor": 0
}
