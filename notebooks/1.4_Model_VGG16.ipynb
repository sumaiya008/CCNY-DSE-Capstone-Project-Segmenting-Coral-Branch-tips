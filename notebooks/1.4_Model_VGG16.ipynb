{
 "cells": [
  {
   "cell_type": "code",
   "execution_count": 8,
   "metadata": {},
   "outputs": [],
   "source": [
    "\n",
    "\n",
    "import numpy as np\n",
    "import seaborn as sns\n",
    "import matplotlib.pyplot as plt\n",
    "\n",
    "import tensorflow as tf\n",
    "from tensorflow.keras.layers import Dense,Flatten, BatchNormalization, Dropout, GlobalMaxPooling2D\n",
    "from tensorflow.keras.models import Model\n",
    "from tensorflow.keras.optimizers import Adam\n",
    "from tensorflow.keras.callbacks import EarlyStopping, ModelCheckpoint, ReduceLROnPlateau\n",
    "from tensorflow.keras.callbacks import TensorBoard\n",
    "from tensorflow.keras.layers import Conv2D\n",
    "from tensorflow.keras.utils import to_categorical\n",
    "from tensorflow.keras.models import load_model\n",
    "from tensorflow.keras.applications import VGG16\n",
    "from keras.models import Sequential\n",
    "from tensorflow.keras.losses import CategoricalCrossentropy\n",
    "\n",
    "\n",
    "from sklearn.preprocessing import LabelEncoder\n",
    "from sklearn.metrics import cohen_kappa_score\n",
    "from sklearn.metrics import classification_report\n",
    "from sklearn.metrics import cohen_kappa_score\n",
    "from sklearn.metrics import confusion_matrix\n",
    "from sklearn.metrics import roc_curve, auc"
   ]
  },
  {
   "cell_type": "code",
   "execution_count": 3,
   "metadata": {},
   "outputs": [
    {
     "name": "stdout",
     "output_type": "stream",
     "text": [
      "X_train shape: (4600, 224, 224, 3)\n",
      "y_train shape: (4600,)\n",
      "X_valid shape: (1152, 224, 224, 3)\n",
      "y_valid shape: (1152,)\n",
      "X_test shape: (1440, 224, 224, 3)\n",
      "y_test shape: (1440,)\n"
     ]
    }
   ],
   "source": [
    "# Load the augmented data from the saved file\n",
    "data = np.load('../data/external/coral_augmented_combined.npz')\n",
    "\n",
    "# Access the arrays from the loaded data\n",
    "X_train = data['X_train']\n",
    "y_train = data['y_train']\n",
    "X_test = data['X_test']\n",
    "y_test = data['y_test']\n",
    "X_valid = data['X_valid']\n",
    "y_valid = data['y_valid']\n",
    "\n",
    "# Print the shapes to verify\n",
    "print(f\"X_train shape: {X_train.shape}\")\n",
    "print(f\"y_train shape: {y_train.shape}\")\n",
    "print(f\"X_valid shape: {X_valid.shape}\")\n",
    "print(f\"y_valid shape: {y_valid.shape}\")\n",
    "print(f\"X_test shape: {X_test.shape}\")\n",
    "print(f\"y_test shape: {y_test.shape}\")"
   ]
  },
  {
   "cell_type": "code",
   "execution_count": 4,
   "metadata": {},
   "outputs": [],
   "source": [
    "# Initialize the LabelEncoder\n",
    "label_encoder = LabelEncoder()\n",
    "\n",
    "# Fit and transform the labels in both training and test sets\n",
    "y_train_encoded = label_encoder.fit_transform(y_train)\n",
    "y_test_encoded = label_encoder.transform(y_test)\n",
    "y_valid_encoded = label_encoder.transform(y_valid)\n",
    "\n",
    "# Convert the encoded labels to one-hot encoded format\n",
    "num_classes = len(label_encoder.classes_)\n",
    "y_train_onehot = to_categorical(y_train_encoded, num_classes=num_classes)\n",
    "y_test_onehot = to_categorical(y_test_encoded, num_classes=num_classes)\n",
    "y_valid_onehot = to_categorical(y_valid_encoded, num_classes=num_classes)"
   ]
  },
  {
   "cell_type": "code",
   "execution_count": 9,
   "metadata": {},
   "outputs": [
    {
     "name": "stdout",
     "output_type": "stream",
     "text": [
      "Model: \"sequential_1\"\n",
      "_________________________________________________________________\n",
      " Layer (type)                Output Shape              Param #   \n",
      "=================================================================\n",
      " vgg16 (Functional)          (None, 7, 7, 512)         14714688  \n",
      "                                                                 \n",
      " flatten_1 (Flatten)         (None, 25088)             0         \n",
      "                                                                 \n",
      " dense_2 (Dense)             (None, 16)                401424    \n",
      "                                                                 \n",
      " dropout_1 (Dropout)         (None, 16)                0         \n",
      "                                                                 \n",
      " dense_3 (Dense)             (None, 2)                 34        \n",
      "                                                                 \n",
      "=================================================================\n",
      "Total params: 15,116,146\n",
      "Trainable params: 15,116,146\n",
      "Non-trainable params: 0\n",
      "_________________________________________________________________\n",
      "Epoch 1/10\n",
      "144/144 [==============================] - 2096s 15s/step - loss: 3.4238 - accuracy: 0.8480 - val_loss: 0.6002 - val_accuracy: 0.8819\n",
      "Epoch 2/10\n",
      "144/144 [==============================] - 2090s 15s/step - loss: 0.5734 - accuracy: 0.8574 - val_loss: 0.5305 - val_accuracy: 0.8819\n",
      "Epoch 3/10\n",
      "144/144 [==============================] - 2091s 15s/step - loss: 0.5198 - accuracy: 0.8574 - val_loss: 0.4810 - val_accuracy: 0.8819\n",
      "Epoch 4/10\n",
      "144/144 [==============================] - 2171s 15s/step - loss: 0.4825 - accuracy: 0.8574 - val_loss: 0.4456 - val_accuracy: 0.8819\n",
      "Epoch 5/10\n",
      "144/144 [==============================] - 2196s 15s/step - loss: 0.4571 - accuracy: 0.8574 - val_loss: 0.4211 - val_accuracy: 0.8819\n",
      "Epoch 6/10\n",
      "144/144 [==============================] - 2208s 15s/step - loss: 0.4402 - accuracy: 0.8574 - val_loss: 0.4039 - val_accuracy: 0.8819\n",
      "Epoch 7/10\n",
      "144/144 [==============================] - 2165s 15s/step - loss: 0.4290 - accuracy: 0.8574 - val_loss: 0.3922 - val_accuracy: 0.8819\n",
      "Epoch 8/10\n",
      "144/144 [==============================] - 2151s 15s/step - loss: 0.4217 - accuracy: 0.8574 - val_loss: 0.3840 - val_accuracy: 0.8819\n",
      "Epoch 9/10\n",
      "144/144 [==============================] - 2123s 15s/step - loss: 0.4169 - accuracy: 0.8574 - val_loss: 0.3783 - val_accuracy: 0.8819\n",
      "Epoch 10/10\n",
      "144/144 [==============================] - 2131s 15s/step - loss: 0.4140 - accuracy: 0.8574 - val_loss: 0.3743 - val_accuracy: 0.8819\n"
     ]
    }
   ],
   "source": [
    "# Initialize VGG16 with pre-trained weights (you can include or exclude top layers)\n",
    "base_model = VGG16(weights='imagenet', include_top=False, input_shape=(224, 224, 3))\n",
    "\n",
    "# Create a new model on top of the VGG16 base\n",
    "model = Sequential()\n",
    "model.add(base_model)\n",
    "model.add(Flatten())\n",
    "model.add(Dense(16, activation='relu'))\n",
    "model.add(Dropout(0.5))\n",
    "model.add(Dense(num_classes, activation='softmax'))\n",
    "\n",
    "# Compile the model\n",
    "model.compile(optimizer=Adam(learning_rate=0.001), \n",
    "              loss=CategoricalCrossentropy(),\n",
    "              metrics=['accuracy'])\n",
    "\n",
    "# You can print a summary of the model's architecture\n",
    "model.summary()\n",
    "\n",
    "# Train the model\n",
    "history = model.fit(X_train, y_train_onehot, \n",
    "                    validation_data=(X_valid, y_valid_onehot), \n",
    "                    batch_size=32, \n",
    "                    epochs=10)\n"
   ]
  },
  {
   "cell_type": "code",
   "execution_count": 10,
   "metadata": {},
   "outputs": [],
   "source": [
    "model.save('../models/coral_vgg16.h5')"
   ]
  },
  {
   "cell_type": "code",
   "execution_count": 11,
   "metadata": {},
   "outputs": [
    {
     "data": {
      "image/png": "[encoded data removed]",
      "text/plain": [
       "<Figure size 800x500 with 2 Axes>"
      ]
     },
     "metadata": {},
     "output_type": "display_data"
    }
   ],
   "source": [
    "# Assuming you have already trained your model and have the `history` object\n",
    "fig, ax = plt.subplots(1, 2)\n",
    "fig.set_size_inches(8, 5)\n",
    "\n",
    "# Extract training and validation accuracy from the history object\n",
    "epochs = range(1, len(history.history['accuracy']) + 1)\n",
    "train_acc = history.history['accuracy']\n",
    "val_acc = history.history['val_accuracy']\n",
    "\n",
    "# Plot training and validation accuracy with purple markers and solid line\n",
    "ax[0].plot(epochs, train_acc, 'p-', label='Training Accuracy')\n",
    "ax[0].plot(epochs, val_acc, 'm-', label='Validation Accuracy')\n",
    "ax[0].set_title('Training & Validation Accuracy')\n",
    "ax[0].legend()\n",
    "ax[0].set_xlabel(\"Epochs\")\n",
    "ax[0].set_ylabel(\"Accuracy\")\n",
    "\n",
    "# Extract training and validation loss from the history object\n",
    "train_loss = history.history['loss']\n",
    "val_loss = history.history['val_loss']\n",
    "\n",
    "# Plot training and validation loss with purple markers and solid line\n",
    "ax[1].plot(epochs, train_loss, 'p-', label='Training Loss')\n",
    "ax[1].plot(epochs, val_loss, 'm-', label='Validation Loss')\n",
    "ax[1].set_title('Training & Validation Loss')\n",
    "ax[1].legend()\n",
    "ax[1].set_xlabel(\"Epochs\")\n",
    "ax[1].set_ylabel(\"Loss\")\n",
    "\n",
    "plt.show()\n"
   ]
  },
  {
   "cell_type": "code",
   "execution_count": 12,
   "metadata": {},
   "outputs": [
    {
     "name": "stdout",
     "output_type": "stream",
     "text": [
      "45/45 [==============================] - 185s 4s/step - loss: 0.3460 - accuracy: 0.9000\n",
      "Test Accuracy: 0.8999999761581421\n"
     ]
    }
   ],
   "source": [
    "# Evaluate the model on the test data\n",
    "test_loss, test_accuracy = model.evaluate(X_test, y_test_onehot)\n",
    "print(f\"Test Accuracy: {test_accuracy}\")"
   ]
  },
  {
   "cell_type": "code",
   "execution_count": 13,
   "metadata": {},
   "outputs": [
    {
     "name": "stdout",
     "output_type": "stream",
     "text": [
      "45/45 [==============================] - 187s 4s/step - loss: 0.3460 - accuracy: 0.9000\n",
      "Accuracy of the model is: 89.99999761581421 %\n",
      "45/45 [==============================] - 186s 4s/step\n",
      "Cohen's Kappa: 0.0\n",
      "Classification Report:\n",
      "                precision    recall  f1-score   support\n",
      "\n",
      "          apal       0.00      0.00      0.00       144\n",
      "pseudodiploria       0.90      1.00      0.95      1296\n",
      "\n",
      "      accuracy                           0.90      1440\n",
      "     macro avg       0.45      0.50      0.47      1440\n",
      "  weighted avg       0.81      0.90      0.85      1440\n",
      "\n"
     ]
    },
    {
     "name": "stderr",
     "output_type": "stream",
     "text": [
      "/Users/sumaiyauddin/opt/anaconda3/envs/tensorflow_tf/lib/python3.9/site-packages/sklearn/metrics/_classification.py:1344: UndefinedMetricWarning: Precision and F-score are ill-defined and being set to 0.0 in labels with no predicted samples. Use `zero_division` parameter to control this behavior.\n",
      "  _warn_prf(average, modifier, msg_start, len(result))\n",
      "/Users/sumaiyauddin/opt/anaconda3/envs/tensorflow_tf/lib/python3.9/site-packages/sklearn/metrics/_classification.py:1344: UndefinedMetricWarning: Precision and F-score are ill-defined and being set to 0.0 in labels with no predicted samples. Use `zero_division` parameter to control this behavior.\n",
      "  _warn_prf(average, modifier, msg_start, len(result))\n",
      "/Users/sumaiyauddin/opt/anaconda3/envs/tensorflow_tf/lib/python3.9/site-packages/sklearn/metrics/_classification.py:1344: UndefinedMetricWarning: Precision and F-score are ill-defined and being set to 0.0 in labels with no predicted samples. Use `zero_division` parameter to control this behavior.\n",
      "  _warn_prf(average, modifier, msg_start, len(result))\n"
     ]
    }
   ],
   "source": [
    "# Evaluate the model on the test data\n",
    "accuracy = model.evaluate(X_test, y_test_onehot)[1]  # Index 1 corresponds to accuracy\n",
    "print(\"Accuracy of the model is:\", accuracy * 100, \"%\")\n",
    "\n",
    "# You can also calculate other evaluation metrics, such as precision, recall, and F1-score.\n",
    "from sklearn.metrics import classification_report\n",
    "\n",
    "# Get model predictions\n",
    "y_pred = model.predict(X_test)\n",
    "\n",
    "# Convert one-hot encoded labels back to class labels\n",
    "y_test_class = label_encoder.inverse_transform(np.argmax(y_test_onehot, axis=1))\n",
    "y_pred_class = label_encoder.inverse_transform(np.argmax(y_pred, axis=1))\n",
    "\n",
    "cohen_kappa = cohen_kappa_score(y_test_class, y_pred_class)\n",
    "\n",
    "# Generate a classification report\n",
    "report = classification_report(y_test_class, y_pred_class)\n",
    "\n",
    "print(\"Cohen's Kappa:\", cohen_kappa)\n",
    "print(\"Classification Report:\")\n",
    "print(report)\n"
   ]
  },
  {
   "cell_type": "code",
   "execution_count": null,
   "metadata": {},
   "outputs": [],
   "source": []
  }
 ],
 "metadata": {
  "kernelspec": {
   "display_name": "tensorflow_tf",
   "language": "python",
   "name": "python3"
  },
  "language_info": {
   "codemirror_mode": {
    "name": "ipython",
    "version": 3
   },
   "file_extension": ".py",
   "mimetype": "text/x-python",
   "name": "python",
   "nbconvert_exporter": "python",
   "pygments_lexer": "ipython3",
   "version": "3.9.16"
  }
 },
 "nbformat": 4,
 "nbformat_minor": 2
}
