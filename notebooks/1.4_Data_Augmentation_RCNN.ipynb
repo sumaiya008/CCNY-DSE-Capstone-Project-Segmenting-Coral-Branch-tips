{
  "cells": [
    {
      "cell_type": "markdown",
      "metadata": {
        "colab_type": "text",
        "id": "view-in-github"
      },
      "source": [
        "<a href=\"https://colab.research.google.com/github/sumaiya008/CCNY-DSE-Capstone-Project-Segmenting-Coral-Branch-tips/blob/main/notebooks/1.4_Data_Augmentation.ipynb\" target=\"_parent\"><img src=\"https://colab.research.google.com/assets/colab-badge.svg\" alt=\"Open In Colab\"/></a>"
      ]
    },
    {
      "cell_type": "code",
      "execution_count": 1,
      "metadata": {
        "id": "CeuE33olPcOx"
      },
      "outputs": [
        {
          "name": "stderr",
          "output_type": "stream",
          "text": [
            "/Users/sumaiyauddin/opt/anaconda3/envs/tensorflow_tf/lib/python3.9/site-packages/google/colab/data_table.py:30: UserWarning: IPython.utils.traitlets has moved to a top-level traitlets package.\n",
            "  from IPython.utils import traitlets as _traitlets\n",
            "2023-10-21 00:54:40.223883: I tensorflow/core/platform/cpu_feature_guard.cc:193] This TensorFlow binary is optimized with oneAPI Deep Neural Network Library (oneDNN) to use the following CPU instructions in performance-critical operations:  SSE4.1 SSE4.2\n",
            "To enable them in other operations, rebuild TensorFlow with the appropriate compiler flags.\n"
          ]
        }
      ],
      "source": [
        "import os\n",
        "import numpy as np\n",
        "import random\n",
        "import pickle\n",
        "from google.colab import drive\n",
        "import matplotlib.pyplot as plt\n",
        "from sklearn.model_selection import train_test_split\n",
        "from keras.preprocessing.image import ImageDataGenerator"
      ]
    },
    {
      "cell_type": "code",
      "execution_count": 6,
      "metadata": {
        "colab": {
          "base_uri": "https://localhost:8080/"
        },
        "id": "g7jvMaQbUfTD",
        "outputId": "cf808304-5e41-436e-d982-1200c8666e5e"
      },
      "outputs": [
        {
          "name": "stdout",
          "output_type": "stream",
          "text": [
            "Mounted at /content/drive\n"
          ]
        }
      ],
      "source": [
        "from google.colab import drive\n",
        "drive.mount('/content/drive')"
      ]
    },
    {
      "cell_type": "code",
      "execution_count": 2,
      "metadata": {
        "id": "5IRfMwElJWMY"
      },
      "outputs": [
        {
          "name": "stdout",
          "output_type": "stream",
          "text": [
            "X_train shape: (1438, 224, 224, 3)\n",
            "y_train shape: (1438, 224, 224)\n",
            "X_test shape: (360, 224, 224, 3)\n",
            "y_test shape: (360, 224, 224)\n"
          ]
        }
      ],
      "source": [
        "with open('../data/external/data_RCNN.pkl','rb') as f:\n",
        "    X_train,y_train,X_test,y_test = pickle.load(f)\n",
        "    \n",
        "print(f'X_train shape: {X_train.shape}')\n",
        "print(f'y_train shape: {y_train.shape}')\n",
        "print(f'X_test shape: {X_test.shape}')\n",
        "print(f'y_test shape: {y_test.shape}')"
      ]
    },
    {
      "cell_type": "code",
      "execution_count": 3,
      "metadata": {
        "id": "TEE8EJ9MJWPH"
      },
      "outputs": [],
      "source": [
        "# Define the data augmentation parameters\n",
        "datagen = ImageDataGenerator(\n",
        "    rotation_range=10,\n",
        "    zoom_range=0.1,\n",
        "    width_shift_range=0.1,\n",
        "    height_shift_range=0.1,\n",
        "    shear_range=0.1,\n",
        "    brightness_range=[0.5, 1.5],\n",
        "    fill_mode='nearest',\n",
        "    rescale=1.0 / 255  # Add normalization here\n",
        ")"
      ]
    },
    {
      "cell_type": "code",
      "execution_count": 4,
      "metadata": {
        "id": "YdEji-K6JWR7"
      },
      "outputs": [],
      "source": [
        "# Apply data augmentation to the training set\n",
        "X_train_augmented = []\n",
        "y_train_augmented = []\n",
        "for i in range(X_train.shape[0]):\n",
        "    img = X_train[i]\n",
        "    label = y_train[i]\n",
        "    for j in range(3):\n",
        "        x_augmented = datagen.random_transform(img)\n",
        "        X_train_augmented.append(x_augmented)\n",
        "        y_train_augmented.append(label)"
      ]
    },
    {
      "cell_type": "code",
      "execution_count": 5,
      "metadata": {
        "id": "6xTigasnJWUt"
      },
      "outputs": [],
      "source": [
        "# Apply data augmentation to the test set\n",
        "X_test_augmented = []\n",
        "y_test_augmented = []\n",
        "for i in range(X_test.shape[0]):\n",
        "    img = X_test[i]\n",
        "    label = y_test[i]\n",
        "    for j in range(3):\n",
        "        x_augmented = datagen.random_transform(img)\n",
        "        X_test_augmented.append(x_augmented)\n",
        "        y_test_augmented.append(label)"
      ]
    },
    {
      "cell_type": "code",
      "execution_count": 6,
      "metadata": {},
      "outputs": [],
      "source": [
        "# Convert the augmented data to numpy arrays\n",
        "X_train_augmented = np.array(X_train_augmented)\n",
        "y_train_augmented = np.array(y_train_augmented)\n",
        "X_test_augmented = np.array(X_test_augmented)\n",
        "y_test_augmented = np.array(y_test_augmented)"
      ]
    },
    {
      "cell_type": "code",
      "execution_count": 7,
      "metadata": {},
      "outputs": [],
      "source": [
        "# Save the augmented data to files\n",
        "np.savez_compressed('../data/external/coral_augmented_RCNN.npz',\n",
        "                    X_train=X_train_augmented,\n",
        "                    y_train=y_train_augmented,\n",
        "                    X_test=X_test_augmented,\n",
        "                    y_test=y_test_augmented)"
      ]
    },
    {
      "cell_type": "code",
      "execution_count": 8,
      "metadata": {},
      "outputs": [
        {
          "name": "stdout",
          "output_type": "stream",
          "text": [
            "X_train_augmented shape: (4314, 224, 224, 3)\n",
            "y_train_augmented shape: (4314, 224, 224)\n",
            "X_test_augmented shape: (1080, 224, 224, 3)\n",
            "y_test_augmented shape: (1080, 224, 224)\n"
          ]
        }
      ],
      "source": [
        "# Check the shape of the loaded data\n",
        "print(\"X_train_augmented shape:\", X_train_augmented.shape)\n",
        "print(\"y_train_augmented shape:\", y_train_augmented.shape)\n",
        "print(\"X_test_augmented shape:\", X_test_augmented.shape)\n",
        "print(\"y_test_augmented shape:\", y_test_augmented.shape)"
      ]
    },
    {
      "cell_type": "code",
      "execution_count": 9,
      "metadata": {},
      "outputs": [
        {
          "name": "stdout",
          "output_type": "stream",
          "text": [
            "X_train_combined shape: (5752, 224, 224, 3)\n",
            "y_train_combined shape: (5752, 224, 224)\n",
            "X_test_combined shape: (1440, 224, 224, 3)\n",
            "y_test_combined shape: (1440, 224, 224)\n"
          ]
        }
      ],
      "source": [
        "# Combine the data\n",
        "X_train_combined = np.concatenate((X_train, X_train_augmented), axis=0)\n",
        "y_train_combined = np.concatenate((y_train, y_train_augmented), axis=0)\n",
        "X_test_combined = np.concatenate((X_test, X_test_augmented), axis=0)\n",
        "y_test_combined = np.concatenate((y_test, y_test_augmented), axis=0)\n",
        "\n",
        "# Check the shape of the combined data\n",
        "print(f'X_train_combined shape: {X_train_combined.shape}')\n",
        "print(f'y_train_combined shape: {y_train_combined.shape}')\n",
        "print(f'X_test_combined shape: {X_test_combined.shape}')\n",
        "print(f'y_test_combined shape: {y_test_combined.shape}')"
      ]
    },
    {
      "cell_type": "code",
      "execution_count": 10,
      "metadata": {},
      "outputs": [],
      "source": [
        "# Save the augmented data to files\n",
        "np.savez_compressed('../data/external/coral_augmented_combined_RCNN.npz',\n",
        "                    X_train=X_train_combined,\n",
        "                    y_train=y_train_combined,\n",
        "                    X_test=X_test_combined,\n",
        "                    y_test=y_test_combined)"
      ]
    },
    {
      "cell_type": "code",
      "execution_count": null,
      "metadata": {},
      "outputs": [],
      "source": []
    },
    {
      "cell_type": "code",
      "execution_count": 12,
      "metadata": {
        "id": "Vp3xkaHSUfYc"
      },
      "outputs": [
        {
          "name": "stdout",
          "output_type": "stream",
          "text": [
            "X_train shape: (5752, 224, 224, 3)\n",
            "y_train shape: (5752, 224, 224)\n",
            "X_test shape: (1440, 224, 224, 3)\n",
            "y_test shape: (1440, 224, 224)\n"
          ]
        }
      ],
      "source": [
        "# Load the augmented data from the saved file\n",
        "data = np.load('../data/external/coral_augmented_combined_RCNN.npz')\n",
        "\n",
        "# Access the arrays from the loaded data\n",
        "X_train = data['X_train']\n",
        "y_train = data['y_train']\n",
        "X_test = data['X_test']\n",
        "y_test = data['y_test']\n",
        "\n",
        "# Check the shape of the loaded data\n",
        "print(\"X_train shape:\", X_train.shape)\n",
        "print(\"y_train shape:\", y_train.shape)\n",
        "print(\"X_test shape:\", X_test.shape)\n",
        "print(\"y_test shape:\", y_test.shape)"
      ]
    },
    {
      "cell_type": "code",
      "execution_count": null,
      "metadata": {
        "id": "qEi4Fi_9ldBB"
      },
      "outputs": [],
      "source": []
    }
  ],
  "metadata": {
    "colab": {
      "authorship_tag": "ABX9TyP7NpJBEQS7gzLWCLvAoLNN",
      "include_colab_link": true,
      "provenance": []
    },
    "kernelspec": {
      "display_name": "Python 3",
      "name": "python3"
    },
    "language_info": {
      "codemirror_mode": {
        "name": "ipython",
        "version": 3
      },
      "file_extension": ".py",
      "mimetype": "text/x-python",
      "name": "python",
      "nbconvert_exporter": "python",
      "pygments_lexer": "ipython3",
      "version": "3.9.16"
    }
  },
  "nbformat": 4,
  "nbformat_minor": 0
}
