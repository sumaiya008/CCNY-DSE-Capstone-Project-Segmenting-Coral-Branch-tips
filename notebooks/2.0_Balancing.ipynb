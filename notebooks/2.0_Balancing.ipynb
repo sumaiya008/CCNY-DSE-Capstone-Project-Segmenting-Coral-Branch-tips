{
 "cells": [
  {
   "cell_type": "code",
   "execution_count": 1,
   "metadata": {},
   "outputs": [
    {
     "name": "stderr",
     "output_type": "stream",
     "text": [
      "/Users/sumaiyauddin/opt/anaconda3/envs/tensorflow_tf/lib/python3.9/site-packages/google/colab/data_table.py:30: UserWarning: IPython.utils.traitlets has moved to a top-level traitlets package.\n",
      "  from IPython.utils import traitlets as _traitlets\n",
      "2023-12-05 21:35:26.174314: I tensorflow/core/platform/cpu_feature_guard.cc:193] This TensorFlow binary is optimized with oneAPI Deep Neural Network Library (oneDNN) to use the following CPU instructions in performance-critical operations:  SSE4.1 SSE4.2\n",
      "To enable them in other operations, rebuild TensorFlow with the appropriate compiler flags.\n"
     ]
    }
   ],
   "source": [
    "import pickle\n",
    "import os\n",
    "import numpy as np\n",
    "import random\n",
    "import pickle\n",
    "from google.colab import drive\n",
    "import matplotlib.pyplot as plt\n",
    "from sklearn.model_selection import train_test_split\n",
    "from keras.preprocessing.image import ImageDataGenerator"
   ]
  },
  {
   "cell_type": "code",
   "execution_count": 8,
   "metadata": {},
   "outputs": [
    {
     "name": "stdout",
     "output_type": "stream",
     "text": [
      "Images shape: (113, 224, 224, 3)\n",
      "Masks shape: (113, 224, 224)\n",
      "Labels shape: (113,)\n"
     ]
    }
   ],
   "source": [
    "\n",
    "\n",
    "# Define the filenames for the pickle files\n",
    "images = 'images.pkl'\n",
    "labels = 'labels.pkl'\n",
    "masks = 'masks.pkl'\n",
    "\n",
    "# Load the images array from the pickle file\n",
    "with open(images, 'rb') as file:\n",
    "    images = pickle.load(file)\n",
    "\n",
    "# Load the labels array from the pickle file\n",
    "with open(labels, 'rb') as file:\n",
    "    labels = pickle.load(file)\n",
    "\n",
    "# Load the masks array from the pickle file\n",
    "with open(masks, 'rb') as file:\n",
    "    masks = pickle.load(file)\n",
    "    \n",
    "print(f\"Images shape: {images.shape}\")\n",
    "print(f\"Masks shape: {masks.shape}\")\n",
    "print(f\"Labels shape: {labels.shape}\")"
   ]
  },
  {
   "cell_type": "code",
   "execution_count": 9,
   "metadata": {},
   "outputs": [],
   "source": [
    "# Define the data augmentation parameters\n",
    "datagen = ImageDataGenerator(\n",
    "    rotation_range=10,\n",
    "    zoom_range=0.1,\n",
    "    width_shift_range=0.1,\n",
    "    height_shift_range=0.1,\n",
    "    shear_range=0.1,\n",
    "    brightness_range=[0.5, 1.5],\n",
    "    fill_mode='nearest'\n",
    "    #rescale=1.0 / 255  # Add normalization here\n",
    ")"
   ]
  },
  {
   "cell_type": "code",
   "execution_count": 10,
   "metadata": {},
   "outputs": [],
   "source": [
    "# Apply data augmentation to the training set\n",
    "images_augmented = []\n",
    "labels_augmented = []\n",
    "masks_augmented = []\n",
    "\n",
    "for i in range(images.shape[0]):\n",
    "    img = images[i]\n",
    "    label = labels[i]\n",
    "    mask = masks[i]\n",
    "\n",
    "    # Reshape mask to (224, 224, 1) for compatibility with ImageDataGenerator\n",
    "    mask = np.expand_dims(mask, axis=-1)\n",
    "\n",
    "    for j in range(5):\n",
    "        # Apply the same augmentation to both image and mask\n",
    "        augmented_data = datagen.random_transform(np.concatenate((img, mask), axis=-1))\n",
    "\n",
    "        # Separate augmented image and mask\n",
    "        x_augmented = augmented_data[:, :, :3]\n",
    "        mask_augmented = augmented_data[:, :, 3]\n",
    "\n",
    "        images_augmented.append(x_augmented)\n",
    "        labels_augmented.append(label)\n",
    "        masks_augmented.append(mask_augmented)\n",
    "\n",
    "# Convert lists to arrays\n",
    "images_augmented = np.array(images_augmented)\n",
    "labels_augmented = np.array(labels_augmented)\n",
    "masks_augmented = np.array(masks_augmented)\n",
    "\n",
    "# Ensure mask values are in the range [0, 1]\n",
    "masks_augmented = np.where(masks_augmented > 0.5, 1, 0)"
   ]
  },
  {
   "cell_type": "code",
   "execution_count": 11,
   "metadata": {},
   "outputs": [
    {
     "name": "stdout",
     "output_type": "stream",
     "text": [
      "Images shape: (565, 224, 224, 3)\n",
      "Masks shape: (565, 224, 224)\n",
      "Labels shape: (565,)\n"
     ]
    }
   ],
   "source": [
    "images_augmented = np.array(images_augmented)\n",
    "labels_augmented = np.array(labels_augmented)\n",
    "masks_augmented = np.array(masks_augmented)\n",
    "\n",
    "print(f\"Images shape: {images_augmented.shape}\")\n",
    "print(f\"Masks shape: {masks_augmented.shape}\")\n",
    "print(f\"Labels shape: {labels_augmented.shape}\")"
   ]
  },
  {
   "cell_type": "code",
   "execution_count": 12,
   "metadata": {},
   "outputs": [],
   "source": [
    "# # Concatenate the loaded data\n",
    "# images2 = np.concatenate((images_augmented, images), axis=0)\n",
    "# labels2 = np.concatenate((labels_augmented, labels), axis=0)\n",
    "# masks2 = np.concatenate((masks_augmented, masks), axis=0)\n",
    "\n",
    "# # Now, you have NumPy arrays for the resized images, masks, and labels\n",
    "# print(f\"Images shape: {images2.shape}\")\n",
    "# print(f\"Masks shape: {masks2.shape}\")\n",
    "# print(f\"Labels shape: {labels2.shape}\")\n"
   ]
  },
  {
   "cell_type": "code",
   "execution_count": 22,
   "metadata": {},
   "outputs": [],
   "source": [
    "# Define the filenames for the pickle files\n",
    "augmented_images_pickle_file = 'augmented_apal_images.pickle'\n",
    "augmented_labels_pickle_file = 'augmented_apal_labels.pickle'\n",
    "augmented_masks_pickle_file = 'augmented_apal_masks.pickle'\n",
    "\n",
    "# Save the augmented images to a pickle file\n",
    "with open(augmented_images_pickle_file, 'wb') as file:\n",
    "    pickle.dump(images_augmented, file)\n",
    "\n",
    "# Save the augmented labels to a pickle file\n",
    "with open(augmented_labels_pickle_file, 'wb') as file:\n",
    "    pickle.dump(labels_augmented, file)\n",
    "\n",
    "# Save the augmented masks to a pickle file\n",
    "with open(augmented_masks_pickle_file, 'wb') as file:\n",
    "    pickle.dump(masks_augmented, file)"
   ]
  },
  {
   "cell_type": "markdown",
   "metadata": {},
   "source": [
    "## YOLO APAL balancing"
   ]
  },
  {
   "cell_type": "code",
   "execution_count": 3,
   "metadata": {},
   "outputs": [
    {
     "name": "stdout",
     "output_type": "stream",
     "text": [
      "Images shape: (116, 224, 224, 3)\n",
      "Labels shape: (116,)\n"
     ]
    }
   ],
   "source": [
    "\n",
    "\n",
    "# Define the filenames for the pickle files\n",
    "images = 'images_yolo.pkl'\n",
    "labels = 'labels_yolo.pkl'\n",
    "\n",
    "\n",
    "# Load the images array from the pickle file\n",
    "with open(images, 'rb') as file:\n",
    "    images = pickle.load(file)\n",
    "\n",
    "# Load the labels array from the pickle file\n",
    "with open(labels, 'rb') as file:\n",
    "    labels = pickle.load(file)\n",
    "\n",
    "    \n",
    "print(f\"Images shape: {images.shape}\")\n",
    "print(f\"Labels shape: {labels.shape}\")"
   ]
  },
  {
   "cell_type": "code",
   "execution_count": 4,
   "metadata": {},
   "outputs": [
    {
     "name": "stdout",
     "output_type": "stream",
     "text": [
      "Number of images: 116\n",
      "Number of labels: 116\n"
     ]
    }
   ],
   "source": [
    "print(\"Number of images:\", len(images))\n",
    "print(\"Number of labels:\", len(labels))\n"
   ]
  },
  {
   "cell_type": "code",
   "execution_count": 16,
   "metadata": {},
   "outputs": [],
   "source": [
    "# Define the data augmentation parameters\n",
    "datagen = ImageDataGenerator(\n",
    "    rotation_range=10,\n",
    "    zoom_range=0.1,\n",
    "    width_shift_range=0.01,\n",
    "    height_shift_range=0.01,\n",
    "    shear_range=0.01,\n",
    "    brightness_range=[0.7, 1.0],\n",
    "    fill_mode='nearest'\n",
    "    #rescale=1.0 / 255  # Add normalization here\n",
    ")"
   ]
  },
  {
   "cell_type": "code",
   "execution_count": 17,
   "metadata": {},
   "outputs": [],
   "source": [
    "# Apply data augmentation to the training set\n",
    "image_augmented = []\n",
    "label_augmented = []\n",
    "\n",
    "# Ensure the lengths of images and labels are the same\n",
    "assert len(images) == len(labels), \"Lengths of images and labels must be the same\"\n",
    "\n",
    "for i in range(len(images)):\n",
    "    # Check if there are labels for the current image\n",
    "    if i < len(labels):\n",
    "        img = images[i]\n",
    "        label = labels[i]\n",
    "\n",
    "        # Repeat augmentation for each augmented image\n",
    "        for j in range(5):\n",
    "            x_augmented = datagen.random_transform(img)\n",
    "            image_augmented.append(x_augmented)\n",
    "            label_augmented.append(label)\n"
   ]
  },
  {
   "cell_type": "code",
   "execution_count": 15,
   "metadata": {},
   "outputs": [],
   "source": [
    "# # ...\n",
    "\n",
    "# image_augmented = []\n",
    "# label_augmented = []\n",
    "\n",
    "# # Ensure the lengths of images and labels are the same\n",
    "# assert len(images) == len(labels), \"Lengths of images and labels must be the same\"\n",
    "\n",
    "# for i in range(len(images)):\n",
    "#     # Check if there are labels for the current image\n",
    "#     if i < len(labels):\n",
    "#         img = images[i]\n",
    "#         label = labels[i]\n",
    "\n",
    "#         # Repeat augmentation for each augmented image\n",
    "#         for j in range(5):\n",
    "#             x_augmented = datagen.random_transform(img)\n",
    "#             image_augmented.append(x_augmented)\n",
    "\n",
    "#             # Adjust bounding boxes in the labels\n",
    "#             augmented_boxes = []\n",
    "#             for box in label:\n",
    "#                 class_label, center_x, center_y, width, height = box\n",
    "#                 # Convert bounding box coordinates to the augmented image space\n",
    "#                 x_min = max(0, center_x - width / 2)\n",
    "#                 y_min = max(0, center_y - height / 2)\n",
    "#                 x_max = min(1, center_x + width / 2)\n",
    "#                 y_max = min(1, center_y + height / 2)\n",
    "\n",
    "#                 # Apply the same augmentation to the bounding boxes\n",
    "#                 bbox_array = np.array([x_min, y_min, x_max, y_max])\n",
    "#                 bbox_array_augmented = datagen.apply_transform(\n",
    "#                     bbox_array,\n",
    "#                     transform_parameters=datagen.get_random_transform(x_augmented.shape),\n",
    "#                 )\n",
    "\n",
    "#                 # Convert augmented bounding box coordinates back to label format\n",
    "#                 x_min_augmented, y_min_augmented, x_max_augmented, y_max_augmented = bbox_array_augmented\n",
    "#                 center_x_augmented = (x_min_augmented + x_max_augmented) / 2\n",
    "#                 center_y_augmented = (y_min_augmented + y_max_augmented) / 2\n",
    "#                 width_augmented = x_max_augmented - x_min_augmented\n",
    "#                 height_augmented = y_max_augmented - y_min_augmented\n",
    "\n",
    "#                 augmented_boxes.append([class_label, center_x_augmented, center_y_augmented, width_augmented, height_augmented])\n",
    "\n",
    "#             label_augmented.append(augmented_boxes)\n"
   ]
  },
  {
   "cell_type": "code",
   "execution_count": 18,
   "metadata": {},
   "outputs": [
    {
     "name": "stdout",
     "output_type": "stream",
     "text": [
      "Images shape: (580, 224, 224, 3)\n",
      "Labels shape: (580,)\n"
     ]
    },
    {
     "name": "stderr",
     "output_type": "stream",
     "text": [
      "/var/folders/ph/_s861md14q5c2ykky6q5pgd80000gn/T/ipykernel_82862/1863133111.py:2: VisibleDeprecationWarning: Creating an ndarray from ragged nested sequences (which is a list-or-tuple of lists-or-tuples-or ndarrays with different lengths or shapes) is deprecated. If you meant to do this, you must specify 'dtype=object' when creating the ndarray.\n",
      "  labels_augmented = np.array(label_augmented)\n"
     ]
    }
   ],
   "source": [
    "images_augmented = np.array(image_augmented)\n",
    "labels_augmented = np.array(label_augmented)\n",
    "\n",
    "print(f\"Images shape: {images_augmented.shape}\")\n",
    "print(f\"Labels shape: {labels_augmented.shape}\")"
   ]
  },
  {
   "cell_type": "code",
   "execution_count": 19,
   "metadata": {},
   "outputs": [],
   "source": [
    "# Define the filenames for the pickle files\n",
    "augmented_images_pickle_file = 'augmented_apal_images_yolo.pickle'\n",
    "augmented_labels_pickle_file = 'augmented_apal_labels_yolo.pickle'\n",
    "\n",
    "# Save the augmented images to a pickle file\n",
    "with open(augmented_images_pickle_file, 'wb') as file:\n",
    "    pickle.dump(images_augmented, file)\n",
    "\n",
    "# Save the augmented labels to a pickle file\n",
    "with open(augmented_labels_pickle_file, 'wb') as file:\n",
    "    pickle.dump(labels_augmented, file)"
   ]
  },
  {
   "cell_type": "code",
   "execution_count": null,
   "metadata": {},
   "outputs": [],
   "source": []
  },
  {
   "cell_type": "code",
   "execution_count": null,
   "metadata": {},
   "outputs": [],
   "source": []
  },
  {
   "cell_type": "code",
   "execution_count": null,
   "metadata": {},
   "outputs": [],
   "source": []
  },
  {
   "cell_type": "markdown",
   "metadata": {},
   "source": [
    "## model comparison"
   ]
  },
  {
   "cell_type": "code",
   "execution_count": 42,
   "metadata": {},
   "outputs": [
    {
     "data": {
      "image/png": "[encoded data removed]",
      "text/plain": [
       "<Figure size 800x600 with 2 Axes>"
      ]
     },
     "metadata": {},
     "output_type": "display_data"
    }
   ],
   "source": [
    "import numpy as np\n",
    "import matplotlib.pyplot as plt\n",
    "from matplotlib.cm import ScalarMappable\n",
    "\n",
    "# Define the model names and their corresponding percentages\n",
    "models = ['Random Forest', 'Logistic', 'SVM', 'Mobile Net', 'VGG16']\n",
    "percentages = [68.53, 72.85, 78.5, 92, 99]\n",
    "\n",
    "# Create a NumPy array from the percentages\n",
    "percentages_array = np.array(percentages)\n",
    "\n",
    "# Set the colormap to 'Purples'\n",
    "colormap = plt.get_cmap('Purples')\n",
    "\n",
    "# Set the figure size to 8x10 inches\n",
    "plt.figure(figsize=(8, 6))\n",
    "\n",
    "# Create a bar plot\n",
    "bars = plt.bar(models, percentages_array, color=colormap(percentages_array / 100))\n",
    "\n",
    "# Add labels and a title\n",
    "plt.xlabel('Model')\n",
    "plt.ylabel('Accuracy (%)')\n",
    "plt.title('Classification Model Accuracy Comparison')\n",
    "\n",
    "# Create a scalar mappable to display a color bar\n",
    "sm = ScalarMappable(cmap=colormap, norm=plt.Normalize(0, 100))\n",
    "sm.set_array([])  # Set the range of values for the color bar\n",
    "\n",
    "# Add the color bar to the side of the plot\n",
    "cbar = plt.colorbar(sm, ax=plt.gca(), pad=0.05)\n",
    "cbar.set_label('Percentage', rotation=90, labelpad=15)\n",
    "\n",
    "# Add percentage values on top of each bar\n",
    "for bar, percentage in zip(bars, percentages):\n",
    "    plt.text(bar.get_x() + bar.get_width() / 2, bar.get_height() + 2, f'{percentage:.2f}%', ha='center')\n",
    "\n",
    "# Show the plot\n",
    "plt.show()\n"
   ]
  },
  {
   "cell_type": "code",
   "execution_count": 40,
   "metadata": {},
   "outputs": [
    {
     "data": {
      "image/png": "[encoded data removed]",
      "text/plain": [
       "<Figure size 1200x500 with 4 Axes>"
      ]
     },
     "metadata": {},
     "output_type": "display_data"
    }
   ],
   "source": [
    "import numpy as np\n",
    "import matplotlib.pyplot as plt\n",
    "from matplotlib.cm import ScalarMappable\n",
    "\n",
    "# Define the model names and their corresponding metrics\n",
    "models = ['MobileNetV2', 'U-Net']\n",
    "pixel_accuracy = [0.76, 0.96]\n",
    "iou = [0.33, 0.83]\n",
    "dice_coefficient = [0.29, 0.881]\n",
    "\n",
    "# Set the colormap to 'Blues'\n",
    "colormap = plt.get_cmap('Purples')\n",
    "\n",
    "# Set the figure size to 12x5 inches\n",
    "plt.figure(figsize=(12, 5))\n",
    "\n",
    "# Create subplots for each metric\n",
    "ax1 = plt.subplot(1, 3, 1)\n",
    "bars1 = ax1.bar(models, pixel_accuracy, color=colormap(np.array(pixel_accuracy) / max(pixel_accuracy)))\n",
    "ax1.set_title('Pixel Accuracy', y=0.95, pad=20)  # Adjust the y position of the title\n",
    "\n",
    "ax2 = plt.subplot(1, 3, 2)\n",
    "bars2 = ax2.bar(models, iou, color=colormap(np.array(iou) / max(iou)))\n",
    "ax2.set_title('IoU', y=0.95, pad=20)  # Adjust the y position of the title\n",
    "ax2.set_ylim(0, 1)  # Set y-axis limits explicitly\n",
    "\n",
    "ax3 = plt.subplot(1, 3, 3)\n",
    "bars3 = ax3.bar(models, dice_coefficient, color=colormap(np.array(dice_coefficient) / max(dice_coefficient)))\n",
    "ax3.set_title('Dice Coefficient', y=0.95, pad=20)  # Adjust the y position of the title\n",
    "ax3.set_ylim(0, 1)  # Set y-axis limits explicitly\n",
    "\n",
    "# Adjust the layout to leave space for the titles\n",
    "plt.subplots_adjust(top=0.75)\n",
    "\n",
    "# Add labels and a title\n",
    "plt.suptitle('Segmentation Model Comparison', y=0.87)  # Adjust the y position of the title\n",
    "\n",
    "# Create a scalar mappable to display a color bar\n",
    "sm = ScalarMappable(cmap=colormap, norm=plt.Normalize(0, 1))\n",
    "sm.set_array([])  # Set the range of values for the color bar\n",
    "\n",
    "# Add the color bar to the side of the plot\n",
    "cbar = plt.colorbar(sm, ax=plt.gcf().get_axes(), pad=0.05)\n",
    "#cbar.set_label('Normalized Value', rotation=90, labelpad=15)\n",
    "\n",
    "# Show the plot\n",
    "plt.show()\n"
   ]
  },
  {
   "cell_type": "code",
   "execution_count": 41,
   "metadata": {},
   "outputs": [
    {
     "data": {
      "image/png": "[encoded data removed]",
      "text/plain": [
       "<Figure size 1200x500 with 4 Axes>"
      ]
     },
     "metadata": {},
     "output_type": "display_data"
    }
   ],
   "source": [
    "import numpy as np\n",
    "import matplotlib.pyplot as plt\n",
    "from matplotlib.cm import ScalarMappable\n",
    "\n",
    "# Define the model names and their corresponding metrics\n",
    "models = ['MobileNetV2', 'U-Net']\n",
    "pixel_accuracy = [0.76, 0.96]\n",
    "iou = [0.33, 0.83]\n",
    "dice_coefficient = [0.29, 0.881]\n",
    "\n",
    "# Set the colormap to 'Blues'\n",
    "colormap = plt.get_cmap('Purples')\n",
    "\n",
    "# Set the figure size to 12x5 inches\n",
    "plt.figure(figsize=(12, 5))\n",
    "\n",
    "# Create subplots for each metric\n",
    "ax1 = plt.subplot(1, 3, 1)\n",
    "bars1 = ax1.bar(models, pixel_accuracy, color=colormap(np.array(pixel_accuracy) / max(pixel_accuracy)))\n",
    "ax1.set_title('Pixel Accuracy', y=0.95, pad=20)  # Adjust the y position of the title\n",
    "# Add values on top of each bar\n",
    "for bar, value in zip(bars1, pixel_accuracy):\n",
    "    plt.text(bar.get_x() + bar.get_width() / 2, bar.get_height() + 0.01, f'{value:.2f}', ha='center')\n",
    "\n",
    "ax2 = plt.subplot(1, 3, 2)\n",
    "bars2 = ax2.bar(models, iou, color=colormap(np.array(iou) / max(iou)))\n",
    "ax2.set_title('IoU', y=0.95, pad=20)  # Adjust the y position of the title\n",
    "ax2.set_ylim(0, 1)  # Set y-axis limits explicitly\n",
    "# Add values on top of each bar\n",
    "for bar, value in zip(bars2, iou):\n",
    "    plt.text(bar.get_x() + bar.get_width() / 2, bar.get_height() + 0.01, f'{value:.2f}', ha='center')\n",
    "\n",
    "ax3 = plt.subplot(1, 3, 3)\n",
    "bars3 = ax3.bar(models, dice_coefficient, color=colormap(np.array(dice_coefficient) / max(dice_coefficient)))\n",
    "ax3.set_title('Dice Coefficient', y=0.95, pad=20)  # Adjust the y position of the title\n",
    "ax3.set_ylim(0, 1)  # Set y-axis limits explicitly\n",
    "# Add values on top of each bar\n",
    "for bar, value in zip(bars3, dice_coefficient):\n",
    "    plt.text(bar.get_x() + bar.get_width() / 2, bar.get_height() + 0.01, f'{value:.2f}', ha='center')\n",
    "\n",
    "# Adjust the layout to leave space for the titles\n",
    "plt.subplots_adjust(top=0.75)\n",
    "\n",
    "# Add labels and a title\n",
    "plt.suptitle('Segmentation Model Comparison', y=0.87)  # Adjust the y position of the title\n",
    "\n",
    "# Create a scalar mappable to display a color bar\n",
    "sm = ScalarMappable(cmap=colormap, norm=plt.Normalize(0, 1))\n",
    "sm.set_array([])  # Set the range of values for the color bar\n",
    "\n",
    "# Add the color bar to the side of the plot\n",
    "cbar = plt.colorbar(sm, ax=plt.gcf().get_axes(), pad=0.05)\n",
    "#cbar.set_label('Normalized Value', rotation=90, labelpad=15)\n",
    "\n",
    "# Show the plot\n",
    "plt.show()\n"
   ]
  },
  {
   "cell_type": "code",
   "execution_count": null,
   "metadata": {},
   "outputs": [],
   "source": []
  }
 ],
 "metadata": {
  "kernelspec": {
   "display_name": "tensorflow_tf",
   "language": "python",
   "name": "python3"
  },
  "language_info": {
   "codemirror_mode": {
    "name": "ipython",
    "version": 3
   },
   "file_extension": ".py",
   "mimetype": "text/x-python",
   "name": "python",
   "nbconvert_exporter": "python",
   "pygments_lexer": "ipython3",
   "version": "3.9.16"
  }
 },
 "nbformat": 4,
 "nbformat_minor": 2
}
