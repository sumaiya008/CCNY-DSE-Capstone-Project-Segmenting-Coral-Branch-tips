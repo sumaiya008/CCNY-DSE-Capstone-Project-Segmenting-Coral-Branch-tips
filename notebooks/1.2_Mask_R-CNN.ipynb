{
 "cells": [
  {
   "cell_type": "code",
   "execution_count": 1,
   "metadata": {},
   "outputs": [],
   "source": [
    "import os\n",
    "import cv2\n",
    "import xml.etree.ElementTree as ET\n",
    "import numpy as np\n",
    "\n",
    "# Define the paths to your image and annotation folders\n",
    "path_image = \"/Users/sumaiyauddin/Documents/Semester03/CCNY-DSE-Capstone-Project-Segmenting-Coral-Branch-tips/data/external/Coral_images/image\"\n",
    "path_annotations = \"/Users/sumaiyauddin/Documents/Semester03/CCNY-DSE-Capstone-Project-Segmenting-Coral-Branch-tips/data/external/Coral_images/annotation\"\n",
    "\n",
    "# Initialize lists to store images and masks\n",
    "images = []\n",
    "masks = []\n",
    "\n",
    "# Iterate through each image file in the image folder\n",
    "for image_filename in os.listdir(path_image):\n",
    "    if image_filename.lower().endswith(\".jpg\"):  # Check for image files\n",
    "        image_path = os.path.join(path_image, image_filename)\n",
    "\n",
    "        # Load the image using OpenCV\n",
    "        image = cv2.imread(image_path)\n",
    "\n",
    "        # Check if the image was loaded successfully\n",
    "        if image is not None:\n",
    "            # Resize the image to a consistent size (e.g., 224x224)\n",
    "            target_size = (224, 224)\n",
    "            image = cv2.resize(image, target_size)\n",
    "\n",
    "            # Append the image to the list of images\n",
    "            images.append(image)\n",
    "\n",
    "            # Load the corresponding mask (XML file)\n",
    "            xml_filename = os.path.splitext(image_filename)[0] + \".xml\"\n",
    "            xml_path = os.path.join(path_annotations, xml_filename)\n",
    "\n",
    "            # Check if the XML file exists\n",
    "            if os.path.exists(xml_path):\n",
    "                # Parse the XML file to extract the mask (you may need to adjust this based on your XML structure)\n",
    "                tree = ET.parse(xml_path)\n",
    "                root = tree.getroot()\n",
    "\n",
    "                # Create an empty mask for the current image\n",
    "                mask = np.zeros(target_size, dtype=np.uint8)\n",
    "\n",
    "                # Find the \"polygon\" elements and add their polygons to the mask\n",
    "                polygons = root.findall(\".//object/polygon\")\n",
    "\n",
    "                for polygon in polygons:\n",
    "                    points = polygon.find(\"points\").text.split()\n",
    "                    points = [int(p) for p in points]\n",
    "                    points = np.array(points, dtype=np.int32).reshape((-1, 2))\n",
    "                    cv2.fillPoly(mask, [points], 1)\n",
    "\n",
    "                # Append the mask to the list of masks, outside the polygons loop\n",
    "                masks.append(mask)\n",
    "            else:\n",
    "                # Handle the case where the XML mask file is missing\n",
    "                print(f\"XML mask file not found for image: {image_path}\")\n",
    "        else:\n",
    "            # Handle the case where the image cannot be loaded\n",
    "            print(f\"Image not loaded successfully: {image_path}\")\n"
   ]
  },
  {
   "cell_type": "code",
   "execution_count": 11,
   "metadata": {},
   "outputs": [
    {
     "name": "stdout",
     "output_type": "stream",
     "text": [
      "Images shape: (899, 224, 224, 3)\n",
      "Mask shape: (224, 224)\n"
     ]
    }
   ],
   "source": [
    "# Convert the image and mask lists to NumPy arrays\n",
    "images = np.array(images)\n",
    "masks = np.array(masks)\n",
    "\n",
    "# Now, check the shapes\n",
    "print(f\"Images shape: {images.shape}\")\n",
    "print(f\"Mask shape: {mask.shape}\")"
   ]
  },
  {
   "cell_type": "code",
   "execution_count": 5,
   "metadata": {},
   "outputs": [
    {
     "name": "stdout",
     "output_type": "stream",
     "text": [
      "Mask shape: (224, 224)\n"
     ]
    }
   ],
   "source": [
    "import cv2\n",
    "import numpy as np\n",
    "\n",
    "# Resize the masks to match the image size (224x224)\n",
    "resized_masks = []\n",
    "for mask in masks:\n",
    "    resized_mask = cv2.resize(mask, (224, 224), interpolation=cv2.INTER_NEAREST)\n",
    "    resized_masks.append(resized_mask)\n",
    "\n",
    "# Convert the list of resized masks to a NumPy array\n",
    "resized_masks = np.array(resized_masks)\n",
    "\n",
    "print(f\"Mask shape: {resized_mask.shape}\")"
   ]
  },
  {
   "cell_type": "code",
   "execution_count": 4,
   "metadata": {},
   "outputs": [
    {
     "ename": "",
     "evalue": "",
     "output_type": "error",
     "traceback": [
      "\u001b[1;31mThe Kernel crashed while executing code in the the current cell or a previous cell. Please review the code in the cell(s) to identify a possible cause of the failure. Click <a href='https://aka.ms/vscodeJupyterKernelCrash'>here</a> for more info. View Jupyter <a href='command:jupyter.viewOutput'>log</a> for further details."
     ]
    }
   ],
   "source": [
    "import os\n",
    "import numpy as np\n",
    "import cv2\n",
    "import xml.etree.ElementTree as ET\n",
    "from mrcnn.utils import Dataset\n",
    "\n",
    "class CoralDataset(Dataset):\n",
    "    def load_coral_dataset(self, dataset_dir, subset):\n",
    "        # Add coral classes\n",
    "        self.add_class(\"coral\", 1, \"APAL\")  # Replace with your class names\n",
    "        self.add_class(\"coral\", 2, \"Pseododiploria\")  # Replace with your class names\n",
    "        \n",
    "        # Define the path to your image and annotation directories\n",
    "        images_dir = os.path.join(dataset_dir, \"image\")\n",
    "        annotations_dir = os.path.join(dataset_dir, \"annotation\")\n",
    "\n",
    "        # List all image files in the directory\n",
    "        image_files = os.listdir(images_dir)\n",
    "\n",
    "        # Add images and annotations to the dataset\n",
    "        for i, image_file in enumerate(image_files):\n",
    "            if i < 10 and subset == \"test\":\n",
    "                continue\n",
    "            if i >= 10 and subset == \"train\":\n",
    "                continue\n",
    "\n",
    "            image_path = os.path.join(images_dir, image_file)\n",
    "            annotation_file = image_file.replace(\".jpg\", \".xml\")\n",
    "            annotation_path = os.path.join(annotations_dir, annotation_file)\n",
    "            \n",
    "            # Get image width and height (adjust if needed)\n",
    "            image = cv2.imread(image_path)\n",
    "            height, width, _ = image.shape\n",
    "\n",
    "            self.add_image(\n",
    "                \"coral\",\n",
    "                image_id=i,\n",
    "                path=image_path,\n",
    "                annotation=annotation_path,\n",
    "                width=width,\n",
    "                height=height\n",
    "            )\n",
    "\n",
    "    def load_mask(self, image_id):\n",
    "        # Load annotations from XML file\n",
    "        info = self.image_info[image_id]\n",
    "        annotation_path = info['annotation']\n",
    "        tree = ET.parse(annotation_path)\n",
    "        root = tree.getroot()\n",
    "\n",
    "        # Initialize lists for masks and class_ids\n",
    "        masks = []\n",
    "        class_ids = []\n",
    "\n",
    "        for obj in root.findall('object'):\n",
    "            class_name = obj.find('name').text\n",
    "            class_id = self.class_names.index(class_name)\n",
    "\n",
    "            # Create binary masks\n",
    "            mask = np.zeros([info['height'], info['width']], dtype=np.uint8)\n",
    "            for polygon in obj.findall('polygon'):\n",
    "                points = []\n",
    "                for pt in polygon.findall('pt'):\n",
    "                    x = int(pt.find('x').text)\n",
    "                    y = int(pt.find('y').text)\n",
    "                    points.append((x, y))\n",
    "\n",
    "                cv2.fillPoly(mask, [np.array(points)], 1)\n",
    "\n",
    "            masks.append(mask)\n",
    "            class_ids.append(class_id)\n",
    "\n",
    "        # Convert masks to a 3D array\n",
    "        masks = np.stack(masks, axis=-1)\n",
    "\n",
    "        return masks, np.array(class_ids)\n",
    "\n",
    "    def image_reference(self, image_id):\n",
    "        return self.image_info[image_id]['path']\n"
   ]
  },
  {
   "cell_type": "code",
   "execution_count": null,
   "metadata": {},
   "outputs": [],
   "source": [
    "hhh"
   ]
  }
 ],
 "metadata": {
  "kernelspec": {
   "display_name": "tensorflow_tf",
   "language": "python",
   "name": "python3"
  },
  "language_info": {
   "codemirror_mode": {
    "name": "ipython",
    "version": 3
   },
   "file_extension": ".py",
   "mimetype": "text/x-python",
   "name": "python",
   "nbconvert_exporter": "python",
   "pygments_lexer": "ipython3",
   "version": "3.9.13"
  }
 },
 "nbformat": 4,
 "nbformat_minor": 2
}
